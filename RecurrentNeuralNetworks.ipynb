{
  "nbformat": 4,
  "nbformat_minor": 0,
  "metadata": {
    "colab": {
      "name": "RecurrentNeuralNetworks.ipynb",
      "provenance": [],
      "authorship_tag": "ABX9TyPeUF9F5eekS0ZX0sazbaCn",
      "include_colab_link": true
    },
    "kernelspec": {
      "name": "python3",
      "display_name": "Python 3"
    },
    "language_info": {
      "name": "python"
    },
    "accelerator": "GPU",
    "gpuClass": "standard"
  },
  "cells": [
    {
      "cell_type": "markdown",
      "metadata": {
        "id": "view-in-github",
        "colab_type": "text"
      },
      "source": [
        "<a href=\"https://colab.research.google.com/github/lianaling/neural-networks-practice/blob/main/RecurrentNeuralNetworks.ipynb\" target=\"_parent\"><img src=\"https://colab.research.google.com/assets/colab-badge.svg\" alt=\"Open In Colab\"/></a>"
      ]
    },
    {
      "cell_type": "markdown",
      "source": [
        "# Recurrent Neural Networks\n",
        "\n",
        "[A Beginner’s Guide on Recurrent Neural Networks with PyTorch](https://blog.floydhub.com/a-beginners-guide-on-recurrent-neural-networks-with-pytorch/)"
      ],
      "metadata": {
        "id": "SGbP0l2_-o5x"
      }
    },
    {
      "cell_type": "code",
      "execution_count": 1,
      "metadata": {
        "id": "-IDxOdgs-jTD"
      },
      "outputs": [],
      "source": [
        "import torch\n",
        "from torch import nn\n",
        "\n",
        "import numpy as np"
      ]
    },
    {
      "cell_type": "markdown",
      "source": [
        "## Create Dataset"
      ],
      "metadata": {
        "id": "uEXzEn9hBd0P"
      }
    },
    {
      "cell_type": "code",
      "source": [
        "# Create dataset\n",
        "text = ['hey how are you', 'good i am fine', 'have a nice day']\n",
        "\n",
        "# Join all sentences, extract unique characters\n",
        "chars = set(''.join(text))\n",
        "\n",
        "# Create dict to map int to char\n",
        "int2char = dict(enumerate(chars))\n",
        "\n",
        "# Create dict to map char to int\n",
        "char2int = {char: ind for ind, char in int2char.items()}"
      ],
      "metadata": {
        "id": "niX2-0-r_uqC"
      },
      "execution_count": 2,
      "outputs": []
    },
    {
      "cell_type": "code",
      "source": [
        "print(char2int)"
      ],
      "metadata": {
        "colab": {
          "base_uri": "https://localhost:8080/"
        },
        "id": "hQwhe6TU1Jy-",
        "outputId": "28a43493-02ff-4d47-8ca1-34dd31d2b0c7"
      },
      "execution_count": 3,
      "outputs": [
        {
          "output_type": "stream",
          "name": "stdout",
          "text": [
            "{'f': 0, 'g': 1, ' ': 2, 'u': 3, 'a': 4, 'o': 5, 'n': 6, 'v': 7, 'd': 8, 'i': 9, 'h': 10, 'r': 11, 'w': 12, 'e': 13, 'c': 14, 'y': 15, 'm': 16}\n"
          ]
        }
      ]
    },
    {
      "cell_type": "markdown",
      "source": [
        "## Padding"
      ],
      "metadata": {
        "id": "3S1mIbSHBfqM"
      }
    },
    {
      "cell_type": "code",
      "source": [
        "# Pad input sentences so that all are of same length\n",
        "# To perform batch training\n",
        "# Each batch should be the same size\n",
        "\n",
        "# Find longest string length\n",
        "maxlen = len(max(text, key=len))\n",
        "\n",
        "# Padding\n",
        "# Add whitespace until length matches max length\n",
        "for i in range(len(text)):\n",
        "  while len(text[i]) < maxlen:\n",
        "    text[i] += ' '"
      ],
      "metadata": {
        "id": "AQ25OgvzATrj"
      },
      "execution_count": 4,
      "outputs": []
    },
    {
      "cell_type": "markdown",
      "source": [
        "## Train-Test Split"
      ],
      "metadata": {
        "id": "jq9aDjX2BhRu"
      }
    },
    {
      "cell_type": "markdown",
      "source": [
        "Remove the last char for input and first char for target seq."
      ],
      "metadata": {
        "id": "Q4sDkEw-ChIk"
      }
    },
    {
      "cell_type": "code",
      "source": [
        "input_seq = []\n",
        "target_seq = []\n",
        "\n",
        "for i in range(len(text)):\n",
        "  # Remove last char for input seq\n",
        "  input_seq.append(text[i][:-1])\n",
        "\n",
        "  # Remove first char for input seq\n",
        "  target_seq.append(text[i][1:])\n",
        "\n",
        "  print(f\"Input sequence: {input_seq[i]}\\n Target sequence: {target_seq[i]}\")"
      ],
      "metadata": {
        "id": "f2AQuIOVBlzE",
        "colab": {
          "base_uri": "https://localhost:8080/"
        },
        "outputId": "bf9b0a06-53b0-4e71-e6fa-3b6aadb036e1"
      },
      "execution_count": 5,
      "outputs": [
        {
          "output_type": "stream",
          "name": "stdout",
          "text": [
            "Input sequence: hey how are yo\n",
            " Target sequence: ey how are you\n",
            "Input sequence: good i am fine\n",
            " Target sequence: ood i am fine \n",
            "Input sequence: have a nice da\n",
            " Target sequence: ave a nice day\n"
          ]
        }
      ]
    },
    {
      "cell_type": "markdown",
      "source": [
        "This is so that the target sequence is always one time-step ahead of the input data. Target sequence is the correct answer for the model at each time step."
      ],
      "metadata": {
        "id": "d3tb4PMnCShC"
      }
    },
    {
      "cell_type": "markdown",
      "source": [
        "## Convert to One-Hot Encoding"
      ],
      "metadata": {
        "id": "vYoOvf3KC3Yk"
      }
    },
    {
      "cell_type": "code",
      "source": [
        "for i in range(len(text)):\n",
        "  input_seq[i] = [char2int[char] for char in input_seq[i]]\n",
        "  target_seq[i] = [char2int[char] for char in target_seq[i]]"
      ],
      "metadata": {
        "id": "IW3JGeoMCczI"
      },
      "execution_count": 6,
      "outputs": []
    },
    {
      "cell_type": "code",
      "source": [
        "dict_size = len(char2int) # Determine the one-hot vector size\n",
        "seq_len = maxlen - 1 # Removed last char for input_seq\n",
        "batch_size = len(text)\n",
        "\n",
        "def one_hot_encode(sequence, dict_size, seq_len, batch_size):\n",
        "  # Create multi-dim array of zeros with the desired output shape\n",
        "  features = np.zeros((batch_size, seq_len, dict_size), dtype=np.float32)\n",
        "\n",
        "  # Replace the 0 at the relevant char index with a 1 to represent that char\n",
        "  for i in range(batch_size):\n",
        "    for u in range(seq_len):\n",
        "      features[i, u, sequence[i][u]] = 1\n",
        "\n",
        "  return features"
      ],
      "metadata": {
        "id": "68R9woN4DLCm"
      },
      "execution_count": 7,
      "outputs": []
    },
    {
      "cell_type": "code",
      "source": [
        "input_seq = one_hot_encode(input_seq, dict_size, seq_len, batch_size)\n",
        "input_seq[0]"
      ],
      "metadata": {
        "id": "oxT8opuyEjO6",
        "colab": {
          "base_uri": "https://localhost:8080/"
        },
        "outputId": "6cde22bc-62d6-4b80-b27d-b2befb504231"
      },
      "execution_count": 8,
      "outputs": [
        {
          "output_type": "execute_result",
          "data": {
            "text/plain": [
              "array([[0., 0., 0., 0., 0., 0., 0., 0., 0., 0., 1., 0., 0., 0., 0., 0.,\n",
              "        0.],\n",
              "       [0., 0., 0., 0., 0., 0., 0., 0., 0., 0., 0., 0., 0., 1., 0., 0.,\n",
              "        0.],\n",
              "       [0., 0., 0., 0., 0., 0., 0., 0., 0., 0., 0., 0., 0., 0., 0., 1.,\n",
              "        0.],\n",
              "       [0., 0., 1., 0., 0., 0., 0., 0., 0., 0., 0., 0., 0., 0., 0., 0.,\n",
              "        0.],\n",
              "       [0., 0., 0., 0., 0., 0., 0., 0., 0., 0., 1., 0., 0., 0., 0., 0.,\n",
              "        0.],\n",
              "       [0., 0., 0., 0., 0., 1., 0., 0., 0., 0., 0., 0., 0., 0., 0., 0.,\n",
              "        0.],\n",
              "       [0., 0., 0., 0., 0., 0., 0., 0., 0., 0., 0., 0., 1., 0., 0., 0.,\n",
              "        0.],\n",
              "       [0., 0., 1., 0., 0., 0., 0., 0., 0., 0., 0., 0., 0., 0., 0., 0.,\n",
              "        0.],\n",
              "       [0., 0., 0., 0., 1., 0., 0., 0., 0., 0., 0., 0., 0., 0., 0., 0.,\n",
              "        0.],\n",
              "       [0., 0., 0., 0., 0., 0., 0., 0., 0., 0., 0., 1., 0., 0., 0., 0.,\n",
              "        0.],\n",
              "       [0., 0., 0., 0., 0., 0., 0., 0., 0., 0., 0., 0., 0., 1., 0., 0.,\n",
              "        0.],\n",
              "       [0., 0., 1., 0., 0., 0., 0., 0., 0., 0., 0., 0., 0., 0., 0., 0.,\n",
              "        0.],\n",
              "       [0., 0., 0., 0., 0., 0., 0., 0., 0., 0., 0., 0., 0., 0., 0., 1.,\n",
              "        0.],\n",
              "       [0., 0., 0., 0., 0., 1., 0., 0., 0., 0., 0., 0., 0., 0., 0., 0.,\n",
              "        0.]], dtype=float32)"
            ]
          },
          "metadata": {},
          "execution_count": 8
        }
      ]
    },
    {
      "cell_type": "code",
      "source": [
        "print(f\"Input shape: {input_seq.shape} --> (Batch Size, Sequence Length, One-Hot Encoding Size))\")"
      ],
      "metadata": {
        "colab": {
          "base_uri": "https://localhost:8080/"
        },
        "id": "9qGRpdH214Xr",
        "outputId": "44b89c9b-ece8-4769-eedc-c6a07da50777"
      },
      "execution_count": 9,
      "outputs": [
        {
          "output_type": "stream",
          "name": "stdout",
          "text": [
            "Input shape: (3, 14, 17) --> (Batch Size, Sequence Length, One-Hot Encoding Size))\n"
          ]
        }
      ]
    },
    {
      "cell_type": "markdown",
      "source": [
        "## Move Data From Numpy Arrays to Tensors"
      ],
      "metadata": {
        "id": "3rZ-X4n-FBkP"
      }
    },
    {
      "cell_type": "code",
      "source": [
        "input_seq = torch.from_numpy(input_seq)\n",
        "target_seq = torch.Tensor(target_seq)"
      ],
      "metadata": {
        "id": "mgSfkGxREtUj"
      },
      "execution_count": 10,
      "outputs": []
    },
    {
      "cell_type": "markdown",
      "source": [
        "## Build RNN"
      ],
      "metadata": {
        "id": "ogM6SgEMFZIc"
      }
    },
    {
      "cell_type": "code",
      "source": [
        "is_cuda = torch.cuda.is_available()\n",
        "is_cuda"
      ],
      "metadata": {
        "id": "JxImVbCPFset",
        "colab": {
          "base_uri": "https://localhost:8080/"
        },
        "outputId": "d7bcfcef-c58c-4865-af90-1edec6a6b3b2"
      },
      "execution_count": 11,
      "outputs": [
        {
          "output_type": "execute_result",
          "data": {
            "text/plain": [
              "True"
            ]
          },
          "metadata": {},
          "execution_count": 11
        }
      ]
    },
    {
      "cell_type": "code",
      "source": [
        "device = torch.device(\"cuda\") if is_cuda else torch.device('cpu')"
      ],
      "metadata": {
        "id": "s76iYIAxFW39"
      },
      "execution_count": 12,
      "outputs": []
    },
    {
      "cell_type": "code",
      "source": [
        "torch.cuda.get_device_name()"
      ],
      "metadata": {
        "id": "geL21AvyFrr_",
        "colab": {
          "base_uri": "https://localhost:8080/"
        },
        "outputId": "18758a30-32cc-4c71-88cf-370a76a77548"
      },
      "execution_count": 13,
      "outputs": [
        {
          "output_type": "execute_result",
          "data": {
            "text/plain": [
              "'NVIDIA GeForce RTX 3050 Ti Laptop GPU'"
            ]
          },
          "metadata": {},
          "execution_count": 13
        }
      ]
    },
    {
      "cell_type": "markdown",
      "source": [
        "One layer of RNN and one fully-connected layer (FC)"
      ],
      "metadata": {
        "id": "wPvfZEfPGFDj"
      }
    },
    {
      "cell_type": "markdown",
      "source": [
        "[LSTM network inside a Sequential container](https://discuss.pytorch.org/t/lstm-network-inside-a-sequential-container/19304/2)\n",
        "<br />\n",
        "[How to flatten input in `nn.Sequential` in Pytorch](https://stackoverflow.com/questions/53953460/how-to-flatten-input-in-nn-sequential-in-pytorch)"
      ],
      "metadata": {
        "id": "jbdQSBHxMCud"
      }
    },
    {
      "cell_type": "code",
      "source": [
        "class ContiguousView(nn.Module):\n",
        "  def __init__(self, hidden_dim) -> None:\n",
        "      super().__init__()\n",
        "      self.hidden_dim = hidden_dim\n",
        "\n",
        "  def forward(self, x):\n",
        "      return x.contiguous().view(-1, self.hidden_dim)"
      ],
      "metadata": {
        "id": "vzvEJ7EzVZGt"
      },
      "execution_count": 14,
      "outputs": []
    },
    {
      "cell_type": "code",
      "source": [
        "# Own implementation of RNN using sequential\n",
        "\n",
        "from collections import OrderedDict\n",
        "\n",
        "class ModelSeq(nn.Module):\n",
        "  def __init__(self, input_size, output_size, hidden_dim, n_layers) -> None:\n",
        "      super(ModelSeq, self).__init__()\n",
        "\n",
        "      self.hidden_dim = hidden_dim\n",
        "      self.n_layers = n_layers\n",
        "\n",
        "      self.net = nn.Sequential(\n",
        "          OrderedDict([\n",
        "                       ('rnn1', nn.RNN(input_size, hidden_dim, n_layers, batch_first=True)),\n",
        "                       ('flatten1', ContiguousView(hidden_dim)),\n",
        "                       ('output', nn.Linear(hidden_dim, output_size))\n",
        "          ])\n",
        "      )\n",
        "\n",
        "  def forward(self, x):\n",
        "    batch_size = x.size(0)\n",
        "\n",
        "    hidden = self.init_hidden(batch_size)\n",
        "    \n",
        "    out, hidden = self.net[0](x, hidden)\n",
        "    # out = out.contiguous().view(-1, self.hidden_dim)\n",
        "    out = self.net[1](out)\n",
        "    out = self.net[2](out)\n",
        "\n",
        "    return out, hidden\n",
        "  \n",
        "  def init_hidden(self, batch_size):\n",
        "    '''Generates the first hidden state of zeros. Move tensor to device.'''\n",
        "    hidden = torch.zeros(self.n_layers, batch_size, self.hidden_dim).to(device)\n",
        "    return hidden"
      ],
      "metadata": {
        "id": "yOh4CCQiGBDH"
      },
      "execution_count": 15,
      "outputs": []
    },
    {
      "cell_type": "code",
      "source": [
        "class Model(nn.Module):\n",
        "  def __init__(self, input_size, output_size, hidden_dim, n_layers) -> None:\n",
        "      super(Model, self).__init__()\n",
        "\n",
        "      self.hidden_dim = hidden_dim\n",
        "      self.n_layers = n_layers\n",
        "\n",
        "      self.rnn = nn.RNN(input_size, hidden_dim, n_layers, batch_first=True)\n",
        "      self.fc = nn.Linear(hidden_dim, output_size)\n",
        "\n",
        "  def forward(self, x):\n",
        "    batch_size = x.size(0)\n",
        "\n",
        "    # Init hidden state\n",
        "    hidden = self.init_hidden(batch_size)\n",
        "\n",
        "    out, hidden = self.rnn(x, hidden)\n",
        "\n",
        "    # Reshape outputs to fit into FC\n",
        "    out = out.contiguous().view(-1, self.hidden_dim)\n",
        "    out = self.fc(out)\n",
        "\n",
        "    return out, hidden\n",
        "  \n",
        "  def init_hidden(self, batch_size):\n",
        "    '''Generates the first hidden state of zeros. Move tensor to device.'''\n",
        "    hidden = torch.zeros(self.n_layers, batch_size, self.hidden_dim).to(device)\n",
        "    return hidden"
      ],
      "metadata": {
        "id": "7w7FOyGSJIw3"
      },
      "execution_count": 16,
      "outputs": []
    },
    {
      "cell_type": "code",
      "source": [
        "class ModelAns(nn.Module):\n",
        "    def __init__(self, input_size, output_size, hidden_dim, n_layers):\n",
        "        super(ModelAns, self).__init__()\n",
        "\n",
        "        # Defining some parameters\n",
        "        self.hidden_dim = hidden_dim\n",
        "        self.n_layers = n_layers\n",
        "\n",
        "        #Defining the layers\n",
        "        # RNN Layer\n",
        "        self.rnn = nn.RNN(input_size, hidden_dim, n_layers, batch_first=True)   \n",
        "        # Fully connected layer\n",
        "        self.fc = nn.Linear(hidden_dim, output_size)\n",
        "    \n",
        "    def forward(self, x):\n",
        "        \n",
        "        batch_size = x.size(0)\n",
        "\n",
        "        #Initializing hidden state for first input using method defined below\n",
        "        hidden = self.init_hidden(batch_size)\n",
        "\n",
        "        # Passing in the input and hidden state into the model and obtaining outputs\n",
        "        out, hidden = self.rnn(x, hidden)\n",
        "        \n",
        "        # Reshaping the outputs such that it can be fit into the fully connected layer\n",
        "        out = out.contiguous().view(-1, self.hidden_dim)\n",
        "        out = self.fc(out)\n",
        "        \n",
        "        return out, hidden\n",
        "    \n",
        "    def init_hidden(self, batch_size):\n",
        "        # This method generates the first hidden state of zeros which we'll use in the forward pass\n",
        "        hidden = torch.zeros(self.n_layers, batch_size, self.hidden_dim).to(device)\n",
        "         # We'll send the tensor holding the hidden state to the device we specified earlier as well\n",
        "        return hidden"
      ],
      "metadata": {
        "id": "A-yLt9gG2b8l"
      },
      "execution_count": 17,
      "outputs": []
    },
    {
      "cell_type": "markdown",
      "source": [
        "## Train model\n",
        "\n",
        "[Practical Guide to Hyperparameters Optimization for Deep Learning Models](https://blog.floydhub.com/guide-to-hyperparameters-search-for-deep-learning-models/)"
      ],
      "metadata": {
        "id": "o5nMEpUpKfX-"
      }
    },
    {
      "cell_type": "code",
      "source": [
        "# Training hyperparameters\n",
        "n_epochs = 100\n",
        "learning_rate = 0.01"
      ],
      "metadata": {
        "id": "oTzJUGyGKeNM"
      },
      "execution_count": 18,
      "outputs": []
    },
    {
      "cell_type": "code",
      "source": [
        "model_seq = ModelSeq(input_size=dict_size, output_size=dict_size, hidden_dim=12, n_layers=1)"
      ],
      "metadata": {
        "id": "RNCNLexZPyfY"
      },
      "execution_count": 19,
      "outputs": []
    },
    {
      "cell_type": "code",
      "source": [
        "model = Model(input_size=dict_size, output_size=dict_size, hidden_dim=12, n_layers=1)"
      ],
      "metadata": {
        "id": "jATX9-dYLrnb"
      },
      "execution_count": 20,
      "outputs": []
    },
    {
      "cell_type": "code",
      "source": [
        "model_ans = ModelAns(input_size=dict_size, output_size=dict_size, hidden_dim=12, n_layers=1)"
      ],
      "metadata": {
        "id": "not4ygj_2fbR"
      },
      "execution_count": 21,
      "outputs": []
    },
    {
      "cell_type": "code",
      "source": [
        "model_seq.to(device)"
      ],
      "metadata": {
        "colab": {
          "base_uri": "https://localhost:8080/"
        },
        "id": "7TfegnIGaGUP",
        "outputId": "2b3800b5-bc7c-4ab3-fc7a-bd8170f8967e"
      },
      "execution_count": 22,
      "outputs": [
        {
          "output_type": "execute_result",
          "data": {
            "text/plain": [
              "ModelSeq(\n",
              "  (net): Sequential(\n",
              "    (rnn1): RNN(17, 12, batch_first=True)\n",
              "    (flatten1): ContiguousView()\n",
              "    (output): Linear(in_features=12, out_features=17, bias=True)\n",
              "  )\n",
              ")"
            ]
          },
          "metadata": {},
          "execution_count": 22
        }
      ]
    },
    {
      "cell_type": "code",
      "source": [
        "model.to(device)"
      ],
      "metadata": {
        "colab": {
          "base_uri": "https://localhost:8080/"
        },
        "id": "OnbcCkoE2qP_",
        "outputId": "be9ef61d-921d-43c5-dabb-40cfd59950b6"
      },
      "execution_count": 23,
      "outputs": [
        {
          "output_type": "execute_result",
          "data": {
            "text/plain": [
              "Model(\n",
              "  (rnn): RNN(17, 12, batch_first=True)\n",
              "  (fc): Linear(in_features=12, out_features=17, bias=True)\n",
              ")"
            ]
          },
          "metadata": {},
          "execution_count": 23
        }
      ]
    },
    {
      "cell_type": "code",
      "source": [
        "model_ans.to(device)"
      ],
      "metadata": {
        "colab": {
          "base_uri": "https://localhost:8080/"
        },
        "id": "HQ5KvVbN2sCC",
        "outputId": "cbe42b36-c5a6-488b-bcd3-3f6d50e071d1"
      },
      "execution_count": 24,
      "outputs": [
        {
          "output_type": "execute_result",
          "data": {
            "text/plain": [
              "ModelAns(\n",
              "  (rnn): RNN(17, 12, batch_first=True)\n",
              "  (fc): Linear(in_features=12, out_features=17, bias=True)\n",
              ")"
            ]
          },
          "metadata": {},
          "execution_count": 24
        }
      ]
    },
    {
      "cell_type": "code",
      "source": [
        "# Define loss and optimiser\n",
        "criterion = nn.CrossEntropyLoss()"
      ],
      "metadata": {
        "id": "xjVHENDrQLl8"
      },
      "execution_count": 25,
      "outputs": []
    },
    {
      "cell_type": "code",
      "source": [
        "opt_seq = torch.optim.Adam(model_seq.parameters(), lr=learning_rate)"
      ],
      "metadata": {
        "id": "-B9SpOEa2y5H"
      },
      "execution_count": 26,
      "outputs": []
    },
    {
      "cell_type": "code",
      "source": [
        "opt = torch.optim.Adam(model.parameters(), lr=learning_rate)"
      ],
      "metadata": {
        "id": "VVNYBDxN205o"
      },
      "execution_count": 27,
      "outputs": []
    },
    {
      "cell_type": "code",
      "source": [
        "opt_ans = torch.optim.Adam(model_ans.parameters(), lr=learning_rate)"
      ],
      "metadata": {
        "id": "fCJHNoPT21-_"
      },
      "execution_count": 28,
      "outputs": []
    },
    {
      "cell_type": "code",
      "source": [
        "def fit(x, y, model, loss_fn, opt, epochs):\n",
        "  for epoch in range(1, epochs + 1):\n",
        "    opt.zero_grad()\n",
        "    x.to(device)\n",
        "    out, hidden = model(x)\n",
        "    out = out.to(device)\n",
        "    loss = criterion(out, y.view(-1).long())\n",
        "    loss.backward()\n",
        "    opt.step()\n",
        "\n",
        "    if epoch % 10 == 0:\n",
        "      print(f\"Epoch: {epoch}/{epochs}..........\", end=' ')\n",
        "      print(f\"Loss: {loss.item():.4f}\")"
      ],
      "metadata": {
        "id": "KiZ6of9MQQMn"
      },
      "execution_count": 29,
      "outputs": []
    },
    {
      "cell_type": "code",
      "source": [
        "print(\"Model Seq\")\n",
        "fit(input_seq.to(device), target_seq.to(device), model_seq, criterion, opt_seq, n_epochs)"
      ],
      "metadata": {
        "colab": {
          "base_uri": "https://localhost:8080/"
        },
        "id": "tNbZzZbSRq35",
        "outputId": "02d924c3-64df-4ca9-c2b0-ba80b2f467a1"
      },
      "execution_count": 30,
      "outputs": [
        {
          "output_type": "stream",
          "name": "stdout",
          "text": [
            "Model Seq\n",
            "Epoch: 10/100.......... Loss: 2.4428\n",
            "Epoch: 20/100.......... Loss: 2.2039\n",
            "Epoch: 30/100.......... Loss: 1.8386\n",
            "Epoch: 40/100.......... Loss: 1.4331\n",
            "Epoch: 50/100.......... Loss: 1.0645\n",
            "Epoch: 60/100.......... Loss: 0.7607\n",
            "Epoch: 70/100.......... Loss: 0.5329\n",
            "Epoch: 80/100.......... Loss: 0.3770\n",
            "Epoch: 90/100.......... Loss: 0.2739\n",
            "Epoch: 100/100.......... Loss: 0.2068\n"
          ]
        }
      ]
    },
    {
      "cell_type": "code",
      "source": [
        "print(\"Model\")\n",
        "fit(input_seq.to(device), target_seq.to(device), model, criterion, opt, n_epochs)"
      ],
      "metadata": {
        "colab": {
          "base_uri": "https://localhost:8080/"
        },
        "id": "MRfFZvL0SDiA",
        "outputId": "bcc90173-2700-4783-9d26-df544aca6f94"
      },
      "execution_count": 31,
      "outputs": [
        {
          "output_type": "stream",
          "name": "stdout",
          "text": [
            "Model\n",
            "Epoch: 10/100.......... Loss: 2.4148\n",
            "Epoch: 20/100.......... Loss: 2.1107\n",
            "Epoch: 30/100.......... Loss: 1.7219\n",
            "Epoch: 40/100.......... Loss: 1.3321\n",
            "Epoch: 50/100.......... Loss: 0.9997\n",
            "Epoch: 60/100.......... Loss: 0.7419\n",
            "Epoch: 70/100.......... Loss: 0.5526\n",
            "Epoch: 80/100.......... Loss: 0.4064\n",
            "Epoch: 90/100.......... Loss: 0.2978\n",
            "Epoch: 100/100.......... Loss: 0.2208\n"
          ]
        }
      ]
    },
    {
      "cell_type": "code",
      "source": [
        "print(\"Model Ans\")\n",
        "fit(input_seq.to(device), target_seq.to(device), model_ans, criterion, opt_ans, n_epochs)"
      ],
      "metadata": {
        "colab": {
          "base_uri": "https://localhost:8080/"
        },
        "id": "CpMUfT9q25if",
        "outputId": "eb2dbac0-424c-4e07-a9f9-9eb28581da6f"
      },
      "execution_count": 32,
      "outputs": [
        {
          "output_type": "stream",
          "name": "stdout",
          "text": [
            "Model Ans\n",
            "Epoch: 10/100.......... Loss: 2.4856\n",
            "Epoch: 20/100.......... Loss: 2.0716\n",
            "Epoch: 30/100.......... Loss: 1.6410\n",
            "Epoch: 40/100.......... Loss: 1.2557\n",
            "Epoch: 50/100.......... Loss: 0.9091\n",
            "Epoch: 60/100.......... Loss: 0.6245\n",
            "Epoch: 70/100.......... Loss: 0.4223\n",
            "Epoch: 80/100.......... Loss: 0.2892\n",
            "Epoch: 90/100.......... Loss: 0.2054\n",
            "Epoch: 100/100.......... Loss: 0.1536\n"
          ]
        }
      ]
    },
    {
      "cell_type": "markdown",
      "source": [
        "## Predict Output"
      ],
      "metadata": {
        "id": "3miXRBcK7MbU"
      }
    },
    {
      "cell_type": "markdown",
      "source": [
        "[Solution to input tensors found on CPU but hidden tensors on cuda:0](https://stackoverflow.com/questions/51605893/why-doesnt-my-simple-pytorch-network-work-on-gpu-device)"
      ],
      "metadata": {
        "id": "o7vCvEyXz_Lw"
      }
    },
    {
      "cell_type": "code",
      "source": [
        "def predict(model, char):\n",
        "  '''Takes in the model and char as arguments and returns the next char prediction and hidden state.'''\n",
        "  char = np.array([[char2int[c] for c in char]])\n",
        "  char = one_hot_encode(char, dict_size, char.shape[1], 1)\n",
        "  char = torch.from_numpy(char)\n",
        "  char = char.to(device) # chars.to(device) without assignment operator will not work.\n",
        "  # torch.nn.Module.to() changes the variable itself (in-place operator)\n",
        "  # torch.Tensornto() does not change inputs. Returns a copy of inputs that resides on device.\n",
        "\n",
        "  out, hidden = model(char)\n",
        "  out = out.to(device)\n",
        "\n",
        "  prob = nn.functional.softmax(out[-1], dim=0).data\n",
        "  # Take class with the highest probability score from the output\n",
        "  char_ind = torch.max(prob, dim=0)[1].item()\n",
        "\n",
        "  return int2char[char_ind], hidden"
      ],
      "metadata": {
        "id": "scWIGdQe7O6O"
      },
      "execution_count": 33,
      "outputs": []
    },
    {
      "cell_type": "code",
      "source": [
        "def sample(model, out_len, start='hey'):\n",
        "  model.eval() # Eval mode\n",
        "  start = start.lower()\n",
        "  chars = [ch for ch in start]\n",
        "  size = out_len - len(chars)\n",
        "\n",
        "  for ii in range(size):\n",
        "    char, h = predict(model, chars)\n",
        "    chars.append(char)\n",
        "\n",
        "  return ''.join(chars)"
      ],
      "metadata": {
        "id": "3Zf_7ABE76pK"
      },
      "execution_count": 34,
      "outputs": []
    },
    {
      "cell_type": "code",
      "source": [
        "sample(model_seq, 15, 'hey')"
      ],
      "metadata": {
        "colab": {
          "base_uri": "https://localhost:8080/"
        },
        "id": "l0tdWXHB8eUr",
        "outputId": "e860badf-aa13-49e5-d240-e3393aa57eec"
      },
      "execution_count": 35,
      "outputs": [
        {
          "output_type": "execute_result",
          "data": {
            "text/plain": [
              "'hey how are you'"
            ]
          },
          "metadata": {},
          "execution_count": 35
        }
      ]
    },
    {
      "cell_type": "code",
      "source": [
        "sample(model_seq, 15, 'have')"
      ],
      "metadata": {
        "colab": {
          "base_uri": "https://localhost:8080/"
        },
        "id": "mgLgZWNS4Kw_",
        "outputId": "59ca2388-8ad9-44ba-e554-ca48079fc56e"
      },
      "execution_count": 36,
      "outputs": [
        {
          "output_type": "execute_result",
          "data": {
            "text/plain": [
              "'have a nice day'"
            ]
          },
          "metadata": {},
          "execution_count": 36
        }
      ]
    },
    {
      "cell_type": "code",
      "source": [
        "sample(model_seq, 15, 'good')"
      ],
      "metadata": {
        "colab": {
          "base_uri": "https://localhost:8080/"
        },
        "id": "4JjNCDYo4McI",
        "outputId": "95af4297-b5c0-4693-9014-75a406ef0ef8"
      },
      "execution_count": 37,
      "outputs": [
        {
          "output_type": "execute_result",
          "data": {
            "text/plain": [
              "'good i am fine '"
            ]
          },
          "metadata": {},
          "execution_count": 37
        }
      ]
    },
    {
      "cell_type": "code",
      "source": [
        "sample(model, 15, 'hey')"
      ],
      "metadata": {
        "colab": {
          "base_uri": "https://localhost:8080/"
        },
        "id": "J9nE7uds8aAT",
        "outputId": "218a0e81-0ae9-43c6-ecea-3ec08a24c6b6"
      },
      "execution_count": 38,
      "outputs": [
        {
          "output_type": "execute_result",
          "data": {
            "text/plain": [
              "'hey how are you'"
            ]
          },
          "metadata": {},
          "execution_count": 38
        }
      ]
    },
    {
      "cell_type": "code",
      "source": [
        "sample(model, 15, 'have')"
      ],
      "metadata": {
        "colab": {
          "base_uri": "https://localhost:8080/"
        },
        "id": "bU0sQcQi4Okp",
        "outputId": "8cd13969-e92b-49ab-c50d-1294f77c7048"
      },
      "execution_count": 39,
      "outputs": [
        {
          "output_type": "execute_result",
          "data": {
            "text/plain": [
              "'have a nice day'"
            ]
          },
          "metadata": {},
          "execution_count": 39
        }
      ]
    },
    {
      "cell_type": "code",
      "source": [
        "sample(model, 15, 'good')"
      ],
      "metadata": {
        "colab": {
          "base_uri": "https://localhost:8080/"
        },
        "id": "0zuE2fh14QTy",
        "outputId": "46ba4ec5-e136-4e58-fd39-e988c776dcab"
      },
      "execution_count": 40,
      "outputs": [
        {
          "output_type": "execute_result",
          "data": {
            "text/plain": [
              "'good i am fine '"
            ]
          },
          "metadata": {},
          "execution_count": 40
        }
      ]
    },
    {
      "cell_type": "code",
      "source": [
        "sample(model_ans, 15, 'hey')"
      ],
      "metadata": {
        "colab": {
          "base_uri": "https://localhost:8080/"
        },
        "id": "IpsFv6RR3Jgy",
        "outputId": "cdaaa597-1f63-42fe-fee2-36130d4bf54e"
      },
      "execution_count": 41,
      "outputs": [
        {
          "output_type": "execute_result",
          "data": {
            "text/plain": [
              "'hey how are you'"
            ]
          },
          "metadata": {},
          "execution_count": 41
        }
      ]
    },
    {
      "cell_type": "code",
      "source": [
        "sample(model_ans, 15, 'have')"
      ],
      "metadata": {
        "colab": {
          "base_uri": "https://localhost:8080/"
        },
        "id": "-z-dDpeS4SMd",
        "outputId": "3edc5934-1e24-4797-a94c-638291d15a47"
      },
      "execution_count": 42,
      "outputs": [
        {
          "output_type": "execute_result",
          "data": {
            "text/plain": [
              "'have a nice day'"
            ]
          },
          "metadata": {},
          "execution_count": 42
        }
      ]
    },
    {
      "cell_type": "code",
      "source": [
        "sample(model_ans, 15, 'good')"
      ],
      "metadata": {
        "id": "MN31Q6824VcG",
        "outputId": "53d06f2d-c9d3-4a77-d9c3-6f86e7372051",
        "colab": {
          "base_uri": "https://localhost:8080/"
        }
      },
      "execution_count": 43,
      "outputs": [
        {
          "output_type": "execute_result",
          "data": {
            "text/plain": [
              "'good i am fine '"
            ]
          },
          "metadata": {},
          "execution_count": 43
        }
      ]
    },
    {
      "cell_type": "markdown",
      "source": [
        "Why doesn't model give good results? Model architecture is the same. Not sure what went wrong as compared to the tutorial. (The problem is at the `one_hot_encoding` function where the `return` should be at the same level of indentation with the outer `for` loop.)"
      ],
      "metadata": {
        "id": "Dx1nNiHO-878"
      }
    }
  ]
}