{
  "nbformat": 4,
  "nbformat_minor": 0,
  "metadata": {
    "colab": {
      "name": "Pytorch_Basics.ipynb",
      "provenance": [],
      "collapsed_sections": [],
      "authorship_tag": "ABX9TyO4aDDth0mau7+WNEfO/+ke",
      "include_colab_link": true
    },
    "kernelspec": {
      "name": "python3",
      "display_name": "Python 3"
    },
    "language_info": {
      "name": "python"
    },
    "accelerator": "GPU",
    "gpuClass": "standard"
  },
  "cells": [
    {
      "cell_type": "markdown",
      "metadata": {
        "id": "view-in-github",
        "colab_type": "text"
      },
      "source": [
        "<a href=\"https://colab.research.google.com/github/lianaling/neural-networks-practice/blob/main/Pytorch_Basics.ipynb\" target=\"_parent\"><img src=\"https://colab.research.google.com/assets/colab-badge.svg\" alt=\"Open In Colab\"/></a>"
      ]
    },
    {
      "cell_type": "markdown",
      "source": [
        "# Pytorch Basics\n",
        "\n",
        "[Reference link](https://www.marktechpost.com/2021/01/09/getting-started-with-pytorch-in-google-collab-with-free-gpu/)"
      ],
      "metadata": {
        "id": "sYN5Ik6KWkP0"
      }
    },
    {
      "cell_type": "markdown",
      "source": [
        "## Pytorch Tensors"
      ],
      "metadata": {
        "id": "9MjoomFCWwSt"
      }
    },
    {
      "cell_type": "code",
      "source": [
        "from google.colab import drive\n",
        "from os.path import join\n",
        "ROOT = '/content/drive'\n",
        "print(ROOT)\n",
        "drive.mount(ROOT)"
      ],
      "metadata": {
        "colab": {
          "base_uri": "https://localhost:8080/"
        },
        "id": "KAFDm6PN2_PD",
        "outputId": "71233ba7-ea5f-46a8-a780-b72cd09af28b"
      },
      "execution_count": null,
      "outputs": [
        {
          "output_type": "stream",
          "name": "stdout",
          "text": [
            "/content/drive\n",
            "Mounted at /content/drive\n"
          ]
        }
      ]
    },
    {
      "cell_type": "code",
      "source": [
        "import torch\n",
        "import numpy\n",
        "import matplotlib.pyplot as plt"
      ],
      "metadata": {
        "id": "p10T9NVxWtWs"
      },
      "execution_count": null,
      "outputs": []
    },
    {
      "cell_type": "code",
      "source": [
        "x= torch.ones(3,2)\n",
        "x"
      ],
      "metadata": {
        "colab": {
          "base_uri": "https://localhost:8080/"
        },
        "id": "dwIFG6-GXIpt",
        "outputId": "b9ebad0f-2156-41d5-b7d8-422c3c68e750"
      },
      "execution_count": null,
      "outputs": [
        {
          "output_type": "execute_result",
          "data": {
            "text/plain": [
              "tensor([[1., 1.],\n",
              "        [1., 1.],\n",
              "        [1., 1.]])"
            ]
          },
          "metadata": {},
          "execution_count": 51
        }
      ]
    },
    {
      "cell_type": "code",
      "source": [
        "x=torch.zeros(3, 2)\n",
        "x"
      ],
      "metadata": {
        "colab": {
          "base_uri": "https://localhost:8080/"
        },
        "id": "alPnlXoJXVkC",
        "outputId": "503e1b0e-030c-40de-dc82-30f98464ee87"
      },
      "execution_count": null,
      "outputs": [
        {
          "output_type": "execute_result",
          "data": {
            "text/plain": [
              "tensor([[0., 0.],\n",
              "        [0., 0.],\n",
              "        [0., 0.]])"
            ]
          },
          "metadata": {},
          "execution_count": 52
        }
      ]
    },
    {
      "cell_type": "markdown",
      "source": [
        "Random initialisation"
      ],
      "metadata": {
        "id": "z7-I_O4MYOmW"
      }
    },
    {
      "cell_type": "code",
      "source": [
        "torch.manual_seed(2)\n",
        "x = torch.rand(3, 2)\n",
        "x"
      ],
      "metadata": {
        "colab": {
          "base_uri": "https://localhost:8080/"
        },
        "id": "M-quw_nQXsRh",
        "outputId": "a1512231-5bf6-487c-cf05-7caeba4ed7ce"
      },
      "execution_count": null,
      "outputs": [
        {
          "output_type": "execute_result",
          "data": {
            "text/plain": [
              "tensor([[0.6147, 0.3810],\n",
              "        [0.6371, 0.4745],\n",
              "        [0.7136, 0.6190]])"
            ]
          },
          "metadata": {},
          "execution_count": 53
        }
      ]
    },
    {
      "cell_type": "markdown",
      "source": [
        "Generate tensor randomly from normal distribution"
      ],
      "metadata": {
        "id": "FGQ7E8B5Yd2t"
      }
    },
    {
      "cell_type": "code",
      "source": [
        "x = torch.randn(3, 3)\n",
        "x"
      ],
      "metadata": {
        "colab": {
          "base_uri": "https://localhost:8080/"
        },
        "id": "5BNlGQbIYh3P",
        "outputId": "ffc8914d-41f8-4121-c052-7d6d33d84a13"
      },
      "execution_count": null,
      "outputs": [
        {
          "output_type": "execute_result",
          "data": {
            "text/plain": [
              "tensor([[-2.1409, -0.5534, -0.5000],\n",
              "        [-0.0815, -0.1633,  1.5277],\n",
              "        [-0.4023,  0.0972, -0.5682]])"
            ]
          },
          "metadata": {},
          "execution_count": 54
        }
      ]
    },
    {
      "cell_type": "markdown",
      "source": [
        "## Simple Tensor Operations"
      ],
      "metadata": {
        "id": "xeA3_MmbYllc"
      }
    },
    {
      "cell_type": "markdown",
      "source": [
        "Slicing of tensors"
      ],
      "metadata": {
        "id": "5oSBNaHFY3Ek"
      }
    },
    {
      "cell_type": "code",
      "source": [
        "x = torch.tensor([[1, 2],\n",
        "                 [3, 4],\n",
        "                 [5, 6]])\n",
        "\n",
        "print(x[:, 1]) # Every row, only the last column\n",
        "print(x[0, :]) # Every column in the first row\n",
        "y = x[1, 1] # Element in the first row and first column\n",
        "print(y)"
      ],
      "metadata": {
        "colab": {
          "base_uri": "https://localhost:8080/"
        },
        "id": "9WW4PRWWYpND",
        "outputId": "133bafba-dd2f-4e0d-e218-6ecb32cbf497"
      },
      "execution_count": null,
      "outputs": [
        {
          "output_type": "stream",
          "name": "stdout",
          "text": [
            "tensor([2, 4, 6])\n",
            "tensor([1, 2])\n",
            "tensor(4)\n"
          ]
        }
      ]
    },
    {
      "cell_type": "markdown",
      "source": [
        "Reshape tensor"
      ],
      "metadata": {
        "id": "P8zA2CbwZQ9l"
      }
    },
    {
      "cell_type": "code",
      "source": [
        "x = torch.tensor([[1, 2],\n",
        "                 [3, 4],\n",
        "                 [5, 6]]) # 3 x 2\n",
        "\n",
        "print(x)\n",
        "\n",
        "y = x.view(2, 3) # 2 x 3\n",
        "print(y)"
      ],
      "metadata": {
        "colab": {
          "base_uri": "https://localhost:8080/"
        },
        "id": "nDcSdIKgZH4J",
        "outputId": "39ac4820-4e14-4587-cf6b-75a441012483"
      },
      "execution_count": null,
      "outputs": [
        {
          "output_type": "stream",
          "name": "stdout",
          "text": [
            "tensor([[1, 2],\n",
            "        [3, 4],\n",
            "        [5, 6]])\n",
            "tensor([[1, 2, 3],\n",
            "        [4, 5, 6]])\n"
          ]
        }
      ]
    },
    {
      "cell_type": "markdown",
      "source": [
        "`-1` indicates that the shape will be inferred from previous dimensions (autoset col/row based on already-set row/col value)"
      ],
      "metadata": {
        "id": "eABnoPwXZqHV"
      }
    },
    {
      "cell_type": "code",
      "source": [
        "x = torch.tensor([[1, 2],\n",
        "                 [3, 4],\n",
        "                 [5, 6]]) # 3 x 2\n",
        "\n",
        "print(x)\n",
        "\n",
        "y = x.view(6, -1) # 6 x 1\n",
        "\n",
        "print(y)"
      ],
      "metadata": {
        "colab": {
          "base_uri": "https://localhost:8080/"
        },
        "id": "ynnIVPY4Zhe4",
        "outputId": "a2c254c2-03c5-405a-d8c3-cbd1ffc4f259"
      },
      "execution_count": null,
      "outputs": [
        {
          "output_type": "stream",
          "name": "stdout",
          "text": [
            "tensor([[1, 2],\n",
            "        [3, 4],\n",
            "        [5, 6]])\n",
            "tensor([[1],\n",
            "        [2],\n",
            "        [3],\n",
            "        [4],\n",
            "        [5],\n",
            "        [6]])\n"
          ]
        }
      ]
    },
    {
      "cell_type": "code",
      "source": [
        "x = torch.ones(3, 2)\n",
        "y = torch.ones(3, 2)\n",
        "\n",
        "print(x)\n",
        "print(y)\n",
        "\n",
        "# Add\n",
        "z = x + y # Method 1\n",
        "z = torch.add(x, y) # Method 2\n",
        "\n",
        "print(z)\n",
        "\n",
        "# Subtract\n",
        "z = x - y # Method 1\n",
        "torch.sub(x, y) # Method 2\n",
        "\n",
        "print(z)"
      ],
      "metadata": {
        "colab": {
          "base_uri": "https://localhost:8080/"
        },
        "id": "pRdhTubAZ6bF",
        "outputId": "da468a25-f03d-4fcb-996a-182b8d165b3a"
      },
      "execution_count": null,
      "outputs": [
        {
          "output_type": "stream",
          "name": "stdout",
          "text": [
            "tensor([[1., 1.],\n",
            "        [1., 1.],\n",
            "        [1., 1.]])\n",
            "tensor([[1., 1.],\n",
            "        [1., 1.],\n",
            "        [1., 1.]])\n",
            "tensor([[2., 2.],\n",
            "        [2., 2.],\n",
            "        [2., 2.]])\n",
            "tensor([[0., 0.],\n",
            "        [0., 0.],\n",
            "        [0., 0.]])\n"
          ]
        }
      ]
    },
    {
      "cell_type": "markdown",
      "source": [
        "## Pytorch to Numpy"
      ],
      "metadata": {
        "id": "E7TxMYucbAg6"
      }
    },
    {
      "cell_type": "code",
      "source": [
        "x = torch.linspace(0 ,1, steps=5) # linspace: evenly spaced steps within range\n",
        "x_np = x.numpy() # Convert tensor to numpy\n",
        "print(type(x), type(x_np))"
      ],
      "metadata": {
        "colab": {
          "base_uri": "https://localhost:8080/"
        },
        "id": "WGr3PO9ubDrA",
        "outputId": "02e06c41-7919-4ed2-d7fc-7e50488ba26c"
      },
      "execution_count": null,
      "outputs": [
        {
          "output_type": "stream",
          "name": "stdout",
          "text": [
            "<class 'torch.Tensor'> <class 'numpy.ndarray'>\n"
          ]
        }
      ]
    },
    {
      "cell_type": "code",
      "source": [
        "import numpy as np\n",
        "\n",
        "a = np.random.randn(5) # Generate random numpy array\n",
        "a_pt = torch.from_numpy(a) # Convert numpy array to tensor\n",
        "print(type(a), type(a_pt))"
      ],
      "metadata": {
        "colab": {
          "base_uri": "https://localhost:8080/"
        },
        "id": "InZjDQawbZen",
        "outputId": "505a4ebf-4036-4d27-b627-c761927d4096"
      },
      "execution_count": null,
      "outputs": [
        {
          "output_type": "stream",
          "name": "stdout",
          "text": [
            "<class 'numpy.ndarray'> <class 'torch.Tensor'>\n"
          ]
        }
      ]
    },
    {
      "cell_type": "markdown",
      "source": [
        "## CUDA Support"
      ],
      "metadata": {
        "id": "5lxlGi8_bqAK"
      }
    },
    {
      "cell_type": "code",
      "source": [
        "print(torch.cuda.device_count())"
      ],
      "metadata": {
        "colab": {
          "base_uri": "https://localhost:8080/"
        },
        "id": "loH5y6EqbuIV",
        "outputId": "02cc662d-26af-47ca-f628-ccb7526270c6"
      },
      "execution_count": null,
      "outputs": [
        {
          "output_type": "stream",
          "name": "stdout",
          "text": [
            "1\n"
          ]
        }
      ]
    },
    {
      "cell_type": "code",
      "source": [
        "print(torch.cuda.get_device_name())"
      ],
      "metadata": {
        "colab": {
          "base_uri": "https://localhost:8080/"
        },
        "id": "I7H_Zg3obyGM",
        "outputId": "ae06c633-5ebe-4c90-fd1d-a63748b9dd5e"
      },
      "execution_count": null,
      "outputs": [
        {
          "output_type": "stream",
          "name": "stdout",
          "text": [
            "Tesla T4\n"
          ]
        }
      ]
    },
    {
      "cell_type": "markdown",
      "source": [
        "Reference this GPU with variable to allocate all CUDA tensors on that device"
      ],
      "metadata": {
        "id": "nNC2z_aRb4Ln"
      }
    },
    {
      "cell_type": "code",
      "source": [
        "cuda0 = torch.device('cuda:0')\n",
        "\n",
        "a = torch.ones(3, 2, device=cuda0) # Create tensor on GPU\n",
        "b = torch.ones(3, 2, device=cuda0)\n",
        "\n",
        "c = a + b\n",
        "\n",
        "print(c)"
      ],
      "metadata": {
        "colab": {
          "base_uri": "https://localhost:8080/"
        },
        "id": "anGVvt_ScA0W",
        "outputId": "01d3a7b9-2842-4798-e3ca-d773534deeea"
      },
      "execution_count": null,
      "outputs": [
        {
          "output_type": "stream",
          "name": "stdout",
          "text": [
            "tensor([[2., 2.],\n",
            "        [2., 2.],\n",
            "        [2., 2.]], device='cuda:0')\n"
          ]
        }
      ]
    },
    {
      "cell_type": "markdown",
      "source": [
        "Move results to CPU"
      ],
      "metadata": {
        "id": "lyFwyK8WcfQ-"
      }
    },
    {
      "cell_type": "code",
      "source": [
        "c = c.cpu()\n",
        "\n",
        "print(c)"
      ],
      "metadata": {
        "colab": {
          "base_uri": "https://localhost:8080/"
        },
        "id": "eEjVOF4tceLc",
        "outputId": "9d3acebf-af59-4572-b24c-594422c0bbc3"
      },
      "execution_count": null,
      "outputs": [
        {
          "output_type": "stream",
          "name": "stdout",
          "text": [
            "tensor([[2., 2.],\n",
            "        [2., 2.],\n",
            "        [2., 2.]])\n"
          ]
        }
      ]
    },
    {
      "cell_type": "markdown",
      "source": [
        "## Automatic Differentiation\n",
        "\n",
        "AKA autograd in Pytorch.\n",
        "\n",
        "Automatic gradient computation on all operations on tensors.\n",
        "\n",
        "Backprop defined by how code is run."
      ],
      "metadata": {
        "id": "LVdQRC15cn_8"
      }
    },
    {
      "cell_type": "code",
      "source": [
        "x = torch.ones([3, 2], requires_grad=True) # To track all operations performing on that tensor\n",
        "x"
      ],
      "metadata": {
        "colab": {
          "base_uri": "https://localhost:8080/"
        },
        "id": "zua1sS3Tcyfu",
        "outputId": "67040246-d4f8-4dbd-8ec1-e02825ba10b7"
      },
      "execution_count": null,
      "outputs": [
        {
          "output_type": "execute_result",
          "data": {
            "text/plain": [
              "tensor([[1., 1.],\n",
              "        [1., 1.],\n",
              "        [1., 1.]], requires_grad=True)"
            ]
          },
          "metadata": {},
          "execution_count": 65
        }
      ]
    },
    {
      "cell_type": "code",
      "source": [
        "y = x + 5\n",
        "y"
      ],
      "metadata": {
        "colab": {
          "base_uri": "https://localhost:8080/"
        },
        "id": "irjXXcKLc9hh",
        "outputId": "7307341d-58d6-4c09-8e79-0c41df86500f"
      },
      "execution_count": null,
      "outputs": [
        {
          "output_type": "execute_result",
          "data": {
            "text/plain": [
              "tensor([[6., 6.],\n",
              "        [6., 6.],\n",
              "        [6., 6.]], grad_fn=<AddBackward0>)"
            ]
          },
          "metadata": {},
          "execution_count": 66
        }
      ]
    },
    {
      "cell_type": "markdown",
      "source": [
        "Because `y` was created as a result of operation on `x`, it has `grad_fn`."
      ],
      "metadata": {
        "id": "zZUHxee3dCsV"
      }
    },
    {
      "cell_type": "code",
      "source": [
        "z = y * y + 1\n",
        "z"
      ],
      "metadata": {
        "colab": {
          "base_uri": "https://localhost:8080/"
        },
        "id": "iXq23dQ1dBXx",
        "outputId": "36b686f0-1dbf-49e2-eeb4-ec0d42387adc"
      },
      "execution_count": null,
      "outputs": [
        {
          "output_type": "execute_result",
          "data": {
            "text/plain": [
              "tensor([[37., 37.],\n",
              "        [37., 37.],\n",
              "        [37., 37.]], grad_fn=<AddBackward0>)"
            ]
          },
          "metadata": {},
          "execution_count": 67
        }
      ]
    },
    {
      "cell_type": "code",
      "source": [
        "t = torch.sum(z) # Adding all the values in z\n",
        "t"
      ],
      "metadata": {
        "colab": {
          "base_uri": "https://localhost:8080/"
        },
        "id": "JEUzQCghdMi_",
        "outputId": "b19f7d40-c3e5-4ca1-84fc-cda6b2dfc032"
      },
      "execution_count": null,
      "outputs": [
        {
          "output_type": "execute_result",
          "data": {
            "text/plain": [
              "tensor(222., grad_fn=<SumBackward0>)"
            ]
          },
          "metadata": {},
          "execution_count": 68
        }
      ]
    },
    {
      "cell_type": "markdown",
      "source": [
        "## Backpropagation"
      ],
      "metadata": {
        "id": "hG7If38BdTYS"
      }
    },
    {
      "cell_type": "code",
      "source": [
        "t.backward() # Perform backprop. No output is printed"
      ],
      "metadata": {
        "id": "bnGKTU2GdYHD"
      },
      "execution_count": null,
      "outputs": []
    },
    {
      "cell_type": "markdown",
      "source": [
        "Print gradients `d(t)/dx`"
      ],
      "metadata": {
        "id": "iUDZ9n3rde3P"
      }
    },
    {
      "cell_type": "code",
      "source": [
        "print(x.grad)"
      ],
      "metadata": {
        "colab": {
          "base_uri": "https://localhost:8080/"
        },
        "id": "maddeoradduN",
        "outputId": "43b0bbd6-aa0a-4b08-f5d3-bc3202f12895"
      },
      "execution_count": null,
      "outputs": [
        {
          "output_type": "stream",
          "name": "stdout",
          "text": [
            "tensor([[12., 12.],\n",
            "        [12., 12.],\n",
            "        [12., 12.]])\n"
          ]
        }
      ]
    },
    {
      "cell_type": "markdown",
      "source": [
        "`x,grad` will give the partial derivative of `t` with respect to `x`.\n",
        "\n",
        "[Vector, Matrix, and Tensor Derivatives](http://cs231n.stanford.edu/vecDerivs.pdf)\n",
        "\n",
        "[PyTorch 101, Part 1: Understanding Graphs, Automatic Differentiation and Autograd](https://blog.paperspace.com/pytorch-101-understanding-graphs-and-automatic-differentiation/)\n",
        "\n",
        "```py\n",
        "d(t)/dx = d(t)/dz * dz/dy * dy/dx\n",
        "= sum(z) * (y * y + 1) * (x + 5)\n",
        "= (?) * (2y)  * 1\n",
        "= 2y + 1 (correct answer)\n",
        "\n",
        "dt/dz = (not sure how)\n",
        "\n",
        "dz/dy = y^2 + 1\n",
        "= 2y\n",
        "\n",
        "dy/dx = x + 5\n",
        "= 1\n",
        "\n",
        "```"
      ],
      "metadata": {
        "id": "X9Thw_rcdlr8"
      }
    },
    {
      "cell_type": "markdown",
      "source": [
        "An easier example of autograd\n",
        "\n",
        "![image.png](data:image/png;base64,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)\n",
        "\n",
        "```py\n",
        "dz/dx = dz/dy * dy/dx\n",
        "dz/dx = 4y * 1\n",
        "\n",
        "# Working\n",
        "dz/dy = 2y^2\n",
        "dz/dy = 4y\n",
        "\n",
        "dy/dx = 1\n",
        "\n",
        "# When x = 1\n",
        "y = 1 + 2\n",
        "y = 3\n",
        "\n",
        "# Answer\n",
        "dz/dx = 4 * 3 = 12\n",
        "```"
      ],
      "metadata": {
        "id": "MkQuWCW560fJ"
      }
    }
  ]
}