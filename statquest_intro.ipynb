{
 "cells": [
  {
   "cell_type": "markdown",
   "metadata": {},
   "source": [
    "# Import Dependencies"
   ]
  },
  {
   "cell_type": "code",
   "execution_count": 1,
   "metadata": {},
   "outputs": [],
   "source": [
    "import torch\n",
    "import torch.nn as nn\n",
    "import torch.nn.functional as F\n",
    "from torch.optim import SGD\n",
    "\n",
    "import matplotlib.pyplot as plt\n",
    "import seaborn as sns"
   ]
  },
  {
   "cell_type": "markdown",
   "metadata": {},
   "source": [
    "# Create a New Neural Network Template\n",
    "\n",
    "![](neural_network.png)\n",
    "\n",
    "By creating a new class"
   ]
  },
  {
   "cell_type": "code",
   "execution_count": 10,
   "metadata": {},
   "outputs": [],
   "source": [
    "class BasicNN(nn.Module): # Inherit\n",
    "\n",
    "    def __init__(self):\n",
    "        '''Create params for weights and biases.'''\n",
    "        super().__init__()\n",
    "\n",
    "        # Init weights and biases\n",
    "        self.w00 = nn.Parameter(torch.tensor(1.7), requires_grad=False) # No need \"requires gradient\" because don't need to optimise. Use tensors to accelerate computing\n",
    "        self.b00 = nn.Parameter(torch.tensor(-0.85), requires_grad=False)\n",
    "        self.w01 = nn.Parameter(torch.tensor(-40.8), requires_grad=False)\n",
    "\n",
    "        self.w10 = nn.Parameter(torch.tensor(12.6), requires_grad=False)\n",
    "        self.b10 = nn.Parameter(torch.tensor(0.0), requires_grad=False)\n",
    "        self.w11 = nn.Parameter(torch.tensor(2.7), requires_grad=False)\n",
    "\n",
    "        self.final_bias = nn.Parameter(torch.tensor(-16.0), requires_grad=False)\n",
    "\n",
    "    def forward(self, input):\n",
    "        '''Connect weights and biases to inputs, activation functions, outputs. Done by doing a forward pass. Run the input through the NN'''\n",
    "        \n",
    "        input_to_top_relu = input * self.w00 + self.b00\n",
    "        top_relu_output = F.relu(input_to_top_relu) # Activation function output\n",
    "        scaled_top_relu_output = top_relu_output * self.w01\n",
    "\n",
    "        input_to_bottom_relu = input * self.w10 + self.b10\n",
    "        bottom_relu_output = F.relu(input_to_bottom_relu)\n",
    "        scaled_bottom_relu_output = bottom_relu_output * self.w11\n",
    "\n",
    "        input_to_final_relu = scaled_top_relu_output + scaled_bottom_relu_output + self.final_bias\n",
    "\n",
    "        output = F.relu(input_to_final_relu)\n",
    "\n",
    "        return output"
   ]
  },
  {
   "cell_type": "markdown",
   "metadata": {},
   "source": [
    "## Unoptimised NN"
   ]
  },
  {
   "cell_type": "code",
   "execution_count": 16,
   "metadata": {},
   "outputs": [],
   "source": [
    "class BasicNN_train(nn.Module): # Inherit\n",
    "\n",
    "    def __init__(self):\n",
    "        '''Create params for weights and biases.'''\n",
    "        super().__init__()\n",
    "\n",
    "        # Init weights and biases\n",
    "        self.w00 = nn.Parameter(torch.tensor(1.7), requires_grad=False) # No need \"requires gradient\" because don't need to optimise. Use tensors to accelerate computing\n",
    "        self.b00 = nn.Parameter(torch.tensor(-0.85), requires_grad=False)\n",
    "        self.w01 = nn.Parameter(torch.tensor(-40.8), requires_grad=False)\n",
    "\n",
    "        self.w10 = nn.Parameter(torch.tensor(12.6), requires_grad=False)\n",
    "        self.b10 = nn.Parameter(torch.tensor(0.0), requires_grad=False)\n",
    "        self.w11 = nn.Parameter(torch.tensor(2.7), requires_grad=False)\n",
    "\n",
    "        self.final_bias = nn.Parameter(torch.tensor(0.0), requires_grad=True) # Changed here, this param should be optimised\n",
    "\n",
    "    def forward(self, input):\n",
    "        '''Connect weights and biases to inputs, activation functions, outputs. Done by doing a forward pass. Run the input through the NN'''\n",
    "        \n",
    "        input_to_top_relu = input * self.w00 + self.b00\n",
    "        top_relu_output = F.relu(input_to_top_relu) # Activation function output\n",
    "        scaled_top_relu_output = top_relu_output * self.w01\n",
    "\n",
    "        input_to_bottom_relu = input * self.w10 + self.b10\n",
    "        bottom_relu_output = F.relu(input_to_bottom_relu)\n",
    "        scaled_bottom_relu_output = bottom_relu_output * self.w11\n",
    "\n",
    "        input_to_final_relu = scaled_top_relu_output + scaled_bottom_relu_output + self.final_bias\n",
    "\n",
    "        output = F.relu(input_to_final_relu)\n",
    "\n",
    "        return output"
   ]
  },
  {
   "cell_type": "markdown",
   "metadata": {},
   "source": [
    "# Test New NN"
   ]
  },
  {
   "cell_type": "markdown",
   "metadata": {},
   "source": [
    "## Create Input Data"
   ]
  },
  {
   "cell_type": "code",
   "execution_count": 17,
   "metadata": {},
   "outputs": [
    {
     "data": {
      "text/plain": [
       "tensor([0.0000, 0.1000, 0.2000, 0.3000, 0.4000, 0.5000, 0.6000, 0.7000, 0.8000,\n",
       "        0.9000, 1.0000])"
      ]
     },
     "execution_count": 17,
     "metadata": {},
     "output_type": "execute_result"
    }
   ],
   "source": [
    "input_doses = torch.linspace(start=0, end=1, steps=11) # Create tensor with a sequence of 11 values from 0 to 1 inclusive.\n",
    "input_doses"
   ]
  },
  {
   "cell_type": "markdown",
   "metadata": {},
   "source": [
    "## Create NN"
   ]
  },
  {
   "cell_type": "code",
   "execution_count": 18,
   "metadata": {},
   "outputs": [],
   "source": [
    "model = BasicNN() # Standard Pytorch name"
   ]
  },
  {
   "cell_type": "code",
   "execution_count": 19,
   "metadata": {},
   "outputs": [
    {
     "data": {
      "text/plain": [
       "tensor([0.0000, 0.0000, 0.0000, 0.0000, 0.0000, 1.0100, 0.0000, 0.0000, 0.0000,\n",
       "        0.0000, 0.0000])"
      ]
     },
     "execution_count": 19,
     "metadata": {},
     "output_type": "execute_result"
    }
   ],
   "source": [
    "output_values = model(input_doses)\n",
    "output_values"
   ]
  },
  {
   "cell_type": "markdown",
   "metadata": {},
   "source": [
    "## Draw Graph"
   ]
  },
  {
   "cell_type": "code",
   "execution_count": 30,
   "metadata": {},
   "outputs": [],
   "source": [
    "def draw_graph(input_doses=input_doses, output_values=output_values):\n",
    "    '''Draw graph for `output_values` over `input_doses`'''\n",
    "\n",
    "    sns.set(style='whitegrid')\n",
    "\n",
    "    sns.lineplot(x=input_doses, y=output_values.detach(), color='green', linewidth=2.5)\n",
    "    # .detach() to create a tensor that only has the values. Used when parameter has a gradient.\n",
    "\n",
    "    plt.ylabel('Effectiveness')\n",
    "    plt.xlabel('Dose')"
   ]
  },
  {
   "cell_type": "code",
   "execution_count": 28,
   "metadata": {},
   "outputs": [
    {
     "data": {
      "image/png": "[encoded data removed]",
      "text/plain": [
       "<Figure size 432x288 with 1 Axes>"
      ]
     },
     "metadata": {},
     "output_type": "display_data"
    }
   ],
   "source": [
    "draw_graph(input_doses=input_doses,output_values=output_values)"
   ]
  },
  {
   "cell_type": "markdown",
   "metadata": {},
   "source": [
    "# Train NN With Back Propagation"
   ]
  },
  {
   "cell_type": "markdown",
   "metadata": {},
   "source": [
    "## Check Performance"
   ]
  },
  {
   "cell_type": "code",
   "execution_count": 36,
   "metadata": {},
   "outputs": [],
   "source": [
    "input_doses_train = input_doses"
   ]
  },
  {
   "cell_type": "code",
   "execution_count": 37,
   "metadata": {},
   "outputs": [],
   "source": [
    "model_train = BasicNN_train()"
   ]
  },
  {
   "cell_type": "code",
   "execution_count": 38,
   "metadata": {},
   "outputs": [],
   "source": [
    "output_values_train = model_train(input_doses_train)"
   ]
  },
  {
   "cell_type": "code",
   "execution_count": 39,
   "metadata": {},
   "outputs": [
    {
     "data": {
      "image/png": "[encoded data removed]",
      "text/plain": [
       "<Figure size 432x288 with 1 Axes>"
      ]
     },
     "metadata": {},
     "output_type": "display_data"
    }
   ],
   "source": [
    "draw_graph(input_doses=input_doses_train, output_values=output_values_train)"
   ]
  },
  {
   "cell_type": "markdown",
   "metadata": {},
   "source": [
    "## Create Training Data"
   ]
  },
  {
   "cell_type": "code",
   "execution_count": 40,
   "metadata": {},
   "outputs": [],
   "source": [
    "inputs = torch.tensor([0.0, 0.5, 1.0])\n",
    "labels = torch.tensor([0.0, 1.0, 0.0])"
   ]
  },
  {
   "cell_type": "markdown",
   "metadata": {},
   "source": [
    "## Optimise NN"
   ]
  },
  {
   "cell_type": "code",
   "execution_count": 41,
   "metadata": {},
   "outputs": [],
   "source": [
    "def train(model=model):\n",
    "    '''Optimise trainable parameters with SGD and back propagation.'''\n",
    "    \n",
    "    optimizer = SGD(model.parameters(), lr=0.1) # .parameters() will optimise Parameter objects whose require_grad=True\n",
    "\n",
    "    print(\"Final bias, before optimization: \" + str(model_train.final_bias.data) + \"\\n\")\n",
    "\n",
    "    # Stochastic Gradient Descent\n",
    "    for epoch in range(100): # Repeat until total loss is small enough/reached 100 epochs\n",
    "\n",
    "        total_loss = 0\n",
    "\n",
    "        for iteration in range(len(inputs)):\n",
    "\n",
    "            input_i = inputs[iteration]\n",
    "            label_i = labels[iteration]\n",
    "\n",
    "            output_i = model(input_i)\n",
    "\n",
    "            loss = (output_i - label_i) ** 2 # Squared residual\n",
    "\n",
    "            loss.backward() # Calculate derivative of loss function (d SR1 / d bfinal). It adds to the previoius derivatie (accumulates).\n",
    "\n",
    "            total_loss += float(loss)\n",
    "\n",
    "        if (total_loss < 0.0001): # Check is loss is small enough\n",
    "            print(\"Number of steps: \" + str(epoch))\n",
    "            break\n",
    "\n",
    "        optimizer.step() # Change step size if loss is not small enough. Also keep tracks of the derivatives.\n",
    "        optimizer.zero_grad() # To clear all the derivatives from the previous step size\n",
    "\n",
    "        print(\"Step: \" + str(epoch) + \"\\nTotal Loss: \" + str(total_loss) + \"\\nFinal Bias: \" + str(model.final_bias.data) + \"\\n\")\n",
    "\n",
    "    print(\"Final bias, after optimization\", str(model.final_bias.data) + \"\\n\")"
   ]
  },
  {
   "cell_type": "code",
   "execution_count": 42,
   "metadata": {},
   "outputs": [
    {
     "name": "stdout",
     "output_type": "stream",
     "text": [
      "Final bias, before optimization: tensor(0.)\n",
      "\n",
      "Step: 0\n",
      "Total Loss: 256.3200988769531\n",
      "Final Bias: tensor(-3.2020)\n",
      "\n",
      "Step: 1\n",
      "Total Loss: 164.0448760986328\n",
      "Final Bias: tensor(-5.7636)\n",
      "\n",
      "Step: 2\n",
      "Total Loss: 104.98870849609375\n",
      "Final Bias: tensor(-7.8129)\n",
      "\n",
      "Step: 3\n",
      "Total Loss: 67.1927719116211\n",
      "Final Bias: tensor(-9.4523)\n",
      "\n",
      "Step: 4\n",
      "Total Loss: 43.00336837768555\n",
      "Final Bias: tensor(-10.7638)\n",
      "\n",
      "Step: 5\n",
      "Total Loss: 27.522159576416016\n",
      "Final Bias: tensor(-11.8131)\n",
      "\n",
      "Step: 6\n",
      "Total Loss: 17.614181518554688\n",
      "Final Bias: tensor(-12.6525)\n",
      "\n",
      "Step: 7\n",
      "Total Loss: 11.273076057434082\n",
      "Final Bias: tensor(-13.3240)\n",
      "\n",
      "Step: 8\n",
      "Total Loss: 7.21476936340332\n",
      "Final Bias: tensor(-13.8612)\n",
      "\n",
      "Step: 9\n",
      "Total Loss: 4.6174516677856445\n",
      "Final Bias: tensor(-14.2909)\n",
      "\n",
      "Step: 10\n",
      "Total Loss: 2.9551703929901123\n",
      "Final Bias: tensor(-14.6348)\n",
      "\n",
      "Step: 11\n",
      "Total Loss: 1.8913096189498901\n",
      "Final Bias: tensor(-14.9098)\n",
      "\n",
      "Step: 12\n",
      "Total Loss: 1.210437297821045\n",
      "Final Bias: tensor(-15.1298)\n",
      "\n",
      "Step: 13\n",
      "Total Loss: 0.7746805548667908\n",
      "Final Bias: tensor(-15.3059)\n",
      "\n",
      "Step: 14\n",
      "Total Loss: 0.49579527974128723\n",
      "Final Bias: tensor(-15.4467)\n",
      "\n",
      "Step: 15\n",
      "Total Loss: 0.3173092007637024\n",
      "Final Bias: tensor(-15.5594)\n",
      "\n",
      "Step: 16\n",
      "Total Loss: 0.20307788252830505\n",
      "Final Bias: tensor(-15.6495)\n",
      "\n",
      "Step: 17\n",
      "Total Loss: 0.12997011840343475\n",
      "Final Bias: tensor(-15.7216)\n",
      "\n",
      "Step: 18\n",
      "Total Loss: 0.0831809863448143\n",
      "Final Bias: tensor(-15.7793)\n",
      "\n",
      "Step: 19\n",
      "Total Loss: 0.053235918283462524\n",
      "Final Bias: tensor(-15.8254)\n",
      "\n",
      "Step: 20\n",
      "Total Loss: 0.03407112881541252\n",
      "Final Bias: tensor(-15.8623)\n",
      "\n",
      "Step: 21\n",
      "Total Loss: 0.021805522963404655\n",
      "Final Bias: tensor(-15.8919)\n",
      "\n",
      "Step: 22\n",
      "Total Loss: 0.013955534435808659\n",
      "Final Bias: tensor(-15.9155)\n",
      "\n",
      "Step: 23\n",
      "Total Loss: 0.008931614458560944\n",
      "Final Bias: tensor(-15.9344)\n",
      "\n",
      "Step: 24\n",
      "Total Loss: 0.005716175306588411\n",
      "Final Bias: tensor(-15.9495)\n",
      "\n",
      "Step: 25\n",
      "Total Loss: 0.003658306086435914\n",
      "Final Bias: tensor(-15.9616)\n",
      "\n",
      "Step: 26\n",
      "Total Loss: 0.0023413528688251972\n",
      "Final Bias: tensor(-15.9713)\n",
      "\n",
      "Step: 27\n",
      "Total Loss: 0.0014984363224357367\n",
      "Final Bias: tensor(-15.9790)\n",
      "\n",
      "Step: 28\n",
      "Total Loss: 0.0009589992114342749\n",
      "Final Bias: tensor(-15.9852)\n",
      "\n",
      "Step: 29\n",
      "Total Loss: 0.0006137784221209586\n",
      "Final Bias: tensor(-15.9902)\n",
      "\n",
      "Step: 30\n",
      "Total Loss: 0.00039280304918065667\n",
      "Final Bias: tensor(-15.9941)\n",
      "\n",
      "Step: 31\n",
      "Total Loss: 0.0002514060470275581\n",
      "Final Bias: tensor(-15.9973)\n",
      "\n",
      "Step: 32\n",
      "Total Loss: 0.00016090471763163805\n",
      "Final Bias: tensor(-15.9999)\n",
      "\n",
      "Step: 33\n",
      "Total Loss: 0.00010298288543708622\n",
      "Final Bias: tensor(-16.0019)\n",
      "\n",
      "Number of steps: 34\n",
      "Final bias, after optimization tensor(-16.0019)\n",
      "\n"
     ]
    }
   ],
   "source": [
    "train(model=model_train)"
   ]
  },
  {
   "cell_type": "markdown",
   "metadata": {},
   "source": [
    "## Evaluate Results"
   ]
  },
  {
   "cell_type": "code",
   "execution_count": 45,
   "metadata": {},
   "outputs": [
    {
     "data": {
      "image/png": "[encoded data removed]",
      "text/plain": [
       "<Figure size 432x288 with 1 Axes>"
      ]
     },
     "metadata": {},
     "output_type": "display_data"
    }
   ],
   "source": [
    "output_values_train = model_train(input_doses_train)\n",
    "\n",
    "draw_graph(input_doses=input_doses_train, output_values=output_values_train)"
   ]
  }
 ],
 "metadata": {
  "interpreter": {
   "hash": "448d656ae229840efb4a2607df3bf451950dc06f640ef71c65ec3c954e20deec"
  },
  "kernelspec": {
   "display_name": "Python 3.9.7 ('venv': venv)",
   "language": "python",
   "name": "python3"
  },
  "language_info": {
   "codemirror_mode": {
    "name": "ipython",
    "version": 3
   },
   "file_extension": ".py",
   "mimetype": "text/x-python",
   "name": "python",
   "nbconvert_exporter": "python",
   "pygments_lexer": "ipython3",
   "version": "3.9.7"
  },
  "orig_nbformat": 4
 },
 "nbformat": 4,
 "nbformat_minor": 2
}
