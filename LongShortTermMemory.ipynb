{
  "cells": [
    {
      "cell_type": "markdown",
      "metadata": {
        "id": "view-in-github",
        "colab_type": "text"
      },
      "source": [
        "<a href=\"https://colab.research.google.com/github/lianaling/neural-networks-practice/blob/main/LongShortTermMemory.ipynb\" target=\"_parent\"><img src=\"https://colab.research.google.com/assets/colab-badge.svg\" alt=\"Open In Colab\"/></a>"
      ]
    },
    {
      "cell_type": "markdown",
      "metadata": {
        "id": "KvlaYZpeAYub"
      },
      "source": [
        "# Long Short-Term Memory (LSTM)\n",
        "\n",
        "[Long Short-Term Memory: From Zero to Hero with PyTorch](https://blog.floydhub.com/long-short-term-memory-from-zero-to-hero-with-pytorch/)"
      ]
    },
    {
      "cell_type": "markdown",
      "metadata": {
        "id": "mZM8RGG2FAA-"
      },
      "source": [
        "## Starter\n",
        "\n",
        "[Starter code](https://github.com/gabrielloye/LSTM_Sentiment-Analysis/blob/master/LSTM_starter.ipynb)"
      ]
    },
    {
      "cell_type": "code",
      "execution_count": null,
      "metadata": {
        "id": "UErFwom5AOOh"
      },
      "outputs": [],
      "source": [
        "import torch\n",
        "import torch.nn as nn"
      ]
    },
    {
      "cell_type": "code",
      "execution_count": null,
      "metadata": {
        "id": "urda4KQ0CBPv"
      },
      "outputs": [],
      "source": [
        "input_dim = 5\n",
        "hidden_dim = 10 # size of hidden state at each time step (+ cell state)\n",
        "n_layers = 1 # Number of LSTM layers stacked on top of each other\n",
        "\n",
        "lstm_layer = nn.LSTM(input_dim, hidden_dim, n_layers, batch_first=True)"
      ]
    },
    {
      "cell_type": "code",
      "execution_count": null,
      "metadata": {
        "id": "RzkVt09UCQBM"
      },
      "outputs": [],
      "source": [
        "batch_size = 1\n",
        "seq_len = 1\n",
        "\n",
        "inp = torch.randn(batch_size, seq_len, input_dim)\n",
        "hidden_state = torch.randn(n_layers, batch_size, hidden_dim)\n",
        "cell_state = torch.randn(n_layers, batch_size, hidden_dim)\n",
        "hidden = (hidden_state, cell_state)"
      ]
    },
    {
      "cell_type": "code",
      "execution_count": null,
      "metadata": {
        "colab": {
          "base_uri": "https://localhost:8080/"
        },
        "id": "ic13Jcj1FRE9",
        "outputId": "f4816894-4cc2-4c02-b859-1afba2d5d15e"
      },
      "outputs": [
        {
          "output_type": "stream",
          "name": "stdout",
          "text": [
            "Input shape: torch.Size([1, 1, 5])\n",
            "Hidden shape: (torch.Size([1, 1, 10]), torch.Size([1, 1, 10]))\n"
          ]
        }
      ],
      "source": [
        "print(f\"Input shape: {inp.shape}\")\n",
        "print(f\"Hidden shape: ({hidden[0].shape}, {hidden[1].shape})\")"
      ]
    },
    {
      "cell_type": "code",
      "execution_count": null,
      "metadata": {
        "colab": {
          "base_uri": "https://localhost:8080/"
        },
        "id": "k1Y-6qhwFhTb",
        "outputId": "7a36fb63-c716-43cf-bbee-c688ebbc7dd9"
      },
      "outputs": [
        {
          "output_type": "stream",
          "name": "stdout",
          "text": [
            "Output shape: torch.Size([1, 1, 10])\n",
            "Hidden: (tensor([[[-0.3462, -0.1440,  0.2058,  0.1699, -0.1973, -0.1195,  0.0247,\n",
            "           0.1188, -0.6920, -0.0289]]], grad_fn=<StackBackward0>), tensor([[[-0.4555, -1.4273,  0.5158,  0.4372, -0.6880, -0.2065,  0.1680,\n",
            "           0.7552, -1.0719, -0.1585]]], grad_fn=<StackBackward0>))\n"
          ]
        }
      ],
      "source": [
        "out, hidden = lstm_layer(inp, hidden)\n",
        "print(f\"Output shape: {out.shape}\")\n",
        "print(f\"Hidden: {hidden}\")"
      ]
    },
    {
      "cell_type": "code",
      "execution_count": null,
      "metadata": {
        "colab": {
          "base_uri": "https://localhost:8080/"
        },
        "id": "ly4st29JFzvU",
        "outputId": "65a0ede9-b769-4eb9-e31f-f8b88ee33369"
      },
      "outputs": [
        {
          "output_type": "stream",
          "name": "stdout",
          "text": [
            "Output shape: torch.Size([1, 3, 10]) --> (Batch Size, Sequence Length, Hidden Dimensions)\n"
          ]
        }
      ],
      "source": [
        "seq_len = 3\n",
        "inp = torch.rand(batch_size, seq_len, input_dim)\n",
        "out, hidden = lstm_layer(inp, hidden)\n",
        "print(f\"Output shape: {out.shape} --> (Batch Size, Sequence Length, Hidden Dimensions)\")"
      ]
    },
    {
      "cell_type": "code",
      "execution_count": null,
      "metadata": {
        "colab": {
          "base_uri": "https://localhost:8080/"
        },
        "id": "JZJEvAE7K15r",
        "outputId": "93ec581c-5076-4431-93d9-73e7ff602f61"
      },
      "outputs": [
        {
          "output_type": "execute_result",
          "data": {
            "text/plain": [
              "tensor([[[-0.1011, -0.3149,  0.1685,  0.1140, -0.2039, -0.2269,  0.0932,\n",
              "           0.1872, -0.3262, -0.0882],\n",
              "         [-0.0504, -0.2479,  0.1364,  0.1001, -0.1065, -0.2993,  0.1795,\n",
              "           0.1695, -0.1148, -0.0837],\n",
              "         [-0.0394, -0.1885,  0.1412,  0.1148, -0.0919, -0.3534,  0.1870,\n",
              "           0.1501, -0.0287, -0.0756]]], grad_fn=<TransposeBackward0>)"
            ]
          },
          "metadata": {},
          "execution_count": 19
        }
      ],
      "source": [
        "out"
      ]
    },
    {
      "cell_type": "markdown",
      "metadata": {
        "id": "tvs9ZGILHPJ0"
      },
      "source": [
        "2nd dimension = output of each time step, can be fed into a FC layer\n",
        "<br />\n",
        "3rd dimension = fed into a classifier for text classification tasks"
      ]
    },
    {
      "cell_type": "markdown",
      "metadata": {
        "id": "1G4kA7-XKYJ5"
      },
      "source": [
        "[Flatten, Reshape, And Squeeze Explained](https://deeplizard.com/learn/video/fCVuiW9AFzY)"
      ]
    },
    {
      "cell_type": "code",
      "execution_count": null,
      "metadata": {
        "colab": {
          "base_uri": "https://localhost:8080/"
        },
        "id": "GFmN6rZfHOf2",
        "outputId": "24734015-438a-45dd-8a79-9c19f0c30b53"
      },
      "outputs": [
        {
          "output_type": "execute_result",
          "data": {
            "text/plain": [
              "(torch.Size([10]),\n",
              " tensor([-0.0394, -0.1885,  0.1412,  0.1148, -0.0919, -0.3534,  0.1870,  0.1501,\n",
              "         -0.0287, -0.0756], grad_fn=<SliceBackward0>))"
            ]
          },
          "metadata": {},
          "execution_count": 20
        }
      ],
      "source": [
        "# Extracting the last output in the sequence\n",
        "last_out = out.squeeze()[-1,:]\n",
        "(last_out.shape, last_out)"
      ]
    },
    {
      "cell_type": "code",
      "execution_count": null,
      "metadata": {
        "colab": {
          "base_uri": "https://localhost:8080/"
        },
        "id": "wQtMo7eQLKSx",
        "outputId": "ef12e6e4-55e7-49aa-ac40-4adbf617fd9d"
      },
      "outputs": [
        {
          "output_type": "execute_result",
          "data": {
            "text/plain": [
              "(torch.Size([10]),\n",
              " tensor([-0.0394, -0.1885,  0.1412,  0.1148, -0.0919, -0.3534,  0.1870,  0.1501,\n",
              "         -0.0287, -0.0756], grad_fn=<SliceBackward0>))"
            ]
          },
          "metadata": {},
          "execution_count": 21
        }
      ],
      "source": [
        "last_out2 = out[0,-1,:]\n",
        "(last_out2.shape, last_out2)"
      ]
    },
    {
      "cell_type": "code",
      "execution_count": null,
      "metadata": {
        "colab": {
          "base_uri": "https://localhost:8080/"
        },
        "id": "F-m9VLuJKimu",
        "outputId": "01ff1d79-0a26-4acf-95f3-7704d207a8b4"
      },
      "outputs": [
        {
          "output_type": "execute_result",
          "data": {
            "text/plain": [
              "(torch.Size([10]),\n",
              " tensor([-0.0504, -0.2479,  0.1364,  0.1001, -0.1065, -0.2993,  0.1795,  0.1695,\n",
              "         -0.1148, -0.0837], grad_fn=<SliceBackward0>))"
            ]
          },
          "metadata": {},
          "execution_count": 22
        }
      ],
      "source": [
        "# Extracting the 2nd output in the sequence\n",
        "second_out = out[0,1,:]\n",
        "(second_out.shape, second_out)"
      ]
    },
    {
      "cell_type": "markdown",
      "metadata": {
        "id": "QospgwCNL23D"
      },
      "source": [
        "![image.png](data:image/png;base64,iVBORw0KGgoAAAANSUhEUgAAATkAAAIGCAYAAAAvJfgUAAAAAXNSR0IArs4c6QAAAARnQU1BAACxjwv8YQUAAAAJcEhZcwAAEnQAABJ0Ad5mH3gAAI8aSURBVHhe7f0PXFNXuu+Pf+bYe9PT3i/e9nvjt73XXItm2jPE9tR4iydeR8M4CmMV2sJghxRnoNCSAx2xnGrKtDB0KmWsqbaFcirIsabcDimtJU5t4tQhTn0l41iiYwkz1dBRw7l6ybn6I/fqi8yrvtZv7Z0dCBAQMAjuPu92m73W/pO111r7s5/nWWuTbzEOCIIgZMrfSJ8EQRCyhESOIAhZQyJHEISsIZEjCELWkMgRBCFrSOQIgpA1JHLECAL7jZg/f354KbEhIOWH8aAuso0vdcelbGIKCMLzTiWMm6th+yIo5RETJa7z5ISbY8lGRzixZieO1qZDGU6Nm2C3E3ZbO9o/d8Pj9g3cYMp7dVCr1UhJzUb2Og0SeN6Q75sgqa8fRf26cOlinSe7/gRqUoVvGR9BhwkPGq1SKkzZB1+heJGUuA5CFzxw2NrwyREvuo544JfyMU8LnUYDrX4pMlamQn2HlH+djN2OgshlwSylJn6NQ48fmzK0flUMrZT6puFvzceKzU4plYumE1XQj79LEhIzx5ILemEpWYEHV+XD9KYFjiiBEwiccsN9wILqjbVwXpAypxDrITd/jo6XINyHhgpcXAi40cjr5DtLs1Baw+skWuAEznrEOqnbbIT5yFB7i7j5CQa80ppAH0IhaZWYEDND5K7wp3veOlQeGHILQ7VIB92y8KKOZRLephrYHr1o50nbBQRrJ8Y+qtuk7aPR2gL7WWn9Wpy1o6VVWo8TwSNmGNYaUD2sTuRGdBuPXBKgkPaTG6EeL5z7G1FZkoXGUVx+zbpfokCv4msqpFYWQj9Rt4gII7ir8aLXVsQSExPDS3Eb65Xyx6afdbyxdvC4xGSW95aL9fZLm6PoP9/B2t6oZfbzUsYodLwRORdf3uiQckcnutw5uTkD62t3d0p7jE3n25Hyr2VrH5a+ly+1HmmHCdLvqWWZ0jnCSzLLeX4va/f1sv6vpZ1E+lmfv5PZ91Swrfbx1fZ4GLsdO1htVNkmfo3Xe7wcoDq4kcwAS84H97uDZrnyqZ2oN+qgjPEIV9ylRfozxUi9S8qYCpI0SJVWvR+6Ee0wxMYD525przVpSLsnvDppLjiwpcjMzyqh1KO87Tdors6FfoESillSvogCCXN5eX9chfJUeswTRCymX+QudKMzKpyk1ain1UVx365Gil5KdDXA7h47EBJyt2OvVH694E8cCK9PjhDceypgG6gPLcr+uR4F91O0mSAmy/SL3F1zoZZWBXrO+PmtPp2okbY+W1oPwHrEM0Z5gnDuq5MGSLKxfmX0lUyCs21o2DWo+BpTFYoXXafkhwJwt1bDZFiNJdK0jxWZBpjetMET9XC5uQjC77SI8awVA9dkROU7bgSuhkeHI1NcRkyBuWCDMbJtvhG2UQaxxjxHhEvcCxHjagZkpUTOuQSrDUJZnPAPH7k6XiftM3R02ZwZOZYv0d81sL+w1A1a9yMQ6sOK6s3R5ZDaucYK94Ux7qhY33GV95l3KpGftiScv2Q18l+0wD1mfwkhcNyGuphl4MfegMHC0ZgB7qoaiw3SKse7oxrVjukNtifoM1AgrQfq2+C8JCWGc8GJjyIDDk9lQH+dUzgCJ9sRmTAA7jQXpmuk9ckR6rLAyDuqYXMjrFGj1f7jblh3lCJrrQHmIzfZ/KsrXjQWrsKK/EpYDgyONvuPO2CpMmDtZhv8X0uZU0jQWY0Vi1fDsLGal8MNz8AgVQA+t1CWfKzIMMHRI2VPFT0OVBuE+jChsTW6HFI77zLBsHQ58pu845stIAwCZvM+U2WB85TUYwI+OJsrxYGwxi9iCKbYJsuxJLMU5phlqITnvJQxDcwAkUuAvqAGEQ9RiHFZjCt4o1XD1jVNN6BCixRjJMZlxUejTM/wH/kI4dlkShSv0F6nmx2Czxs1V29ZChZdR+wxxJ/QhrWVcIgdTgnd4+XY2dSM5voaFKwRRuw4ATfqNpTCOt5R5GknAMeL+ag+NNgeynv1yH2mHOXP5EJ/rxKBfaUw1oxu88SL0P/xhwV2nhbZT5Wjpp7XbdNOlD+uG5xTeNaKiredg+JypwblJl5WEy+rlCWgNwh50qKfO/5+1GNDKbdgGwdMLCXUK3NRLJznqeyoWQYBOF9eh/x67zW8pE7sfdEI83EVtFkFvDzFyBVHdyV4f6ne0TZ0GpPgzbwS1SZKHbKfqUF9c7g+qoR2iZ7tMA3MAJHjzMtG/Qdl0EXFzv3ORpSufRBLDCZYxraTpwAFdA8XImJHOfa1D2tYAS8ceyS7K6kQabrrjSQGEYh+6i9SI6p7TYwQf7K+HBm8UCL99VY0VxcgXa+DLjUb5bUH0bopMsXWCTO/jumy54a4asOW4W9ThI40oGLf4A2dXn0Qv7M3oWpTAQo2VaHJ/hvsf4HLR+AG9JdZKhS8fhAn2ltRYypAdiqvW306Cqqb0WqODF3xojR/NOjmzdOj4CleVm71L5ayBBY/JuRJS5ZWnOh+bQKw1ZQOxm8XFaPp6FEcbKhCmXAeUw1aPz2KJuPgVGrPq2a0jflAc8B2RIedvzuM1m3lvDxlqGo6GK7TCE4LHF3SugAXvo+aI4XQo8bajJpN2UjVhesjV2iX9hPIvU/aZRqYGSLHUfBGav51M8ojVoZEwG1FpWEJVpRY4L2Rd2JSKn+KSevDG5YTctvRIOXpnkgdEMS4cYv0OQmCvLzmiEBkvYSX1g2XSwW0TxRiIPL4Tjs806Vy44Zbcb9q5P+GEUbhf/n48EGqBGjyf4mfrZGSU4hyDbeW1qljCpJq5XrkSuuADb6pcFm72tAwMMjFxeW1spHz6GYpoX9uB2oGNMoJi2Os+QJKFJh/ifS5UlJEAY2hcCB8IzzcO89EPUSuhqKswzmYHVOhE5BwrXmpU8iMETkRbuoW1B7G0eYqZEebdRz/gUqsuxExjgFU0K2J9A4v2o5Ed44QPEes0g2nR4Zu0jbXFBAUyxYhl1sYMfvdHcooS9EO7zS5rGNNBk6IFvqgFx0DN7UGhem6Udw67pqvSZfWp4mEBH67Ty3e37cNTm/KWo+0UV1CFVIeHbQsvbwfjx7xzkDKQzFqVaHGwqgHR+iqtCIwpB9x93xz3dgDHdPAzBI5CaUuFzXNR3Hi1ztREC12Z60wbqyD54qUnmKEJ3LE2vHutmNgNsklJ9rqpafZmB3sOuBPy6jn5QTwwxfl5lkKH4zpCg4d4ePfdAOC9bHIfqEZzXtjL7n3SzsJXOqFT1rltjM0C6TVGCjv/ra0NvWEgn543W44WhvRuKMSxg3C6OJ4382dLEEE/jL40NVpk8Z0cZVzF0prnCNj9avZUEw06qLQIff1wXebA4fMMCz9DlZkmlDHrcZgtCBOEzNS5CIkJKWjvPk3OFgd9YL4cTOq3x/s7lPKHdxKiwxABOrQfiyscv5DLfyZFWZUS2nCKLFAEyXo+zrgm9QDkbsPw1xrWXAxALe0OqmbMd4Io5r5K/CdB1dgncEg/qWQauGd6yNDRxenhhCCUSP+CbffKq1ND6p1v0Tz6wVDBhj8x60wG9fhwe8b0fj59MZCZrTIhUmA+vGX8FKWlOR4ft81hskdTxTQLsseENhGmxCg98PNP0WUxUhbFh+JE1DfnyGtCTSizTmZzsHv/iitzP4Ft4qEka5rLKnX+6bGDCJ0uU9amyIio5rOcC+MjPBWvd7E63I/Dp9oQrG4ZeoYIvJf90sr04UC6nXlaPr0BA42VQ0dkT3LHwbZq1B6YHJ+STy4CUROIAHK6LCXwz9JV27iKHRpKEySEq3tcH/uRtuRcFLzZBque1A1CsVDKSiOEihrRS3cE3bN50C9TFrl9CWooRNGuq6xxOvPNE0Zd6sGXrcDXPCNYS319owRXJ+liIrl9aD3orQ6jN4hQ93RhOB+b+vAqKbmmWb8RhrhzV2n53WpgSohAVNrWykxN+ovVjg83WOOjgd6OqU1Tqoq+hkYX2Zxg0Sfi6qmw/iTiwv9QKgpANtbUTHEG8z0i9wFYcTnWnZZEIHoXaayoUagQepPIgMQVtT+3CK5TRpkLIvzmKpCh+xNUcP1gUYYcs1wjzYZOSZKJD2kk9ZHm/5yE3LXXCwcaHQ3rIdGuWVCHtjeHXRsR6BUYjBi54VvxGsJAl64PxztluyF/4vBR6z+uzHCFZcCE6rzvssTj0uoHxz0MNC8d4y/mONH+77B+Zf6lYsmPzVpAiju0qOsugwDPbGrA93T9NbDDLDkgnAJk39L6mA77h86ciMgvJZUX4qKqD9lpP2HpBvSUBFUyx4ZfGm/S+r8/ImVGrHw4ojq8SrsfDRKwoVJvWkGmN5xwhcYdjNcDSHIrRbHO5WodgzeeCpdxuBkU6cJm151iq87jSQI3/5qWL6QkjMaLfRPDj5UPC9Xjnxb46ofjppqmMeMSaqhiXrDxrrLMmz6TBCeN3l9jjOu6Tw2TAx5GWwvVwzEbGOjhDLK2nZ3TTzGLHoYA3+s1AnTs2Y4R7g3wrVsginyGo0yFxtWxvnO4YI+vFtGCHHLZLBquWEyTd7CdczGugbHalG6oUVKxODeQux8QT/wNPIfMHO/XRiTUkKtU0Mp/LWNyz1wc+EbwqIylP/wOt8RnSj8qfRIFreKooQ2e33aFAmtCum/aEJvMGoWeYBbLlXCEk7GIvX1EmmNMy8bZS9Y4Xw5PB3YU5+PJQe0yE5Ng/pOMQu46IPdYRWD5GUflEuZNx7rywa4bpcSMUh7bnCUVfPDMuTuzodFrBYP6jasgmNlGlIfUmH2wPVokf6oDrZ9o1lzCdDyB5Sy2RIOeRw3I2tVGz8mGwvv7EXnh22wnZqD1DU6OA7EOsccqO7nvVZ6C8b7aj4M/myk3DObp3rR8V4jHHdquSQHxnjXlJ9DeEBKYQ9vTT5WezOQrVHAf3EhSkypg1baqGhQ8IsqtOdVhicb84dh/hIbtGu4y/xAdH2E9xYeEgU7y6771cMRnLFiSaYV2qxUpCUvhua/cLuWGya+3/8Wln22gRFx7XMZ0E7TYNHUWXIBH9xH3KMvFySNn6XA7CEtKrz7J+0zTOBUa8rR2lgM7Q2fWJgA/aPFUR2Pd+rk+A04jOA23oH/+ddo5p19skKqyW8WZ6oPlPmsh1st1ajmlo647IrcACoopu5Rd02EdxtH9I2oJRg9teUOPcr/pTxq0ivvK4csqBu4HuHtjh0ou8bfCE9YWYCXsqJqlvdVm1g3jVzgAN1zVSgb9U/fK6DLfQnZUa9MuX9VJ9UrF7gr6dj5ejlSpK2x4edIL4/6s+78OvY38uPrYOmZgOualIum/1ETVRY/PMJfih7SvhylDsV7m1Cum6o+y7+3lZd/sxEGgwGG/FJU7uICJz2jVVn12GHURMVCbyzT764qU1Hzu6PYL7zn9lQ2dMu0UTe2Ctplqch9pgZNvzmBw7UF0E6TyRs9AKE0Xv/L+NdklhK6p+pxuOMgmrYVI5dbFkP+OrJSzesqGwWVO9HM6ybyexWDKLjQNeE37U2oEer13qjtwl9LXpOL8tebcbDjMAqi56PNcBRJBbwvHET9pqhrEuoiqwz19t9g5zrVOIL+KqRu24+D9WXIFrwGMS/83mdVM3+4GLUQ7LJRuYv32bZwGQbeDxXeYd1Uj4O/2TnsjYFR4NfR/Jt6lGVFtSs/R+p9ygmJgWJBNmo+PYpWLqxD+4hw7/D+sa0ZR3/XjLI4zgIYwn3pvH8WIHvZ0P4pTPJONZRj5wdHcXjb5B/W8SCuP2RDEDOBsX+Ih/imcZNMISEIgpgcJHIEQcgaEjmCIGQNiRxBELKGRI4gCFlDIkcQhKyhKSQEQcgasuQIgpA1JHIEQcgaEjmCIGQNiRxBELKGRI4gCFlDIkcQhKwhkSMIQtaQyBEEIWtI5AiCkDUkcgRByBoSOYIgZA2JHEEQsoZEjiAIWUMiRxCErCGRIwhC1pDIEQQha0jkCIKQNSRyBEHIGhI5giBkDYkcQRCyhkSOIAhZQyJHEISsIZEjCELWkMgRBCFrSOQIgpA1JHIEQcgaEjmCIGQNiRxBELKGRI4gCFlDIkcQhKwhkSMIQtaQyBEEIWtI5AiCkDUkcgRByBoSOYIgZA2JHEEQsuZbjCOtXyce1M3PgllcL0PrV8XQiuvfbILdTtjft6PtCw98bh8CYq4K2mVJ0CxKQUp6GvQLEsRcgiDiD1lysbjkg3t/IyoLTXBckPImyiUPGktW4MFV+TDtssI9IHACfniOOGB504T8VRb+eIgD8SgzQcgQErkYeN5dDcPGalgO9SEk5U2IHhtK07JQfcAfTivVSH+qCjubmtHczJf6GhQb9FArw5vjwXWXmSBkColcvLnC3faNpbCJZpsSumeacNR1EDtNuUjX66DT8SU1G2W/aMJB11E0P6eEQjyQIIipgEQuroTg2V0J8/FwSrupHk2b9FDOCqdHMIuLoDEbGilJEET8uTEid7wO8+fPFxfjfm7iXA3A/U4l8tOWiHlL0vJRvd+HoLT7IMJgRvi4+SU2MaYVPGVDdeFqLBHzVyCrpBq2UzGOfFM6br4RthgxqljbI3lZO8JpwIHSpZH96q4dO7vkhHWHN7yeVI6qZ7STs9KCfjhbq2HakIUV4nfzZQl3RzfXwdE91BmdaJkDbgsqSwbPuyLTiMp33AhclXYgCJlx4y25r/2wbV4LQ5UFzlPhUHzglBONG1cjv947ZjzJv78Uq9JK0XgoEsT3w3OgEaVp62CKxL+mkaDHBau0rnsidZIWmhd1q1Ygf3MjrEc8/AolAj64W80wrjKg7vhkom5cOKuysMRQCcuBwfP6jztgqTJg7QYuiFekTIKQETdc5Dw1RmwNbkDTb47ixIkTONxUDJ0UgPe8yoXvUnh9BGcaULmxB2nbWnGYH3fixGG0bsuVpqn4Ya1qHP3YcaJ9UjjvCTQZpQykosYezjtxouCaU2L8ZwftpqX3qaS1iSIImA7ZlU04ePRP+Oqrr/jyJxxtLoNerCcPzLsdAyO14ytzCN76Tch/RyifFrmv78eJ09J5ef0L+wTcZlTu9tCgBSE7brjIBZTZqH+9GPoFSiQkJEClL0PVT3XSVis6vKPcZl290O1tRlWWFip+XEKCCtqsKuwwp4a3ByxoORK59SfJbcJ5+XKrlObcKn6XsFzb8QxdllzVmARgK4m4kUMX0YUfQI1cezNqfiyMvka+UwGlrhglj0vJA53wRappPGU+2wbzq2EB1lfvQNU6DRLEOCE/r1D/prDN6d1hh4dUjpAZN1zkNI+lQXublJBQJy2V1rg1dGlkfE0kqRAZy0YKjWrleuRK644z0++yXj9cnO7ggnnJB4/TBssubmGVGGDIXIGsN6VduOUamIDVGvC64BTXUvHIspEWpkarl9ba4DklrRKETLjhIjdXOUdamyD3zEHMI7nFMpD/ZU/UhNsbj+oeyarkdPYML0kCdE9L8+SEpZa76dKWofjhfNmA5YtXIyu/FJU1dbAccMN9UQntPGmXCeLvtklrDpQuH2lJzs+uk7bzMn8trRKETLjxAw9TyVzuAkur04FyweKBwQbHZ55ho8XcNbxfmicnLNpvxyirFDtrcnO50SJ3WzMOHj2BPwnxs/ZWlD8m7UYQxLi5eUTuKtAvrQ7hrA8uaVUzJ2Fgyobi9qixzRHWSQihy9JqPEnSIWORtN5ai4bPJxrg8sIuxc7wVBnKs3RQK/k1RebZTdLKUs6NWJip2OkSBhxGX4oj5ScImXDziJzjI7jPSusDhOD50AK3uK5E2qJBYZtz1wJpzQGXd1ic75Ib9n3SelzRIPf5Ysma86Ku2IjGL0aJMcbiQg980ioUiqFz7K540H5IWp8gqvsiFqYDHznlELckiPFzE7mrTph+wkXD7UcwGEQw4IOz3gjjm9KI5pqfITvKClFqliISTrdWVMByPHxcoNsBc0kl7NK2WAxagQ58csiLAD/Od8DJZevaKP5bCXZUp3PJ5QScqM54ECvyK2FudcDtdvPFAeuOSuT/qJSffRh3zcXCyPusv9oLa1dQnNIR6vHA8qIRdV3hTbEYs8xJGShcI26Es/wJGHc54QvwcwsTgEO8Lnu8cLxTiWrHdEY0CWJquHlEbk05qvRdqDaswIMPPogHl6xG/qvO8EDDvGzUmyRhiTCP39hGaSQxYENlZvi4JauMsN5Vhp9FpmPEQPMPGQNz4hwvrsMSftzqkrEnKg+igPrxnWitLxiY/+d3WlC32QiDwcAXI0xvWuCMWKVKNVT/T8Rm0yJ9kyTNvMymtQ/iO/Pn4zvLs1CLn2HnM+FNsRi7zEqkm5qQKz4E/HDU5GP1En7ub8/H/O/wuly+DsYqC/x/FXcmCFlxE1lyc5BWuR+tlbnQ3xtWD+W9OmRvqsfBthqkzhWzolBA99zQ/TFPi2xTM369LR1zbwlnxSSpAE3Wcm4ZRqZbCHPyVENF9BqoUsvR/LujaH29HLlrhNiatIGjWqRDqqEYNU0HccJ1EOX6wSEI1eP8eurLBr87XmWeq0eV9SiatxUgW6cezOfn163JRfnrrXhpzUSukCBuDuL4RzOngqg/xLlmJ47WDrPWCIIgrsFNZMkRBEFMHBI5giBkDYkcQRCyhkSOIAhZQyJHEISsmeGjqwRBENcHWXIEQcgaEjmCIGQNiRxBELKGRI4gCFlDIkcQhKwhkSMIQtaQyBEEIWtI5AiCkDUkcgRByBoSOYIgZA2JHEEQsoZEjiAIWUMiRxCErCGRIwhC1pDIEQQha0jkCIKQNSRyBEHIGhI5giBkzTdW5IJHzDC+6kZQSs80Qt1WmDZb4bsiZcgI//5SGJu8CEnpbwKh43UwvOiYsf1NzsRd5IKfW9G4b4Z34K5G5O+4FYXFOiTwbuesMSArZT7mz+dLShYMgrhc9cJSaMDqJeH8JWkGGCRR9O83Dck3H4lz173kRHWBC0t/mg31bVKeQMiDxg2DZV2Rycu0oRKOCwE4X+brmSsGr2GDEY1fzMxWUK17Cev/kg9jq1/KmQp4+xmNMKTx+lhihjtWVVzxwfGOBe4eKT2FKBYVozyxAat4H/omifuMQPghm/hxmu19LJEtf66NneuXsmYc51hLXjKr+LRPSofptRWxxMREtsU+NL/jjUSen8n2+qQMid6PN7LMbS42dO940M9crySzvD2n+VoshO1CmXJYg3foHpFrKLL1SjkzmDMtLC+xiLWdl9Ljob+Ttdk6R6mXWPC2zuV19bw9Zjv1tVew5OQctt0V/1aMSb+LbU9OZrUeKU3cEOJsyamR+8FXOLwtHSqFlDXDCLmtMPdmI0OXIOUMxX+pT1oTCKDnS+HTA//5qOcvt6isrXNQViBYgnHmbBsadmnxyEo1YlehD559/CNpKbQLovcIwed18E89Uh5QhrNmMvPSsD7LgQaHT8oYB5e68cn7XvRKyWsS6ILrCK+RB5JitlOCvgpHjzajbJS+EHcUOqQ9OQfmD53ktt5AvmExuRA8h+sQeGgxNNFuIEd5t1paGyR0pAHmYyMFw7+vAacfzYXuDikjjvjdbXAuW4qkuVLGcM564QrwzwfUUA9RwYj4LYb6rnDOzCYBSbpUeN91csdyagh92QEbNFh83xwpZ/rRaPVAsx3uS1IGMeXESeRC8L5TitLNpchKM8M9XcHyqwG4d5kG42vRy2Yh6OuDlz/ZdfctGGklzbpV/HD7IwEaLyz1IeQ+qRVTvguS/XDJicZjS1GyUhVOx5Ugur1uLlRqjHb2oM8Lvgf02mHWiSR+ymVaaG6oFc0tyP1mlJZXwmRYDeMuKxo3G1G5OR8rdnjGjD+p7lkIdHeg+4KUEWd8X7Txf0Nof6sS5hojsvIb4RH6Zo8T1RtNMOWvgHHf0LhgqNuG6hJe/h3VMGaaUPdOIyxu4akyiP9QNfILTfycpTAUNsI7kSDb3G8jFVb4zkhpYsqJi8iFjjfCfH49XvrJQoROWeH648RCq4FDZpjKeacbx2L9QjpoOFc8qNuwFqaTapQ0HsXRX9cgnRthqdUHceLECZz4RSoSggH4u7hTfVeMJ/udSuiEz6vCbcE78q9q0fl4AbIXhPcNfS3+C/fbDZjzxLABgbjhh+84F2GVchRXlT9Mjln4pxI9+0wwbBAGHqTlaf5w4Vu0mtHc3KkhyG/4yj8vxUvVVagpSYWjxgz/ykJo/s3JxcA9tgAoVfyG70bvRSkdV/zwCuK0KBVl22pQZirHBkU1st74BB/UtED9bDFS/pMfjv1uvmcYcQR01V4oHv8lqjaVY+czCpirquH6N2kHga5GbCoMYj0/Z8nD30boUAPsngn097vmQvAZ/L3ksN4wpNjcddHr2svavH2s8+21LDF5K3NdljZEuNzH+r+W1qeIzt2ZLPFh/t0XpQzWy9qKE1niK67BQPX5NlaUmMi2fhYjdC1tE4PUF9tZRVED6xSuw1MrBvNX7e5kzNvAcl6IEcT+up/19Y0nHN7H2n++nNdREWs7I2UNoYPV8u/Kee+clB5OJ2t4mJcxeTtzDfm6yGBEHmuJed4JMoH2Ov3xXubyh9c7d/P2T9zC7LwN+r50MdeX1wjoj9UeX59m9rcbWEP0sm0jW8uvsWJ4/senpYOi6ONtyM+dN1CX0iDEE68zyx4XO9drZ1uGbJfqtriN7xkmPJAztE7Decms4j0X6/R2sg7X6SH9ob/vWnV3rTYm4k1cLDmlLhfpC7yw7/ZC83gatJKV4z/ELbyqfKxe+CAaT4bzpgYPnG97oEnl3z0QJ/PDf4xbRXPGGVSepQhbQD1+2N/lT3ND9pC4na/XC+tbHcgo0I8IYnt3r8YqI3dBpPQ1uW02FLOk9YnAXdJ2boli5cJhLuko8bizNhhTTHCOM/4zmfZSr8mFTowfBtDt8Qp+NJJ4GyTcq4Pu3khNheDZsQKrmyYQfZulRupTBSiIXnK/h7nL0obmCcuakfFUnOqAJToeF+wWQxVKzUP44Y+5zX64hTuNqXhkmRQY+NyOal63+mWLpFBBEN4/OEbUqZJbqeX6W2EpN2Dd2nUwHg4MWs6XHKh8cB3Mn5GVNpOI28BD0NmGuoAe2Q+r4dtvhYe3s2plAcqefgQLpH1G47rd1Qs96OSeifZ+zWCH6/LAzsuTtizKfbtDKXbgsOs5DKUS3xY+j1TDfOYR5C6TbtC7BZeKs4t/932FyJg3RF1ENE8dxtHmXNENGZsE6CsP46v2GqTGHFhQQrmMl+9qbPcn4HWJLmmqTjuueFzQ1wHH7WooxzlAMt72iibU44H7FG/soBcdB/hDZZkGoqxc8sB6KOIIchHm67p5wyKNYjtoMPt2MRVXAueFRw6vj/vCFRI81i6KXgYvnwJeOPY4oTSsh/4WNyy8bOH9dVj6gCSKIV6nzeE6VXfbYD0eRKjbAcv7IaQ28Tb801E0PaVBYFc7BrzVO1JR89VhLoJjP1j7+ZJwezgGTEw9cRK5ANwHrcCaR6C/g3ca/gBUjtSCUVGuLENNdc24luz7pYOiuWsBFifxfnlF6m1X/dzqqobCyEXp3qiCKBIwh+83MIgQk1SU/TR1ZOA/iQvAE9pBwRTxw1Gej6y1WaiLmngbCvIbQlqfGLMxZx63S/2BGMeH4Dtp4586LF4w9CYKnGwfFo8Lwl1vQumrFi4kLljqr+/NjtDnZqyYPx9Lhk9kvepBbWYWDDVtcB+ycxHhknWvUAZuub1rhvfr2dyissFUUo2GLiV8+6phOxU+VCTA6w9zobp7Ap1lnCjnLuSPjAjcOm+2QGssR4nw8PrCycujQXaGFn5bA/yK2dL+ISgU4bL4D7RAGLZIWaSG9+OPEFT8Hzh2GFF70IUewTLmfSmB76o1pogPFiGeV2rIwpIyB78bJPjDKjh8EI4/kH1cbBfOHVsIifgRJ5FTQrs6G6ozH6FuRyeWbsq4wfPkNMjdVgXsLoVpRzVMeXUIZh1G03PD57GpoeGWkvvL7hgiwq08brJpNw2z1kTrT4n0p0dOGQkdsaL9oTSkBDzo7RXOGICn1Qzjg1vgmNSIYQIWaLgr5fENBMMFfL8yioMLpl1Cij9EXsxHaSu3PI43hgcdXhbmx/HD6krFV4cC/Dw6Yy6W3gLkPrcTNcbrnM932xxuoWlxa70LnqtSnsAsFRauVEM7y4WGYxrsNKVyIahE9YuVsN9djrJU/q33pqP8UTUCSdzNq61B+r3SsRz/mU7uHy4V3du4s6gATZW94VHUwkr41rSi/lmpHu7Vo1DXC6+lmgtzSVj4+P71pgQ0bjahsrwU1qs/QMnjarTvKkXLLYXITvovSP3HKv6I8cK+pxHV5UZYby/DDvGtGR/a9gDfW6dE4Eu/OI8vdMqJxhez8OBuj/CNg/SchkPJLcx7bugN8s1Gis1NHVJweabM8u53bWfJidtZh5QepJ/1nnSx0wMDFxH62GlXJ+sdJZgcPt/WqIEAIbA8wZn80UTeBJCC+ZNGrPecwaB5fy/rdLmYK+YSFTwfrb36XWxrbgPrHM/4yjA63kgeOgAk0sfszyWO8WZHDHrtbGNey8DAwMxCeJNm6ICCOEjxxtCeJgzOJb/QPmSwgpha4haTu1lQ6NJQuKgObYeGO3AKKO/XQT3CqkiAWqeBMuZAAXfLuDUHowr+qsahVs5kmZeGDQYPGg5N4E2AGIR8nXAkCa6UA9VvcjdToYRGp4Mu5qK+pqUXPGKHf6V+2ATk8eCH71gAuQ+p4WuqhO2slH3WjpbDuVifHhUzvRbKVOxs4h6DlJxRnHXD7tQjDTZUHhg6r26AEN9ntxKFP5qCN2WIUZlSkQset6LR8lsI02s7PmxE40Agejrhru3Py+Att2CYIzEpFLfcijm/b4dnWSp326TM6yIB+uKXsOAtM2zXM0l2Nncx5/jRVteBpY/qxiUko7bXFSdqmxKwYSKCNMCtmH2XCr1HGmCdlY3UeUJeEM7GOiS8UIDUqXBVp4VboVAGYXcDGfrYr9V5m81wP1GC3CRyVW8okkX3jaPvs+0sZ4QLdb0Iru1etoW7ids/5i7udZy839fCNhbNVNfs+jhn28K27OmUtcvWf76T2V/LYYnP72UuXx/r99Syom12dm74HFJiyvmW8I+kdwRBELLjGxeTIwjimwWJHEEQsoZEjiAIWUMiRxCErCGRIwhC1pDIEQQha0jkCIKQNSRyBEHIGhI5giBkDYkcQRCyhkSOIAhZQyJHEISsIZEjCELWkMgRBCFrSOQIgpA1JHIEQcgaEjmCIGQNiRxBELKGRI4gCFlDIkcQhKwhkZsKrvhg3WyCtXvk7/TPFIJHzDC+6sbwX5+9+fHDVmZEY9fMrfupwL+/FMYmL75ZVz0+4i5ywc+taNw3vZUdmoov77HBZFiNJfPnY36JDaP8fDAnCOcrT8L13WJkL1AAl5yo3pCFFcJxfFmRaYCp1Qd0WZAfOd/8JVhtMMB8RJAcfpNujs43wx1vJepqRP6OW1FYPPRHjv37TTBEyrRkNQwbDOEb5wuLuL56yWBZDS86xqiD6USF9BfWw59nhDXyQ9ZTAW8/o5HXCa+rJfxhEbPLXfLAussG7xUpPYWo1r2E9X/Jh7F1Jvy28QxD/GHCuHGa7X0skS1/ro2di+8Pmo6TfubalswSi/j3Szlxxd/GihITWc7uzlF/r7X/s60sOW8vOz1kh17WVpzIEhO3MPtFKUukg9Xy8yX+kO8v5YTpZfZnM9n2z6bil0nPsZa8ZFbx6SjnPtPCcoQyPW8f9ruovKzJPP/hWtYxLW07Mc69n8cSi9t4TY6fXlcLc52XEuNBqqst9th1eXpPJkvUb2FtZ25QhfHy5CUWsbaJXMM3gDhbcmrkfvAVDm9Lh2pafiTcC09rAJqkuZgj5cST4JcdcECDpYtG+yV5P9qaGqFdp4c65g5+9EVbZRd60Cl8fu5HIMoUCB23okVZhsJl0XZWfAi5rTD3ZiNDF/vcAa8Lbv6ZqtMOsfJw1gcXN92Uy7TQ3AQ/AK9auR7ZBxpgPyVljAP/5ya0+8bvBoTrSg/t38WuS/WPW/FVew3S592gCpuXhvVZDjQ4uKdADCCvmFyXB3Z+I2rv14wiQteH76SF3+U6aO8b5exn3Whz6rD0AZWUEUGJuQuk1QFCcO8xw6OUkgNwodx1Go88MdSVjA8heA7XIfDQYmhuk7KGEOLXaOOfOixeMPTbI+Kn1Ywm8DOMO5KwNNULyxGvlBFvpLpKWgz1XVLWtJOAJF0qvO86+eOeiBAnkQvB+04pSjeXIivNDPcNiEEMQYiXbTAgq7iaN64K3qZ8GDZb4bsa3hz8vJFvN6F6hwn5JdVo3NUImxSY9h8wobQkHyvS6uD8wgbzRr7fy0LaBEePuIsEtxIP8Y+ABw3Pm2Dm58pKyUfj8cEnf9Dn5UKggXqulBHNLcI/bvj/p5gSYzq1l3NRqBUSPvgviLkIHmqEa1kJUmOd47rxwXuES9h9C0YRqvB2KLm1JsQTB4iInx4pD4xQ5anlkgeN5aWofNGI1WnVsLRWw7iZt1mmEbYxY24qzE3iV+TpnqLYoQ+effwj1I7aKjOqS7KQv8vDa4pn8bYt5f2oNHM1zO6hluFYfTGMH86afOSX83NuNCB/goMJqnsWAt0d6Jb6E8GR3Nbrot9Ty/JecbE+bwNbm5jMtrukGMTlDtbwXAWrKF7FVv10L+u8HM4eTu+n29mW57eMa2k5KR00gj7W/kIiS8xtYJ1RIZBzto0sOXkja/GFM0+/m8MSE9eyWg9P97vY9jy+vzccW0l+toWdFssoxcq2ucRjRKR4nLiPGIKR4mx5LQPxv87da/n3D4+vhTn3nvC9iWzrZ0I5zrGWoo2szS+VOTGHtZzh2ZddbGtOLesYXk+X+1hf1DVNmr52VsHLUNE+yski8Th9JsvJzYlaMtlyIT9O8bj+vr5RY5pD6WQNOZG243VWINR3A+uwb2fJvDxFtrEjbuc+LGKJ3+ftK6WvRccbkfYZB1JdZfI+InYHqX9s/a2b1eZtZa6LvOwP8/7Ct0fOOGZflOjcnSnFQ/tZ51t8PXk7i9xOQsy571odQSzHKtbgldIEi4vI9br2sjZvH+t8m9/kybyBpZu0c3deuLIFMUke2uDxp4Nt550smYvtwHdctLMtPG/tax0DeR1vJA+WsdfF9to6eefjN0NiXlhoBCQxWPvG4HF9n1aIYtTgjeSM7MTCTZKYOyh60fSK3xEOUgvnKpIGL8RjpE7ZuTuHVYwIYvPv0SeznHdjSecwvHtZDq/n5VHXO4Tz0o04yo0cvsZElvf+sCuQbughdcsRRGT58+3DBihGo491vN/Atj+XyQVqnMFxoX0+lAZ5pDYRB30un2Mdrg52LvIw6Odtrx95Y4frnLd1jMsV+mzD2w1Dloo83ubPbh+Wv5e5YmhpuK6i+oxURzlv7xPLHHngD9T1tfqiiPTgTK5gLa5O/vDtYK4vB2u3z76FP4C2svaxKvwabfxNJC7uqlKXi/QFXth3e6F5PA1aMd4TQLfHiYb3nQgqdEh5nOcc9nIjf4o4y90H/pGyaDAe53d+BCuU0D0UyeMup4M7Lw8thFooo1KH3HUqdP/BMSS2EjzWDgt3O/W6yHHcHT8mxOOi3LguN9q6lMjQaccXo5oV3sv/r3ZYmhXY8Gh03NCH3pNW1HoyUKAfHonToKD9KJoNail9LZSYe6u0OiGka4QOS5OGDtvEjscFefs6kKBWjjN2mABtVgHKfpQyfvdRaJ9IPXXz/sWvTXMvL8NtKmh5vasiccVuD5xndbHDBKMg9NmCpwqGLBmL+NU/WjIsPxe6GB66GJ+N7jNiqIKXL+kHvMxqeD9ugDcpG2laqd2v1RdFlEh9shz62ywwGdZh3Voj2nsHazwhtQZftfPt8Q/Wypq4DTwEnW2oC+iR/bAavv1WeIK8wUytqH9SCKCHxpy7FjhkhqncNK7F+oV00DDCN2Iqlv497wHC/KR9XvxrDxcvpGBxZDjwrBftXYB+2SL0uy38xhAyfeho5h+884V3C8LjFDqwHin3+uFsdvObkndIIf6ycuHAyKL3SJvUiYNwNzshzE5S8psS/fxaw7sMQXn3t8VP98tmnH6U3zh3iEmo7kkVPxvLrVj4ZMbQUWleflN+FtZl1sE7nsBMUi6aj3JBNI4ivHcoIQyJhL4OJ4cixZiSlkJ7rXjcJTfqNpeimtdbiNdjnTi/byoIwuf2wH+F1/dxO2+Hwbb0HRL6GP/cZ4JxKxcUpQ8tNbYhD9F+4TqTZseui+sigJ5u/jGiz2QgRci45ERbfQD6H2ZAfcYG6/EgAtfsi7yeHRZYL6eiqf0r/MnVhIKkABqPCHG+EDz1pTBkLkHpgWs8IsS21WD27WKK4MRJ5AJwH7QCax6B/g43LLw9lbwtFXO10M7lK7yB9+7ToewXubz6R6JcWYaa6ppxLdn3SwcNw9/Nb8RlS5F0F+8Qe2rhV6qwQBQQBRSRjmizciEURj9DcDd4ERKeiF3cCuAfqdrIE9YHL795dY+lQc2tq4aLCiRI0ycGp1V44RSs1tQUqLv2osGvwGyeO1vJra1h00FGsKYMZauHj77ybvlUGXIXSTeACC/j++1YuiYFvcd7w+e8wsWFC31+mhGWyczoVyRgjhCMv9ArZUTBbzrhGvGAetj0F0ngo0cR79Ch+CdLeX3lotxcg+Lrmurih824BPPn54+YvOvftwWrDUY0fuaE+0Mvb18tkoSHQ48Nta1BKG4B1I+WY/38ADRPl6O+Oh3R9q4oLPeopmA6E7eW74sy787asbdZi2JTifjwCrg/4VZbKh5ZORvuPZ8Adyqkh9kYfbHfAbOxFvZjPXyr0FQJfG9+zhW8X3a3YS++h4y7uXcktZ2/tRqmzQYYXnYOtYwDfjgwF6q7437RNy2zfs6R1q+D2/lNfh6Ogx04/xdg6T9uQLJSHE7k7elB3RY7NK/vRF7S1FX8nbfdDm/Lx/hD10kEFm1E6aq7kXDf3+Pv/lcdfvGBF2cOfYYr/7AWyZcd+PgTL64+thF5i+/EFY8Vv/iferxU8n2o/lY8E27/Ww/+5ZM/wBtMRvlPv49bPRa88IcFeGZjJu4T7+fZuOVrbi12eOD787dR+E8ZuIcfq5gVwB/e+RR3PpKNv79T2C+Kqxfw53/pxSM15fj+XKluOLcETnJLaC5+trUQDwzRilug0n0XFz8uhUVbgpqVKlyyN8Kn34qCu9/Dj387B3nfu0cS5vEyG6FzdXj9fy1Hkf6e8IBv0Alz4c9Qx+vO/b+5yfS/vsQfP+vFf05V4XjlP+Klt96HtZvfdoEe+P74GYL3ZEB7N0/+vgHV/zcZzz7OrQZ+mtAFL4590Y2enp6Ry19nQ8VvdJELx/C6tRdpT67Fff9ByPgrznf+Gb3/5yTO3JWGDG55Rbj16wvwurkdE/wjbs8owt931eHDP52H+3fA2udykfz/ClfgxcfPc0cwpwLf/a+D9SqI57E9e9C/5FlkPnhn+Fqvwfk/vA7f3SXDzhObu+9fijvbXkDtES/a7JeRtr0ChUvCjX77//MtnP/0U3T0cLvyuyXYkDzn2n1xuRbq//hnfNbRg/MX3LDt9uA/F72Iwu/OwS13apA2548wv3AZmVVF0PxHD959fw5KKpbiTME29KzKgVbSXP/v/wV7/roUz2b9Pe4cz0V/E5Bic1PD5Q5WW7yduYRZ/v0utnWUoLx8EN4mSGRFH8a4yv5e1uk6PTJIf/E0c3lHGSUUB2yS2fY9LWzL7g7W+VYyy9xzmjFPLUtMrh33qGE0/S5hZHI765DSk6OfuV5JZGt3d7Je+1ZWGyuyPxpC2WMMPAijz6O9OTAmYsC/grWf72QNL0S96SIG+vPY3i/HX7bOt5YPzgyYYYhvcOTtZS1vVTB7p51t1PNrvhgeqNj4caT/9DH7c4ksj/cRGnYYZAonAwfhfNUI84E6GBbPx/zvGNCYpJqSNxFmDiqkGXK5u+wcEhsSUSih0alHBunvUEOXNNrcM2793DYH7sMepKzWQmM8itYfq+A50g7tE7ohrtl4UejSULioDm2Hri+OlnCnDsq/tKH2+FKk68ZnT/oPNaLxww6+1oPfWhrFWFUYLxz71UhLnoTbq+BW4rxetO+xQvGjVDHmKOA/1IJ2w3pk3Dt+W1djPIyycV7LDWeWAso+O1zIgF6Tip3tVdBfduO33nR8LxIr5W5zy+FcrE+PHiAiptaS+0YivHeafM05XJOjn3XuqWBb7afZuZMxrMJx0n+ylmVyS/D6rLn4cfrdPLbxvThaHxfbWYVemIcopeWIv51tfWEv6zxzmnWeF2pOmHO5nG20ydtXmgzfEv6R9I6IF8KfWnrRDPy0HtnzpLw4EDhQirWv9kDNzZWehA1orU3HaDbgtRD/1NKRpWgy6WT21Bf+iksd+nLLkXv/9QyIzGBCXtTl5KPtVjWU/9uHpa8cRXqPCXUXc1H+Y804p/R8cyCRIwhC1kxhTI4gCGL6IZEjCELWkMgRBCFrSOQIgpA1JHIEQcgaEjmCIGQNiRxBELKGRI4gCFlDIkcQhKwhkSMIQtaQyBEEIWtI5AiCkDUkcgRByBoSOYIgZA2JHEEQsoZEjiAIWUMiRxCErCGRIwhC1pDIEQQha0jkCIKQNXEXueDnVjTu8yIkpWXBJQ+su2zwXpHSU4Qs644gppk4i5wPba+YYHF3o1dGd6rPVg3Tey50B6byouRZdwQx3dBPEhIEIWsoJjfFhHo88PSQaUYQ00WcRC4E7zulKN1ciqw0M9xTHLu6UYS6LCjdaEJp5mqY3ZMTKu++LGS96xkjzibPuiOImUJc3NXQ8ToYHVrsTPfCsLYB+ubfoUyniGxFMAgkJETSN4bAITPMhwJSamy0P6pB9v1SIkLIgzqjHVpzBry569Cwohm/e06Hgau4EkRIkQDFLCk9BC/qluTD9ZN6VN3VgMorhSj/ugH/WDUHVZ1V0N8m7cYZte6ueND48zb4r7jhnpWLHa/kQhN1HEEQ40QQueul17WXtXn7WOfba1li8lbmuixt4PTZt7BE/VbW3idlxIv+DrZdv4o1eKV0vOl1sb0fdrI+bwNbm5jMtn7WL2af+7SBbf95HluVmMhqPWJWbC52MvsbRWw53y8xcTkreqONuc6MrITR6q5zd1742vpdbHtyIkve5mLhEhAEMRHi4q4qdblIX+CFfbcXmsfToI2yOBJSa/BVezn0CVJGvOj2wHlWB/VcKR1vlDrkPqqG9+MGeJOykaYN23CqlQUoe/oRLBBTY/B1SHRRFUol+P/oPt8HxW0jKyF23QX45TnR8L4TQYUOKY/znMNe+MQjCIKYCHEbXQ06THjQ2Isq+05ov7QjtCIDaN4C86duKJ/8NXau7EVjWSXavEpo9XMwRzMHnXW9WP8hd9/OW2B80QrPrUro5i2G6ut2BPQ7UHW3DVu2t8OdsAGt9ekI/cqIymAhfqa04s3Wdjh8aqSuXI+y6nSopXJEuG53VeCSA6bFRvRWHsTOh7pgD+mRvYgL1QUbjEtLsfCDr1C8SNo3mqsemJdugu/JGhTeuRfmkOSuvqVGze/KMODJS4ysu2xogh7u9Gqg5SLurvkODEfKsf/XBTyHIIgJIdpz100vsz/L3bLiNnau1862FLewc10tbONbbaylOJGt3d3J+j/bzrbsrmUViWvZ9mOC48XdTe4G1p7krtm7G1nDW1u5u1bLc/nZbEUs8eGtzPzTWtayJ48l5vLz8f9achNZznvn+B59rP2F8Hmnkt6PN3JXs4i1+fn1PVfEWs5IDuP5NlZ0LXdVouMNXi+vjOVqxqi76J39/LuSc/h3kbNKEJMhTqOr3DpbnQ3VmY9Qt6MTSzdlQPWdbOxc0w/7Ae72rdRAsawMNdzqsUOPlP/GTZku7m4qs6G9F9AYuAXzdRuwWiNaZH6fA7hTjR++ng4cdkK3RgdVsBveIxqkPKDie/jgPQjo7h1uv8UXpfYHyJ7Xg4/eMKPzu2XImDfMBBsHmkdb0fwYv34pPZIYdRfZmVtzdRUupPyPJm4xTvy7CYLgSGI3JZx7n1theXtZy1sVzH6ep9/LYYnP2rnt0s9c25JZ8rYW1vbCdua6HLbSij4UrLRO1vBwMqv4VAjSd7DaiMV0bDu3qray2t0b2d7ftLCcxArWfp7v+wK3gIQvu5FMwJKbNJf5tRfzurnI1/tdbKtozRIEMVGmdjLwLAWUfXa4kAH9XSF0f+mGXpfEbRdAccutmPN7vk2XDV3wONqPKNHltsHyshm+nzSjfKUQpFdDa9TBZatDtdULndKNds9iaBfOhmpeL9r3WKH4USoE2+5GETxuRaPlt+jh6x0fNqLxkD+8Ia4E4XzVCPOBOhgWz8f87xjQmKTCHGkrQRDjZ0a81hU8VIkHy+eg9WgxtFIeQRBEPJj+17q6naj9lR1Qnka7cyqsIoIgvsnQC/oEQcia6bfkCIIgphASOYIgZA2JHEEQsoZEjiAIWUMiRxCErCGRIwhC1pDIEQQha0jkCIKQNSRyBEHIGhI5giBkDYkcQRCyhkSOIAhZQyJHEISsIZEjCELWkMgRBCFrSOQIgpA1JHIEQcgaEjmCIGQNiRxBELKGRI4gCFlDIkcQhKwhkSMIQtaQyBEEIWtI5AiCkDUkcgRByBoSOYIgZA2JHEEQsoZEjiAIWUMiRxCErCGRIwhC1pDIEQQha0jkCIKQNSRyBEHIGhI5giBkDYkcQRCyhkSOIAhZQyJHEISsIZEjCELWfItxpPXrxIO6+VkwS6nYpGKnqx7pd0lJIibBbifs79vR9oUHPrcPATFXBe2yJGgWpSAlPQ36BQliLkEQY0OWXLy45IN7fyMqC01wXJDyJsolDxpLVuDBVfkw7bLCPSBwAn54jjhgedOE/FUW/kiJA/EoM0HMcKbGkltWjHrjUoy0NRKg1mqgVEhJGeF5cz6ydghrk7RWe2wozSyFLaJqSjXSH83F9/5BHa6voB+uI3Y4DjrhC5Sh9atiaMN7TprrLjNB3ARMjSWX8G1odTroRizyFLjr5gp/QGyMCJwSumeacNR1EDtNuUjXS3WXmo2yXzThoOsomp9TgqqRIMYHuavTTgie3ZUwHw+ntJvq0bRJD+WscHoEs7gIGrOhkZIEQYzNjBC5wHEbGl80IitlPubPF5YVyCqpRKPDh6C0zyAB2Eoi+9VxJzkE3/5q5IvHrkDjF9JuAlcDcL9TCWPmivD+S1Yjv8YGHz+p4KqFz2GELVY8avixUpks7sEomUDkPGG3T8CB0qWRcwvluwaXnLDu8IbXk8pR9Yx2clYad2edrdUwbcjCCvG7+cKv17C5Do7ukLRTmImWOeC2oLJk8LwrMo2ofMeNwFVpB4KYwUyzyPEbsyoLSzJLUd3sgOeslC0E2Q9YUG1cjVUGftNdkbJH0A/fr4xYvbERTvFYP0JfixvCLmD2EhiqLHAc94fzAj44d5VidV4d3BfDWTHpcaJy+LFSmSoNa2GoF6Q1PgQ9Llildd0TqZO00LyoW7UC+ZsbYT3i4SWV4NfrbjXDuMqAuuOTKbHUPgYu7gcGz+s/7oClyoC1G8ZqG4KYIQgDD/Ghg9UmJrLEsZY3OqR9BfpZxxuZA9uWFzewdl8v6+vrY33+DtbyixyWLG1LfqGd9UlHMdbL2ooj50xmycmZbHt7Lz9bNH2s/YXkgXNn/ryFdfj5efm5z3laWMVjkeOFpYi1nZcOE+jvZLWR7Y9VsDav9M39vax9W6S8a1mtR/rGy+Hztm8bPF/Ll+G8vr6hpYpF5+610nGJ/JxS5oThdZ+cw7bsaWeneyPf2c96XbUsL1kqV3EbrzmJcZW5n3W+FbneTFZh62R9X4fze9u3s0ypzGt5m177Kgli+pg+S+5sG2p3hB0j5aM78W5tAfQLlEhISEDCXC2yX2jCzqeU4vZAsxnWLnF1GAFoNu1AmX5YIP6sHXubw26l0lCP+spsaOfy8/JzqxZlo8rSjILwqUfg32+W4mN61LxWhfQkaYxYoYT+uSqUJwkJL8wOyZq7LXzehFuFRJhbhbS4XNvxDF2WXNWYRLvmQxfj/mi3WY1cezNqfqyHemBkRwGlrhglj0vJA53wRYy58ZSZt4/51XD76Kt3oGqdBglinJCfV1+GKlPY5vTusMMTL7OWIKaAqRE5YQpJczOahy9r1NIO/Pb1uuAU1zQofDIdKnE9GgV06YWS++ZFx5cDTlgUqXhk2cgjB8+txIbHUvm/w7hNh7TIzT+EALrc4SOR+gh088Krg2igXSmt7vPAJ61OP1yc7uCCeckHj9MGyy4zKksMMGSuQNab0i7c2QxcklbHwWAdxq5jjVYvrbXBc0paJYgZyNSI3GhTSKJm6fu7bdLaXMy5U1odzp1z+NYwjp6hAf8wCzE3skMUg+fWQnW3tDqcW6TPIfjh2yetOkoHA/hRy4Bo8OLEw4BR3ZMqrQGdI64xAbqnox4StcXQSVuG4ofzZQOWL16NrPxSVNbUwXLADfdFJbQjhHp8DNahA6XLR9bD/Ow6aTsvcyQOShAzkBkxuvpNRrlg8cBgg+Mzz7DRZO4a3h/1kNB+O8YE6xC89ZuQ3+TmcqNF7rZmHDx6An86/RW+am9F+WPSbgTxDWXaRE45N2LB9KB3tJHOi718a5j0BSNdptFQ3B6RjSD6Y5pbQQR7pdUhKKGKFGvNThz9igvFqMv1v3EgkqRDxiJpvbUWDZ9P1D70wi7FzvBUGcqzdFArE6CIzLObpJU12D7C2xCxrn9wKY6UnyBmINMmcqr7IhaMFw3vOQSnZxghuG0NfKuAHks1o4wUxEB9b8Spc8PyYYzpHuLAhLQ+BBUWLJIE8sBHaB+Y0jKVaJD7fPFAXdQVG9H4xcjZgaNyoWcwNqhQDB2AueJB+yFpfYIMto8DHzljxUMJ4uZg+tzVpGyUGSKjp0YYN1vg7A4gGORWVo8H1pfzUborLH3a58qQMYHYkuKhNJSJo6BcNt40In+HA74AP28wAJ+zDvnZZnhH0UxNeiG3XQScMP2EC47Th0AwLJMhXjZ/lwOWF6tHvNA+aD068MkhLz8mCN8BpyTSY6P4byXYUZ0eHiAJOFGd8SBW5FfC3OqA2+3miwPWHZXI/1EpP/sw7pqLhZFr+dVeWLuCoqiHeB1aXjSiLuaodJgxy5yUgcI14kY4y5+AcZfwziw/tzABOCS0kReOdypR7Rj5eCKImcTUvKAvuHq10k07Fld8sP78SZhaR7cUtD9uwo5KfdToqzCtYglKDwjro7+oHjrOxazIjGEvKIhoN7WiBFlc/ITUyJfT/YcqsalwrL/0EeOF9q5GZK2tHnbMxF6k9zuqYapojFnmISjVKPhlK8r14Qid/1f5WFEujQpHIUzN+dncUpSKgyWTKLMwKXpjPizSK2exSH39KOrXXbOlCWLamN6Bh9vUyN62H4ebqpC7RoglSfnztNBllWHnB0fROkTgxo9iUTGaf92MKoMwdyycJ8yRK6s/iKZntFEBfDXmDvvrG6qVVWg92oyap7Khu3fwBlYt0iHVUM7L9dLIv9iRVIAmazmyF0VKq4I2S3VtoY9ClVqO5t/xa369fGh9cMLfXYyapoM44To4IHACqsfrcbC+bPC7ef1lm5rx623pmBtzFFniWmWeq0eV9SiatxUgW6cezBfaZ00uyl9vxUtrJnKFBHHjiaMldzMRhPPFB5EvxuXi82eLCIKYmXwzp5CEvOg4KK2nTszaIgji5uIbKHIheJsbUCfFvfQrF03KHSYI4uZAtu6qt6kUbQk/QNoi7cD7nKGAF+3v1cIsTpzlKAvQ3F4O3W3iZoIgZIhsRW7wT3uPwrxs1DRWIXvBtV+iJwji5kW2IhfssqHN5oL9mBvugb8JJ/zilQ4pP8xG9hrt6H99lyAI2fANHV0lCOKbwjdzdJUgiG8MJHIEQcgaEjmCIGQNiRxBELKGRI4gCFlDIkcQhKwhkSMIQtaQyBEEIWtI5AiCkDUkcgRByBoSOYIgZA2JHEEQsoZEjiAIWUMiRxCErCGRIwhC1pDIEQQha0jkCIKQNSRyBEHImm+WyF3xwbrZBGt3SMr4ZhHqtsK02QrfFSlDRvj3l8LY5MU3s2WnAj9sZUY0dt38NTqFIueHsyYfxhIj1hmtPDXdBOF85Um4vlsc/oWuS05Ub8jCivnzMZ8vKzINMLX6gC4L8g2rsUTMX4LVBgPMR4L8eN7om6PzzXAL2TcLwvUWuLD0p9lQR/8EY8iDxg0GZKUM1oNhQyUcFwJwvszXM1eI+fNTsng+7/RfzMxOr1r3Etb/hfe31qnsaV5YjEYY0nh9LOHtH6sq+IPU8Y4F7h4pfdOiQvoL6+HPM8J6Vsq6WRF+yGYqOPd+HktMLmJFeYn8cyOzn5c2TBP9n21lyXl72el+KUOkl7UV8/IlbmH2i1KWSAerTeT5P+T7Szlhepn92Uy2/bM+KX2z0M9crySzvD2n+VoshO1CPeSwBu/QPXptRTw/kRXZeqWcGcyZFpaXWMTaJtLX+jtZm61zlHqJxTnWksvr6nk7i9UL+torWHJyDtvuutn6SGzE+7i4jff8m5cpsuT8cNucwEM/wEsNf8KJ3+1E6l3SpmnBj7amRmjX6aGO+TOrfvRFW2UXetApfH7uRyDqaR06bkWLsgyFyxKknJuEs21o2KXFIyvViP0rsz549vGPpKXQDvkd2hB8Xgf/1CPlAWU4ayYzLw3rsxxocHCLfLxc6sYn73vRKyWvSaALriO8Rh5IQqxekKCvwtGjzSjT3WR9ZBRUK9cj+0AD7KekjJuQqRE5qSPotAuQMEuBhOn+/eazbrQ5dVj6gErKiKDE3AXS6gAhuPeY4RlxT3Oh3HUajzyhi9m5ZzJ+dxucy5Yiaa6UMZyzXrgC/PMB9bCHQET8FkM9rQ+p8ZKAJF0qvO86uWM5NYS+7IANGiy+b46UI3PuSMLSVO6mH5mqGp164ityV8PxHUNRNe8IQM/H1ci/AXGc4Ckbqgsj8bLoJYt/N9/u88LNO6Y61k1+i/CPG/7/KabEmFzt5VwUaoWED/4LYi6ChxrhWlaC1NGEYsYSRLfXzYVKjeESHyFcP9w60Q6zTiTxUy7TQnNDH1TcgtxvRml5JUyG1TDusqJxsxGVm/OxYodnzMEF1T0Lge4OdEvtFm98X7Txf0Nof6sS5hojsvIb4REGcnqcqN5ogil/BYz7hsYFQ928f5bw8u+ohjHThLp3GmFxC0+VQfyH+L1SaOLnLIWhsBHeGRP6VGFuEr9uTzeGlvjmIb4iN0uLgr3NqHmC1wp0KNjWjOa99Si4P8YdEvLCWs47xXiWHc5RK9h/wIR1uS1Aag1aTxxGk1FQp2I0nTiBEyea+Xfzfc56gGUqKGMUQ6nUiZ+hq0Kv8sP6ZifWP50N9X8Sc4V/gCtu1DbNwYZHR3P3ZjJ++I7z1lApRyl7CN5jFv6pRM8+EwzCQyqyPG0WxU+rubHXHeQ3fOWfl+Kl6irUlKTCUWOGf2UhNP/m5GLgHlsAlCqkohu9F6V0XPHDK4jTolSUbatBmakcGxTVyHrjE3xQ0wL1s8VI+U9+OPbzh6Z0ROh4HQyr9kLx+C9RtakcO59RwFxVDde/STsIdDViU2EQ6/k5Sx7+NkKHuHvomTEqB+XcVODL3vG79DMNKTYXR6QgdvJ25hp/NHdyXGxnFcmJrOi9c4OBY0+tGEBvOSOlOR1v8PLktrBzUjqaSGB9i72P9X1awYp2h4PQ4jGJq1iDl7HO3Tmsgm+PzWnWUryc77ucbT821Rcciz7W/nP+/clFrC3qmgcJD6Lk8DqKTSdreDhWe0UGI/KG1OWkudzH+r+W1q/B6Y/3Mpc/vN65ey0vQ3hgqO9LF3N9eY2A/vk2VsSvd+tnMdri69PM/nYDa4hetm1ka/k1VgzP/3jokJNIH+9v/Nx5A3UpDUI88Tqz7HGxc712tmXIdqlui9sG+l64vw2t03BeMqt4z8U6vZ2sw3V65KDGRRfbnpM8RjtPHeHybZ36+3mKmIKYnA/eI/zjoW+PEuSPH4EjLbAEUvEDvWrA0gj0CEMGKsweb+BsVvhI/7/aYWlWcGtNE2W1+NB70opaTwYK9LFPGDpihenYAhSYCrD0rim64JAH5pTVaOyS0rG4bTYUs6T1icBd0nbhvCsXDnNJR4nHnbXBmGKC85KUvgZ+7uabq/KxeuGDaDwpZV4D9Zpc6MSwQADdHq/gRyPpDiDhXh1090baIQTPjhVY3TSBWNEsNVKfKkBB9JL7PcxdljY0T1jWqKWDojjVAUt0PC7YLfZ1peYh/PDH3CM43AIrtyMf4V6DyOd2VPO61S9bJIUKgvD+wTGiTpXcSi3X3wpLuQHr1q6D8XBghOXsd9Sirj8FxU/+AAumagxoPP3sJiT+IhfoQSevJHHQQcqKSRzcVf8Z3mGEgPpAhwnC85kDSkMadPymiCC6pP2hmLEc5d3fFj/dL5tx+lF+c0nHqe7hJjqnsdyKhU9mQDWKfvlOcYdu2XoUPhW5MaeAbg+cZ3WxY4q8lvWVh/FVe80o8UIllMt4dYvu+EgCXpfokqbqtOOKxwV9HXDcroYyqn7HQrWyAGVPP4IR4ztjEOrxwH0qyL/Mi44DvC8t00CUlUseWA9FHEEuwnxdN29YpPFr4R8NZt8upuJK4Lwwasvr475whQSPtYuil8HLp4AXjj1O3vfWQ3+LGxZetvD+woCXJIq8z7uaw3Wq7rbBejyIULcDlvdDSG3ibfino2h6SoPArnYM9VbDcVXl93NR9lQ6NNHzHOPJKP2sX6jTJP4QDSdvOuIvcmc7xUEH9fxrxHEUGmRX16BmPMsmPb9VR6K+Nxs4PyheQXcDag+no+wnQ0dAZyv5U3nYdJARrClD2eqRoXnNU2XIXRTrSoJw15tgtnqhvPARzJIQi0HmwlLU7beiMr8Ulq4AnFX8CZ1pQH5JKUqN62BoDk9xEIPNG82o45aOYYMJth7p+BITGvdbYMpvxCdWE4xbG+BV+tBSY+O39kSZjTnzAI8/EEPkQ/CdFFpLh8ULhj6SAifbh8Xjwtdb+qqFC4kLlno3z5k8oc/N4kTsJa+6h5brqge1mVkw1LTBfYhb1zxLc69QBm65vWuG9+vZ3KKywVRSjYYuJXz7qmGLnt4Q8MOBuVDdHf9bUjl3YVQ/9MPebIHWWI4SYUrRF05eHt6nM7Tw2xrgV8yW9g9BoQiXxX+gBcKwRcoiNbwff4Sg4v/AscOI2oMu9AiWsSJBnImgNaZEPVh8sJVvQcNB3pIe3id+FbZcR/az47CUZGFdSj6Mm3mfyV6Bame4hWL1s+DnjWIdWlvNyN/swB/2jd7PAj3cmLhHNeqDfsYjua1x49x7Odx/n+CEzElzjrW/kscyi7ey7S8UsaJXWlhHrFmLZ1pYTmIm2+uT0tH4hRhOJqv1DA04CJOHhUnMbVJsKDbhmEvFp1IERYwRJg/Eg8S43j/tYBXbatlWvt8Weydz7Wlgbd5+1n+ylmVGJiEf2x6OeZy1s438+O1C8ONyB9v+mBAn62PtLySytbs7xXNOBrFNhk1sPv1eEcvJzWTLE4W4WyJb/lgO2/g+38PTwPNz2KrkcH5yag7LecEuTQYddr3jRYqT1XqkNKffu5dtEb+fX+OQWF0vsz+/imUWFLG85/eytreLeNm2sK0v8OX9zoFYlRA/TXy4gZdoKOc+LGKJIyZ9j4FQtlHitSPpZ517itiqgi1sS0EeL08H642UvZ/XTU4yy/sp3/Z2h1TOftbxdp5Y/ornN7Lt79vZXn5tyUJdv+YS9xHqYWNOHqt4rYFtfT6PH9vOzl0WDx5EjAWuFePDIrH6WdHzzPjG9vB+xzp5vYXjmrH62eHPhTwpLij0/zzh+kfrZ+dYW1HiGBPJZz7xE7nLfazvcq9YUYlipc0kzrGWvERW9GGMUvX3ss6Ygd7TzOW9xjzvXi5KUYMcopgk17IOMSW9TfFCO+sTb/LowRApqC/NJBeD68/a2XHx+CJ+M7SwvfyG6BS/voPVcsGJGUgfL5E3AcYU7HEw/DrEunMxV8wlqk5jiJxIv4ttzeVCNYlL63gjmSW+4hp24/Ux+3MTvCGFNpxx/XUYXKiSowL/o/Yzz9D9Yvez/eyAkPdYBWvg/azF5mLnxIYapZ9dFAZT8tjeL8ddozOO+LirQScqUx7Eg0VbsPegErnr00adkzU9qJBmyIVnj3Oku6dQQqNTj4wf3qGGLukaEd4e7kpAA5UUEwxe4e7BQ9ysFxI9bnxyQIuybB0Uvk44krgLwt3GMEEEBd/2vrncnQkH13UPJeHficf/ABuyspGblQrVFR8Cp31wBXKxVO1D44u2gakJE2JeGjYYPGg4NHFnN5pQ5DoUDlS/yd1Mse500MVcYtTpMIJH7PCvHO0tlLHww3csgNyH1PA1VcIWebfyrB0th3OxPl1wb8eJMhU7m7JnWH8dSuBMJwLL1JgrXdRo/azvSxcChqVRrm6sfrYAf3uZ5+kzUMD7WfY6HW7l/Th4NnY/8x9qQbthPTLuvVl9VWDWzznS+uRRXOZ1fQQ9/3oLlE/8EhXr75lxQUrF/IX4r5+X4l/++gjW3hefqLT/9/+CPbf8d2xJvw/CGefck4hbPv4A3r+5gk/f/yMWv/JL5N1/O760v4BP78pB2X9Xhece871Vc26Ht+0P6PnTB2j81e3I2FSEtAf+My7bP0L3rf8OZz5pQ3vo7/DdxCvwfNoB//89gzlZefiuMnyGiaHAPUn/FX8o+xf8dd1a3PcfpOwJcrXvS3i+8OPin3ux9IkcqK+lYpzgcSssH/0Oxz7/En3/7nYEmBLa+bOBK06YX7qIRzatxT1/K+08bv7K+5sDHRf6cObOTOStmMPrNQineRP+8qOXUfL3/Pwy4ssDP0W7qghlS+4W07H72VX8fu8LuLz4WWQnRa4/Vj/7KR6+/074P3QjeOv/gWffr+Gduxy6OwM4NryfXXLitX/6C9ZvLcED42jrGYtk0X0zuHyatTxbFOU2TpLL51g7N/Vrn+eu0fuTcXT62DmvEAXhCC7GjZhTyOn3tbCNRTPcNZsk52xb2JY9gzE7WXCxk7W938Bd+uRwnHbCXE8/O8fantvC9p68+Wv0W8I/kt4R4+WUBYbcSvjUZahvKIZ2okP6p6zIf9qOxc+moPd9L9TPlSP3/pv5UUlMBUFnNdblNwJZ9Xh3W+rEXWrqZyIkcgRByJopeOOBIAhi5kAiRxCErCGRIwhC1pDIEQQha0jkCIKQNSRyBEHIGhI5giBkDYkcQRCyhkSOIAhZQyJHEISsIZEjCELWkMgRBCFrSOQIgpA1JHIEQcgaEjmCIGQNiRxBELKGRI4gCFlDIkcQhKwhkSMIQtaQyBEEIWum6IdsgvA729DYbIH7ohLK20MI9KpR0liOufvyYb23CTWpN/hXgwIe2H5lxd6PPVDMUQK9ASgeq8HONT2oqOhFYX1B1I/yzhT8cNZUoqVHgZ6rKXirfmp+BDn4uRVWvwa5j2pm3O/lEsR1I4hcPOn3tbGtOcks8+ctrON81I88+ltYUWIiS0wsYm3npbwbQh/reLuILU/OY7Xtp1nf11I2z3e9tpaXJ5GtfaOD3YCfPZ0w597PY4nJRawoj9db8kZmv2a99bNOWxvrnNDFnGZ7H0tky59rY+dmYiUQxHUSV5Hr99SynORElrnNFeNHfvuZ6xV+s+bdyB83Psfszy0XBaLFF+MOPtPCchKT2dbPZqTEsZZcXl/Fbaz3637WN64i9rK24pzr//FsgpAR8YvJXXKiusgMt6YcVcU6jHRGFUiYo4ZumQZzpJypxtu0CcbWfuS+9BKyF8RwxBJmc/cvBYun3E8NwX/cA/8VKTkeAl1wHQF02gVImMXrjvxIgpgUcRM57/tmWAJA6rpUaEb5RXnViiqUr1HfmLjPJQcsL3uApGxkfHeU+N9tWuQ2F0B3h5SeMrywZWbB4glJ6TG46kHjBgMMRdWw8WTPx9XI32BE4xfjOHZChOB9pxSlm0uRlcYfThMRYIK4iYjTwIMXdUvWwRxIxU5XPdLvkrInywUnzG/YwTXz2jyQi5rHNVJikMCBUiwpsUGzqRWtz2inTlivBBFSJEAxS0pH80UdlhS4sKGuCqo9leh7shzY/Y+oVFbhT5X6Mcvk32fEirIgqn7TjNwFUuY1CcBWUor+55qRPU/KGoXQ8ToYHVrsTPfCsLYB+ubfoUwXKVEIwSA3dMl8JGRAfETugg3GpaVwLCvH/oZRRimv8hsnxN0u0coLwbNjNUyz38LB/JECFQ88b85H1g4gu/7EqCO5ofCdHBabs/wafuLC+g9roB+HZec/1AjrERcc7ziR8cFXKF4kbRhGsItblG9Vw3zAD8xLRdmzG5C+QgfVmIPLIbhrvgPDvmI0/64MA9ozDN+BRjh7pIRIHzptdQguKsfSIcOwKuifTIU6SogDbgvcszOw4IgB63br0NxeDp1kgQcdJjxYk4CmtnLo4zkIHvLAnGbC7LqDKEiS8ghiiomPu3pbghRnSxg1diRYJvm7Pfz2FfDBc8gP3bypmBARRnF7WDwTbh+lQCE3ajMq4JBEIujrgON2NZTjdF1VKwtQ9vQjuJaRFQoJV6yAUqmEEt3wX1Tg1tvD20bHB+8R/vHQt6EepfgC6jUFKHgqetmA792jQ1rB8PyhAieg1OUifYEX9t1eaB5PgzYqxJCQWoOvuOjFVeAEuj1wntVBPVdKE8QNID4il6DF0iz+ecSLbm4cjaDHBvM+Dcqe4G7jKRtMJdVo6FLCt68atlPSPtEI7mq5CabxLL/ySgcNRfMPGRBkzt3NLagRcEtyVy38T5cgdW4Q7noTSl+1AF+7YKl3I9YlTIrPzVj77CdQGGpQ9pAaJa/tgObYJqx9zS2J/SgEetDZJQ06SFlTQdDZhrqAHtkPq+Hbb4UnyOulvhSGzCUoPRDg1eRFY0kW1qUYUVlVibpW7uKmVMJ5iR/cZYExcx2WGPJRWl4H8+YsmLi1KrjBpYYsLDHaINS871dGGHZ50LXPBOPWBniVPrTU2LiME8QNQnBX44K/jW1MTmTJz7axcwNz0Rjr87awjTkVrC1qCkffpxUs8eEG1imlp4Z+1vFGJktMzGS1x6ImtPT3svZtOSzvrY6oaS6drOHhRFbx6ciJL2Nyvk2c+1frkdKj0sFq+X7jnqpybLs4f6+ifaJTWyYyhaSX2Z8NT1E512tnW4pb2Lku3lZvtbGW4kS2dncn6/9sO9uyu5ZVJK5l248JZelg2xOTWe1JXmPvbmQNb21licm1PJefzVbE23QrM/+0lrXsyWOJucJUofA0mJz3hElDfaz9hfB5CeJGEr8pJHPTsfPXzSi57SM8uXQJVhsMMGwwwdKtQll9FXeNBv0uX5cdWKaBWkpPDQpon2nCwfoU+F9Zh/kpWbw8BhhftiP08E40GbWDVtKFbnR06aBRSzmhALxuN9wxF98kLD0N0j9oRvY4p6r4fR7+byoW/9349p8cSmhXZ0N15iPU7ejE0k0ZUH0nGzvX9MN+QIfclRoolpWhZhFghx4p/42XpYu7m8psaO/lV2TYCe3XbcDqcDv6fQ7gTjV++Ho6cNgJ3RodVMFu7nZrkPKAEJbgLvhBbp3eO7WtThAjkMTuBhJ+uld82ss6d3MLbwZMXO3/jFskgmV53s62vuEa/9sP47bkxsnlPtZ3mVua3OKZ3KRpwTrLu67JwOJbFnl7WctbFeIbFufey2GJz9r5mfuZa1syS97Wwtpe2M5cl8PtWPShUErBEk6WLOGw1SrWiWiRbmW1uzeyvb8RJl5XsPbzfN8XuPUofBlB3ADiZ8mNm1sx+y4Veo80wDorG6nXmOpwQ5g9B7o5frTVdWDpo7pxTTcJHrei0fJbCOMWHR82ovFQrNjfBAg6UZnyIB4s2oK9B5XIXZ82ifdUlUg1N11z+siYzFJA2WeHCxnQ3xVC95du6HVJ/MzcNr7lVsz5Pd+my4YueBztR5TocttgedkM30+aUb5SsITV0Bp1cNnqUG31Qqd0o92zGNqFs6Ga14v2PVYofpQ6Je/gEkQspugFfWLieGHJ/0dY/Eos+GE5fvlUlDs9AwkeqsSD5XPQerQYWimPIGYiJHLExOl2orpmCxrP61D8T2Uo05NdRsxcSOQIgpA10xCTIwiCuHGQyBEEIWtI5AiCkDUkcgRByBoSOYIgZA2JHEEQsoZEjiAIWUMiRxCErCGRIwhC1pDIEQQha0jkCIKQNSRyBEHIGhI5giBkDYkcQRCyhkSOIAhZQyJHEISsIZEjCELWkMgRBCFrSOQIgpA1JHIEQcgaEjmCIGQNiRxBELKGRI4gCFlDIkcQhKwhkSMIQtaQyBEEIWtI5AiCkDUkcgRByBoSOYIgZA2JHEEQsoZEjiAIWUMiRxCErCGRIwhC1pDIEQQha0jkCIKQNSRyBEHIGhI5giBkDYkcQRCy5luMI63HldAFDxy2Nnxy2A2P24eAkDlPC91DWmQ8WogMnRIKcU9iIgS7nbC/b0fbFx74IvUKFbTLkqBZlIKU9DToFySIuQRBTIXIXfXD8YoJFU1u6QaMjVJXjJ21ZdDdIWXEiWC3G85Ddnx0Zil+WZ0KpZQ/rVzywX2Ei5PNh6W/qEHqXVL+RLjkQeOLm1B9wC9ljEYZWr8qhlZKTZp4lJkgZgBxFjk/bGVZKN0XkTcV9IZ0pC1bCpUiAN/xDrTbLHCelTYr07Hzg51InyulrxsP6uZnwSysrtmJo7XpM0LkPG/OR9YOYS0VO131SJ+oYPTYUJpZClukWpVqpD+ai+/9gxpKwRwO+uE6YofjoBO+QHxE7rrLTBAzBUHk4kM/63wrkyUmJoaXx7az9l5pUzRf97L2bVH75bWwc9Km66eD1UbOW9zGYn39dNDxhlSmxCLWdl7KHC+X+TU9Fjk+meW81s56v5a2DYfXreutFtYpJa+H6yozQcwg4jfwcLYN5lc94XVlLpoay6CPZUbNUkL/3A7sXCOlnWZY3SEpQQwlBM/uSpiPh1PaTfVo2qSHclY4PQJetzpjNjRSkiCIOI6u+t1tcErr+ucKoB8z1qZC+j+WSzdjAHUH3AiK65wLNhjnz8d8YXlTEs1oYm4X3FQhT3JVBQ6UYsmo+/GlxCbGDIOnbKguXC3tuwJZJdWwnRoozQCC+yYeN98I2wUpM4pY2yN5YbdPwIHSpZH96nhprsElJ6w7vOH1pHJUPaOd3GANd2edrdUwbcjCCvG7+bJkNQyb6+DoHvqAmWiZA24LKksGz7si04jKd9wIXJV2IIhpJk4iF0DXMbe0nopH/kElrY9BkhZ6aRUHvbhWOH0q8O8vxaq0UjQeioxS+uE50IjStHUwXTPAP/UEPS5YpXXdE6mTtNC8qFu1AvmbG2E94hms54AP7lYzjKsMqDs+GUuaC2dVFpYYKmE5MHhe/3EHLFUGrN3ABfGKlEkQ00icRK4XviPSKhZi7rgGElT4dsRlDZxGz1hDsddEi4ITJ3DiRBOKpRyk1uCgmMeXJ2OE4c80oHJjD9K2teKwuN9htG7LlQL2flirGuG8JCYmjfbJ8Pc3GaUM/gCosUtlOlFwzcEB/9lBu2npfeN4cMREEDAdsiubcPDon/DVV1/x5U842hwJJ3hg3u0YGAkfX5lD8NZvQv47Qvm0yH19P06cls7bFB70CLjNqNztEb+dIKaTOIkc78rXJVIhhK7TvVEkJCCBL7dKacy6FbOlvITbpLxounqh29uMqiwtVOJ+KmizqrDDnBreHrCg5ch1XRRwm/T9A4UCbo2UKeHajmfosuSqxiQAW0nEjRy6GPdHl1uNXHszan6sh1ocihVQiFN4Sh6Xkgc64Yuo0XjKHBV/1VfvQNU6DRLEOCE/r74MVaawzendYYeHVI6YZuI38HBdqKCM83y5a5JUiIxlI4VGtXI9cqV1x5npd1mvHy5OvG5Dl3zwOG2w7OIWVokBhswVyHpT2oVbroEJWK0Br0uKv6bikWUjLUyNNhKIaIPnlLRKENNEnEROBVXE9UQnemIE5kfix+kD0mrSHIzDsIkv98zBHGl1CNxiGcj/suf6DNTrRHWPZFVyOkf48wnQPd2M5mZpqS3mTmks/HC+bMDyxauRlV+Kypo6WA644b6ohHaetMsE8XfbpDUHSpePtCTnZ9dJ23mZv5ZWCWKaiJPIKbFAGwmLO+D648jRyRF0eQZGY5UrNNypmoHMVXIpmT6UCxYPDDY4PvMMjkCLcNfwfh10OmnRfjtGWaXYmfj2iRa525px8OgJ/EmIn7W3ovwxaTeCkDFxc1c1/5AxEEi3vtlwjZE1P2xvVSMccdJgw/ejpkbcFmVJxbICQv3DbvZJchXol1aHcNYHl7SqmZMwUC7F7VFjmyPKFULosrQaT5J0yFgkrbfWouHziQa4vLBH5i4+VYbyLB3USn5NkXl2k7SylHMjFqbwNoQw4DD6UhwpP0FME/GLySXlouwpafZvVx2MGxvhjaVGVwNwvroJpZKrqny0BNmLonzVBCXmRCYRH/JIQjiI95AVkckq14XjI7gjr5cNEILnQ4t0fiXSFg0K25y7Fkhr3FIdfmGX3LDvk9bjiga5zxdL1pwXdcVGNH4xAYm/0AOftAqFYvBBInDFg/ZD0voEUd0XsTAd+Mgph7glIWfiOPCggO6n9SiTntyBQ9VYt2o1SmsssDndcAtB7x2VyP/+EuTXS9bFojLU/2L4S/RqaLMiYlmNylcd8AWCCAb98Lxjwj++7R/jfVR+IydJqwc+gb0rwI/zwXEo1iilE6afcNFw+/k+/PwBH5z1RhjflPZd8zMuvuFVAaVm6cC8PmtFBSzHw8cFuh0wl1TCLm2LxaAV6MAnvCwBfpzvgHOEgMdC8d9KsKNaegc34ER1xoNYkV8Jc6sDbjevV7cDVqFef1TKzz6Mu+ZiYaSyfrUX1q6gMA6OUI8HlheNqOsKb4rFmGVOykChFIN1lj8B4y7hnVl+bmGEPMTrsscLxzuVqHZMZ0STIMLE/6+QXPHB+vMnYWod+wmvWlOFt6pzoYkV9DprhTHbhJH3iBZlr2egc2Nl+Ibe1Iqvnhk628zblIV1Lw/OLxMZ2C/6Bf5yVCktqHwnRjnnZaPeUoPUIfP9QnC/uhqG+pH7Kx/diZ/NLUWpOFoZ44X2rkZkra0e9rbAxF6k9zuqYapohPtauqFUo+CXrSjXhyvW/6t8rCiPRD8Hue4y9zhRuTGfi724ISaprx9F/brRH0kEcSOIoyUncZsa2dsO48RvmlBlSIXu3sFOrrxXh1RDOXZ+cBSHa0cROAEuMjv/B7cKhTlsYoYS6pUF2GlvQvFDs8Wc0dDkN6HVlD04cjhPi+y5sW60OUir3I/WylzopTIK5cveVI+DbcMFToBbqs8N3V88t6kZv96Wjrm3hLNiklSAJms5twwj0y2EOXmqMSzSkahSy9H8u6Nofb0cuWuE2Jq0gaNaJNRrMWqaDuKE6+CAwAmoHufXU182+N3xKvNcPaqsR9G8rQDZOvVgvvA3A9fkovz1Vry0ZiJXSBBTw5T90cyZycz8U0wEQUwd8bfkCIIgZhAkcgRByBoSOYIgZA2JHEEQsoZEjiAIWfMNG10lCOKbBllyBEHIGhI5giBkDYkcQRCyhkSOIAhZQyJHEISsIZEjCELWkMgRBCFrSOQIgpA1JHIEQcgaEjmCIGQNiRxBELKGRI4gCFlDIkcQhKwhkSMIQtaQyBEEIWtI5AiCkDUkcgRByBoSOYIgZA2J3HCu+GDdbIK1OyRlEMEjZhhfdSMopeWDH7YyIxq7qK2nEv/+UhibvJiuWp4akbsagLu1GiZjKSp3NKJ6YxayCqthOzXTb5MgnK88Cdd3i5G9QAFccqJ6QxZWzJ+P+XxZkWmAqdUHdFmQb1iNJWL+Eqw2GGA+Ilwbv2k2R+eb4b7ZlaGrEfk7bkVhsQ4JUpaAf78JhkgdLFkNwwZDuCN/YRHXVy8ZrBvDiw4EpONmFiqkv7Ae/jwjrGelrKmA9xejkdcJr6sl/GER82a/5IF1lw3eK1JaRqjWvYT1f8mHsdUv5dxghB+yiSd9J/eyIn0mq3i/g/V+LWVyztk2suTEZLb1s34pZ+bR/9lWlpy3l50eUsRe1lacyBITtzD7RSlLpIPVJvL8H/L9pZwwvcz+bCbb/lmflL6ZOcda8pJZxaejXMuZFpYj1MHzdjZ0D143yTz/4VrWMXObe4Bz7+exxOI23nLjp9fVwlznpcR4kOpqiz12XZ7ek8kS9VtY25mboMImA7/+vMQi1jaROosTcbXkQsfrkJ9RC8XTNSjP0kI5S9rAUa0rRGFSAI2vWsFtoRmIH21NjdCu00PNjbiR+NEXbZVd6EGn8Pm5H4GoR3PouBUtyjIULou2e25OQm4rzL3ZyNDFvpaA1wU3/0zVaYdYeTjrg4ubbsplWmhi1uXMQrVyPbIPNMB+SsoYB/7PTWj3jd8BC9eVHtq/i12X6h+34qv2GqTPuwkqbDLMS8P6LAcaHDf+7o+fyAmuXZEZHn0JSh5VY2RTzcGce/jHF+3wTKVrMFnOutHm1GHpAyopI4IScxdIqwOE4N7Dr1UpJQfgQrnrNB55Yqhrd3MSgudwHQIPLYbmNilrCCH4Ttr4pw6LFwy92oj4aTWx+sEM5I4kLE31wnLEK2XEG6mukhZDfZeU9Y0jAUm6VHjfdWKqank04iZy3vfNsPCnd/b6jFEsoV70npFWp4HgKRuqCyPxsuglC41f8O0+L78xNVDPlQ6I5hbhHzf8/1NMiTGW2su5KNQKCR/8F8RcBA81wrWsBKmxznHT4YP3CJew+xaMIlTh7VBya02IXw4QET89Uh4Y8RSYWi550FheisoXjVidVg1LazWMm00ozTTCNuaDVYW5SfyKPN1TFDv0wbOPf4TaUVtlRnVJFvJ3eXhN8Szel0o3CmVcDbN7qGUY/LwRpg0mVO8wIb+kGo27GmEbMkjih7MmH/nl/JwbDcifxuD+eFDdsxDo7kC3dL/cKOIkcl44dwv6nI2U5FFsmAvd6OjinxN5moW8sJabYBrPssM5agf1HzBhXW4L96tq0HriMJqMgjoVo+nECZw40YyC+/k+Zz3AMhWUMe5opVInfoauCl3ID+ubnVj/dDbU/0nMFf4BrrhR2zQHG2JasTchwQD8vL3Ud82RMoZx1ot2oT1v49ddaBAHGyKLaRfPv+FWixeNJXuR8OQvUfWLchSoGlF5YA4KVyrhPu7AJyfHli/l3FTgS/4gltJxhdeV4L5rV5dhZ3UZyk0boKjJgrn992jc7sf6n+diYcgH65Gw8AkII5KrijuhraxC+aYalOu8qK5pgz9KxbxNm5AfXM/PWYKMvwvB+bYdnpmsckoVUtGN3otS+kYhxeauj/NtrEgIQOc2sM5R4qZicJfvs/a1Dja4Sz/r65viQOvFdlaRnMiK3js3+L2eWl6WHNZyRkpzOt4Qyt/CzknpaHptRWLZhaBx36cVrGh3p3gu8ZjEVazBy1jn7hxWMUpQeUbi3ctyeL0sH9IeUUhtOtpAkVAPQp3kvT+sxqQAe/IrrtjnnSD9fX3jO0+vi+39MNwurI+3OS9DjtBOl8+xDlcHO3dZ3GtUwm28lblifFmvay9reLthyFKRx/vys9uH5e9lrhijF+G6yhvsb1Id5by9Tyxzn7eBrY0elLtoZ1v49uh7peONZJaYzMs3cB3SgFhyBWtxdbJObwdzfTnD+981+tRUER9LbpZCsl4SkBDLjAl5YNvj5Eqei5KfaKEICsPlZpgyl+PB8qmdXhA40sLd6FT8QK8asLACPcKQgQqzxxs449cn4P9XOyzNCm6taaKsNR96T1pR68lAgf46I3FnbTCmmOC8JKUnyoSPV2LurdLqhAjBe8zCP3VYmjTU0hstHuffZ8SKcuc459oF4WlthHlzFpY/uAWO8bg33NrOjbRLtxd2fm2ae3kZblNBq9NCFYkr8r5oTlmNRsEKHSdKXS4KnioYsmQs4lf/aMmw/FzoYnjovpO8rqIs23BohJcv6Qe8zGp4P26ANykbaVqpnzk/gpVv1z0U6WdeeBz8LnloIdQD8VElUp8sh/42C0yGdVi31oj23uganwgheHaswGru7k6O6z1+aomPyCnnYmES/zziQ88Ic5lXwK5qmLu0KDaXIfUOnpWgRfZTZcjWX0Pe4uCu+s84uBu6FEkDrhO/gT5zQGlIg04oi4TokvaHBtyFaJR3f1v8dL9sxulHeUeWjlPdw10cTmO5FQufzIBqsn1MIujrgON2NZRR5ZoIEzo+KRfNR4+imbvuMYt9h5I/BngTfB1ODkWKMSUthXZc8bgguj0OJKiV4xyQSYA2qwBlP0qZwAMwCJ/bA/8VLgnH7fy4FCyWhnZ9h6zwRNS12wPnWd2I2Gu/cJ1Js2PXxXURQE83/+CCFS4O739OQfQykCJkXHKirT4A/Q8zoD5jg/V4kD+EeZ+NKn8kNKBftgj9bgsvP69nhwXWy6loav8Kf3I1oUCYuRDl7k4M3p6H/NDNGz7oNl7GebzYlzSYfbuYumHEKSanQe4vyqBFIxr2RU/44w1ab4TxQzWq2ppQNtFpFQoNsqtrUDOeZZOeP9tGor43Gzg/KF5BdwNqD6ej7CdDR0BnK9UjpoOMYE0ZylaPbEgNF+zcRSNvj1C3MNhRirr9VlTml8LS1Q1HeT6y1q6A+XP+RUEnzBtMsPUE4a43ofRV3vm/dsFS78a/OithWLsOK/hxplfr+PH5aOQ3gKe+FIbMJTCK9eyDtcSAxs8DI44X7+mrIQQnO7lUkYA5QjD+QowolRRjwgPqYYNM3OIQxS8qHnfJjbrNpahu5vXBb9A6cdL0ZPHDZlyC+fPzR0ze9e/bgtUGIxo/c8L9IbcolmmRJIh9jw21rUEobuHXss8E41ZuNSl9aKmx8dobRBSWe1TX/aAaCbeW74vqmWft2NvMH/imEvFhGXB/wq22VDyycjbcez4B7lRID0/uHYll4W1us3LLTxj5D8Hd4EWo3wGzsRb2Yz1iOysSEvje/JwrIpYfP2ZXKfJftsL2phH5NU786/E6lBqysMRo47XI6+JXRhiEwY9TNphKqtHQpeT1I0zY98JSkoV1SwzI32hC3asmZHFvy8/rx5TP81PMYtwv6DTDUM7PNeJ4sQAIBYMjBTfghwNzobo77pU8NpLbGhf6vrSz2ucyWWZeBdv+SgUreraCNdhc7NwooQIxpjXBSZgT5xxrfyWPZRZvZdtfKGJFr7SwjlhfKMZJMtlen5SOxi/EEjJZrWdoLEGYPJyYvJG1+aWMaMRY4GCcRbjWe35sZKXv7WXbk8NxCfH4gThQJ2t4OFGaeNvHy7ydNbyRM1A/4bqqZMa3WtjevESW8945qcyR2GL08bxsX7azhufXssQ3OsT0xOlnrlf4d/68fTAm1tfOtufmsJzUZDEel5i8iuXkbmeuy+dY2/M8/7Hl4fzE5SwzN481eKTjxJhTBWufaMhIjJ1GTyDt5fVSJH7/8Fhg/8kGlqfPY0U/zWPb329hW3OWs7xfbGVbnmtg7f7IFfB6fSGRrd3dKaUj8PIXJbK8PafHF//jCO0x7tjS5U62t3gVy3t+C8sr2MpaPFEd8LydbdGvZXnPbWHbbZHvP8fsz69iywu2sIqfbmEN9jZWm7ecrX0sj215X9inn3Xu2chyCvh99ja/Rr5fQ/tgzLlzdyZLzJPiy2IcLIU9/UQta9mTJ8Wdz7GWXKkPccSY4cMNvAdxvHvZxt21bGtiMu/vPC0ev4aZtmzhx29nyWJ/lfqGFHcdcjxvo473t8ec+HvuwyJeruGT7aeeuL/xMBFujMiNF2F2fyIr+nBYIF2gv5d1uk4Pm9XPuXiaubyxS3/uPS5QybUsLDFSkPiFdtbrinQUoTNyEeJ54nnFzhQ9GBI+JnxDhm9CsVOJM8fD+w3pXCOO52cQgumTFjl+2WJZt0vXMHnEckQN6vSf72Qulyv24ouq5REiF0ao29HeHBib8JsYI8RJDPTnsb1fjv/u63xrOdsea5Riuul3cYHi/dgm9Uteh8mJa1mDN9y/RWETB2aEvPAu4qBG9ECReIz0UDq2nbeB0K+4sG2L7Df0gTriePFtoOHt1sfsz03sQRIv4jZP7uZHhTRDLjx7nEPcGBGFEhqdemQ86Q41dEmx54IFr3BH4iHu/giJHjc+OaBFWbYO+DcfAmsWcjfPj+5jXujm+NDA3YmArxOOpBRoFA5Uv+lGKORD5wFA/4CGu3xdcDm0KE/XQXExACeWQj2PuxxCQHsZd2E2WnB8+PFiKa4PhS4NhYvq0HboelzMEHxeBzR6DW51VKPOHYLiLg10Ol3sZdjE4pF44divRtpoU5XGQnwTIxdL1T40vhh22wT8h1rQbliPjHvH70ZpjIdRprvBbtd4CIVDMwvnCv0yBI/TDjxagoykAAJOYOl9vEee6oCFu7+h3wshFD98xwLIfUgNX1OlOJ/Q/6ULgdTFEJrC63FCaShE2rwgAmcDSBUGlHqE6WA6zOluQPWhP404PibcTW85nIv16fx4KetGMevnHGn9BuKHc9f7sH/+GU7+67+H4v8Gceu3NbjRrvpwFPMX4r9+Xop/+esjWHvf9UVH59yTiFs+/gDev7mCT9//Ixa/8kvk3X87br/lCv787u/g58L1h55LCJy8iDuzC/H9O87A84UfF//ci6VP5EB91oZ/svoQuutWXPjo15j9Qj2KFvMKuvUqvv7iA5z8n1/iZKcCvV1ckr+fg9zES0OP5x30yqmP0fj/W4yNS+6WSjVR5kCTdAv+eeNJqAuTMbmzXEWwy4M/nr2IL//3UvzoR2rMlraMhf9QI97/5A/47IsL+Pf//gqCt6mh4R3E12zCr/+uBHkP3Rmeoz0R+ntw7NMO+P/vGczJysN3lfwMl5x47Z/+gvVbS/DAJHRzxqG4B6r/8hdYjwTxrVPvwc42YHv593H339yOq3/9Iz7ovIAvT/wRisCX8P3NKuT8+O/wV7cDHRf6cObOTOSt+BaO/HMlOv6UgFu/9Qd80J2CnT97GHf/u9sx68qf8e4RP4In/wB/MICTF+/E+if1uOVE9PFzeLucx7HXPZj95Frc9x+EQgXhNG/CX370Mkr+fjytH2cki46IcPk0a3m2aIjbNx2Irux1uPKCS2h/jbvMz+8d6gJOgr7PtrOcIe6IXDjH2p7bwvaevL76kRWiKyvF4yZFHzvt2svd/xy2/eNO1ss7zTnbFrZlT+fIcM8N4lvCP5LeETOE4HELql+uhHV2LnZuKkf6/TPQLSJkiA/Ol6uxpSkA3TNlKNukD4dbbnJI5AiCkDU08EAQhKwhkSMIQtaQyBEEIWtI5AiCkDUkcgRByBoSOYIgZA2JHEEQsoZEjiAIWUMiRxCErCGRIwhC1pDIEQQha0jkCIKQNSRyBEHIGhI5giBkDYkcQRCyhkSOIAhZQyJHEISsIZEjCELWkMgRBCFrSORuMKFuK0ybrfBdkTIIYhoJHa+D4UUHrueXdWc6UyNyVwNwt1bDZCxF5Y5GVG/MQlZhNWynprkqQ/H4yeXhhODZZUBWynzMn78OdcfH+I5LTlQXuLD0p9lQ3wZ4m/NhSFvCj+PHLlkNwwYz3MEgnDWR8/ElJQsGQRSv8m/6vHFIvql1xM9g35zw/uLZXwdT5mqsNhhgMPDP/EZ4LvlhK8tHY9dUtJtElwVGowGreZ0ueXWUH+W+5IF1lw1eGT6YFIuKUZ7YgFWjXbscEH6tK570ndzLivSZrOL9Dtb7tZTJOWfbyJITk9nWz6bp1zvPtLA8/v3bj4WT8abjtUSWmLiF2S9KGSPoZ65XklnentNDf7/UU8uPS2SrdndKGWF6bUVifkX7sPo6WcvWPtvCTl+W0jc5fccaeH/h9fJWOzsdVXd9ru1sLb/+xIdrWcdEu8x5F2txTeAXa3nfyOHftcUe+5dBT+/JZIn6LaztzDT13amm38W2J1/Pb63ObOJqyQmmb35GLRRP16A8SwvlLGkDR7WuEIVJATS+yq0SKe9GEjjZDie0+PZcKSOueOE5xD/WLIX2jnDOCM62oWGXFo+sVCPWr6j6eoNRT9IQ/Gd6xDXfhV7xM0wAtrc7kfvTDNESvNnxHzBhXXYD7y/NqDfqoY6quwRdNnKXAcplWmgm+rOz5z0wHfaN2zIJeF1wQw/t38X+CX31j1vxVXsN0ufJ9PdvFTqkPTkH5g+dsnRb4ydygitWZIZHX4KSR2PdyHMw5x7+8UU7PGfDOTeOILx/cADLliLpLikrnvR0o6ML0C9bBKWUNRy/uw1O4fuHi6xShVRpdQBBEN+NFrcwoSMNaLmvEBlyuNm6GrGpxIp+w0t46fFY/WU2ZvO6SlmkiflQiB8h+E7agKTFUE9F37hJ0Gj1QLMd7ktShoyIm8h53zfDEgCy13MrI2av7EXvGWn1hhGOlxkMWdjSzPWk147KDQaYj0SeV0G+3QTD5mqYN+fDWNOIRiH2IpgAVzyo21gKY+YKGPd5xP1Kq6ph4un8XZ4hVkLwyw5wCUVgfzXfx4zqwhVYXe6AP7yZE0S3181vJPXIXyS/Rfo85ec1JBCEs7Edi59OE1Nuf9iiE6xFyztA4RPaKb7pbwRBOPZUwwMNsjP0iG0/KaD9UTMKkmNvjR8+ePbxj1A7aoW2K8kaaN9QlwWlG3m7Z66G2T3ULgx+3gjTBhOqd5iQX1LN+00jbENih344a/KRX87PudGA/CbvuC3LaWHut/nDlntZN/wevQFIbut10slqk68RkzrfxoqiYiznPq5gW17YwnJS89jWT89JOw2jv5O1PL+FbRnP8lo7GzUK420Q4ztDYy7nWNuzySx5IL51mu3NjSrf+3l8/17mekW4rky2/bPwseFYWR5rOSMmRcLxOL5Pu1QCKc623RVOCvXT8HAiy3n3tJSOot/Ftgr1ktvCS8STn21lOW90sH6pzImvuMQY3rn3ithG2yj1dLPRa2cbo/pC3BHqX6q3ayLF4zK3uZjYwv5wP936WzerzdvKXBfDbZfMt0fOJ8aXkzeyFl845/S7Oby917Jaz+A3du7OZInP2/k5+1nnW3w9eTtzTcW1xo0Otp1f92hxyZuZ+FhyF7rRya04LFNj7iixIv+Rj0RrR7NSB03IiUbnUpT/ogY1BUBjYSWssVxYBX/SV/N9xrNs0o/uKnJLyzss5hJ01KF03xxk/ygS3wpyi2wwBhS6LQUZGr/4lFc+VYaSZeFjewOCZaXArQPmlBSPe7wQhfpwCYIXBZtMD9V/FpOcELcK+MesGDaYQsEdM855/v2CtVYfwgbBWrtzDkTPNhhE6BKvr8OLUbhyhB04Ifz7jFhRPvm4y0SO975jwJL5K2D+PIb90uMDdxCBB9SjWP2cEK+PgUO5Rb6DW8fcGhpBwA0Lt6IES2pg+bADONKC2mH5FrfQSYcS9HnFeFx2ti5sUV7tF6/Pe/oCEtZlQHPejbYuJTJ0kgV9ycEtfBvmPL4BGQvChQ9e9PFOooP2vsjFBNDt8QCHXLC7+bYV5Wi2FEI32rWOyRjXPk7G22638sV/qS+ckBHxETl+84bbLwEJsRoy5IFtj5N3hFyU/IR3lm5+M7c2oO0UoPqHR7iZ7ITXN9lb71qE0PNlOB6nGYi5cFfiI6vYMZcmSQXu8sDO7wGtJhwfUq/JhS44NE8QNPeHvLOt+QEWRc511ot2IR6nTZLcLu4COy08Iw26eWLGNeBnFrSxuxfeX9WiY10B9NGDFz1+2N/dC4UhG5rrGmzgLrPHgQS1chT38FpM4njlXNwaNfg0ABd2jfCZkCDV63BCcL+xDhUHIw4/dykP+Xl9xhB53oa5TxWgIHp5bDFv7/UoGZafqxv5GPSd5G0VFY8Li54SmqQfIPdRNbwfN8CblI00bbikfudH3KlTQvdQJFbIH3IO3kkeWhg1GKRE6pPl0N9mgcmwDuvWGtHeG/tKr80Y1z4urrfdb37iI3K8My9M4p9HfOgZ8eAW4mLVMHdpUWwuQ6pwAy/KxcHmGmTcy9elJ2dMQl5Yy00wjWfZ4eTPz1iEYy6ah7Si1eA71AhnTwB+waxcuXhAOPwn20VrL+WBfrjfcYrxtLAFKAihdHN0CU91IHXlItx63AoHF2lh1NYt7jMnvM8lN+zNfJ91OszpssH2hVAhSm4h8su5GisqMweqh4TPRpjeX4jCdFX45rmL16nweYTX3ZlHkCtZkoMI8cRS5L9she1NI/Jr+PX3OGDKz8K6FDM8/KuCTjMM5Tb+dHajbnMpqnm5Qm4L6o78K5xVBn7zrUD+RhPMb1YiX5iXdnq8x1/7gaT5cTOOHm1G8aIYN3eSDhlCf+FWzmDccpDQ8UbUXihGiWC5nrLBVFKNBm5N+fYJcy2lneJCQBgz4gKlkUZwpQdUUgZShAxuQbfVB6D/Ibf2z9hgPR4U6xhIweLIkG/kIbdsEfp53TjPhuBzWGC9nIqm9q/wJ1cTCoRZBUcicdwJtNuIaw9Oabv18yXhdsGekxmS23rd9HtqWSb36fPei44b9bGOt/JYsn4L23sylq/fzzpeW8uWP2cX41FTghQLFOeb+dvYRjEG18vaihNZ4s/bw3GWvg5W+5gQF2tgnV+2sDwxltLH2l8YGjcKx+OEuOM51lK0kbX5hblvw/b5eCPfp4hvO8e/o4i1iHOrpHPFjBNJZUlcy7ZKcb8wvEy83MK5wucYihjzyQvH8cLXuIaZtmxhLXu2s+TErczVL5Ut8p1ijK+CtQtfcbGdbd3WwGpzE1mRTYgjCt91D8s3lo7veE6/q5ZteS6PrSreyzpHFu+aRPpL5hsdvHYi9LPe9u0sp4DXZ/ScuU8reB3ztpHS12QCMbmON5IH+4E4lzIq/jrQlr3M/ly4HcJ9gNeDGMfl/fsN3g6JOazBe5q15PG+8WehLZJZzmtSjO9yB9v+MD+nK3zOibbbkGufynYTyzI0rigX4ja6KsycbrLXY7FnE7LyK2GuqYSxjD9Z5haita0GufePNJb9+ypRi3Ls35Y6ctQxXtylwyOPq+Fs3gLTG73Y8ILwtoES6aZ6ZLt5GcsrUVrjgfonZdD721DJ19OeFEb8/PAd4fs9kTowT0v50CPInufF3s3VCBheQvpcH7z8wa5N1Q3u88AP+D49+KjGjM7UMmm6RwIWaHSAJ5blosTcBfzfRwuHWWth60+7KcaUkRC3KF/2IPXRlHC9nffDw43yBRuqoOq1IvBUCrQKXrYjQK7kVgW6uVW6TIMFwlfcoUd57hx0HtFg8QJupfb0oBPfwoKccR7PLSDHAQVyt1WhIFgJ6zgsu+FE+kuKvxrr5q9A1gYDDNxqsYfSsPOfi4fMN/R12bn7qYFaSscT7ZNNqApU835g4taVD2kf1KNMagelVmrLN3hbfjfclsp15ah/3I1KbklVbqyG594NKNP3oO1Fvr6mAPr7UlFSydual7mBezCmjVbM/qcdKNHxc06i3YZc+1S2W89pOJRaaO4Z1tfkgCR2N5xzti1sy3vh2f/n3suZvjchbhSilSBYBVI6ij6fi3Vwq3Ao3Go42cHODZo5g/S1swpuBYVnqIet4eRn7dwmDFuF4lNeHCXMYbVvb2dbPw2PEq/d3cl67VtZratfHMVNTNzObQF+OvsWlviYYC2M93gPq03OZHu/FCyhRJb81rhtrEnArWZuuVTwMnTurmBtUaPao3Kyli2PGg2dMUy43bpGXPtUtVvn27wsL7RHWdXyYdbPOZLe3ThOWfDkE3X49JAFda+/jj2HVMj+aTY0/1HaLkf+owqz/20bavtSkPPgnVJmGMWdKtydEJkwF+EW3P7/3Y3ZsR6sinug+i9/EZ/E3zr1HuxsA7aXfx93/83tmHXlz3j3iB/Bk3+APxjAyYt3Yv2T38edf/Hgj2cv4sv/vRQ/+pEaZ9r+CdbuEJT//gLa7LNR8WYRtH873uN1+H5hNv7+bz34cIcPf59TiOS7h5c/XvwVPW4HOi704cydmchbMWdgauGo/H/JyPvvqmvvd6OZcLvpccuJodfunYp24xam5ad/xtIXiqBTzrhau26+JSidtE5MNRccKM34CN9rq0f6tM6u96Jx7Tp0PH0U9etGjjiOiyteWF5pw5zcXMydNRuasD9ETClT027epixUXi5H8zNymGg+krjF5IhxcFcqfvk/UvDbKmvMUcUbQxCedyywd/EH+B/ck/zLGgE4XhT+OogXe59/ArVT+VdCCImpaTfhffPa/12IHU/KU+AEyJIjCELWkCVHEISsIZEjCELWkMgRBCFrSOQIgpA1JHIEQcgaEjmCIGQNiRxBELKGRI4gCFlDIkcQhKwhkSMIQtaQyBEEIWtI5AiCkDUkcgRByBoSOYIgZA2JHEEQsoZEjiAIWUMiRxCErCGRIwhC1pDIEQQha0jkCIKQNXH+IRs/bOUmtHh8cJ8KQHmvDuo5CUh5bid0nnxUHwzA5/YhoFRDd58SasNOVKVO7qfVAm4rGva3o1ehxkKFH/ZjQWh/Uo6SdWpM14/jBU85YLV8gg7MweI7Q3Ad8WJOahnKntRBOUvaaSq5GoB7XwPaDvVCce9CKM7Y4bmixYbnSpB+L/1kIPENRRC5eCP8In5iYiLbYh/2e9yeWpbM89e+0TH5Xzfv62R7i5ezzJ+3sI5eKU/A38Y2Jiey5Fem4ZfTvz7H7L/IYcsLaln7mahrvtzBah9LZIl5LeyclDVV9J3cy4r0mazi/Q7W+7WUyTln28jrPJlt/WzG/Z48QdwQpkDkepn9WX5jJxaxtvNSlkRY/K7jhpNEI/nZFnb6spQXRefba/n517K9X0oZN4RzrO3ZZJb42HbmuihlRdFn3yIKfsWnwwQ/jvTzh0cmr9eN752OIfCdrOFh3h7pe9lpKYcgvknEPyYX8qFjH/9cthgL7ghnhQmg65ibf2qxUD2Zn7ENwvmKEebjepQ8nQH1bVJ2FHPunsv/9aL95I376WZv0yaU8uvN/cdC6IZcb5iEOSrx0+Lxip/jJwT/cQ/81/oR4UtOVBeZ4dGXoORRdYwfCJ6DOffwjy/a4TkbziGIbxLxF7luLwQpU96vwRAti4ifPgWL7gpnTYguK8zNAeDx9ci4N7ZI9gZ6pLUbxCUHLC97uKAXIntZ7JhX8GKv+ClEHif2O/Ne2DKzuDiOfZT3fTMsvFqy13Phj1ktveg9I60SxDeQuIuc/2Q7vz2BW39fi/wNBhgiS44JjTxfs0jNbYuJ4z3cIJ43e4VulIGFALpFa0mDxQvG8Q0XnDCXm2Aaz/Kr2FZYwP0JrPxTp9eNIjCAr8sufmr/LsrKuhJE6Kq0Ppwv6rBkiQF1nydAtUYH1e0+WEpWYH6VM4ZIeuHcLdYKUpJHGVi40I2OLv6ZtBhq/nDxH6iE6UUTDGn5qD504yxegpg2JLc1TvSx9heEeFweazkjZUnEjsf1s47XlrNVuzul9Gj0srZi4bw5rME7SjzvTAvLS+T7PLyddYjxuvGee/J0vCGUKcYAS4R+F9ueLOxTxNr8vA4+bWDbf57HVvFjaj3SPjHo89pZbfFy8dyJ+iJWa3Oxc7G+4nwbKxL2yW1gnaNUy7n388TzrH2tg/X3tbOK5+y8lSL5I9uJIORGfC25kBeuZv65bCk0Q1zS0eJxPni4NaGbF45bjYVCOizh9lgmUwgemwVO7hTmPlMIrRivG/+5J4vilvD0l9hl4ld9cC/quCupf6EEqXMB1coClD39CBZI20cjFBJsNgWUSiW/om74Lypw6+3hbUOYpZCswwQkxKwWD2x7nNxXzkXJT7RQdHthaW1A2yleln94BKm8xry+oLQzQciT+IrcKQ/a+IfmIe2143GnbDCVVKOhSwnfvmrY+I03OkrM1Wj4pxs+/0inLXS8EdU7vNAad6Islbtt4zl3HNxV1b1p4qe3Jxx3G0KPDVtfdkD5aA3KH9fEGBAYhc/NWPvsJ1AYalD2kBolr+2A5tgmrH3NPdJdVc7FwiT+ecSHnhEbufDvqoa5S4ticxlShUGRRbk42FyDjHv5+tV+kLwR3wgkiy4uTHR+XN+nFdy95K6WlO4/tp0t5/slb4sx122UOWd9x2pZXvJytmVPp+iGRRh+7qlBmj6SvJW5oqa09PvaWMVjySznNTs7N3yqi+RijuWuhuHXy/e71nSb8PSRRJb33pBaYR1v5bFk/Ra292QsP1dw5dey5dx1ner5ewQx3cTljYeg0wxjkweBL7mlxd0z8U2H1BI0/TCAyvIWbn25w9MX5mmhU6eh7J8LoJ0FeN5cgqzLO/Enk060dEJdFlTWtMF9RIea02XQDX9LIOiD451GNDh7oVmm5hYbt6AWfQ9pqXrulg4NvA8/95QhvGXwbi0abF4kPKTD7IAPIWUKUtJTkJoU422OCzYYl5Zi4QdfoXiRlBeT8BSS0D28LmNMTYlGeNPC0tiA9n/TQMetNKENFuvTkLpCB1WM8Qj/PhMqz2Rg56bRBnEIQkaIUjctnGMtucIk2V7WubuCtUUC4P0utnWMQPr4GOXcM4FxW3JTwznbFrZFmjQsWN70JgQhd+I/T27c3IrZd6nQe6QB1lnZSJ0Xzg0escO/Uj/qlIzxEfvc003wuBWNlt9CmM3X8WEjGm/0FI5TFmzaaIW1fDW+M38+VpQDatWU2rkEMe3E+QX96+SKE9WFHUip5a7qNVw0giCI8TCzRI4gCCLOTKO7ShAEMfWQyBEEIWtI5AiCkDUkcgRByBoSOYIgZA2JHEEQsoZEjiAIWUMiRxCErCGRIwhC1pDIEQQhY4D/P6c7RjH6dfyQAAAAAElFTkSuQmCC)"
      ]
    },
    {
      "cell_type": "markdown",
      "metadata": {
        "id": "1Y8ZIAFgL91J"
      },
      "source": [
        "## Sentiment Analysis With Amazon Reviews\n",
        "\n",
        "[Sentiment Analysis](https://github.com/gabrielloye/LSTM_Sentiment-Analysis/blob/master/main.ipynb)"
      ]
    },
    {
      "cell_type": "code",
      "execution_count": null,
      "metadata": {
        "colab": {
          "base_uri": "https://localhost:8080/"
        },
        "id": "4bzUTIyuMcPP",
        "outputId": "b5ed5765-61fe-456e-d305-8c120b0a4efe"
      },
      "outputs": [
        {
          "output_type": "stream",
          "name": "stderr",
          "text": [
            "[nltk_data] Downloading package punkt to\n",
            "[nltk_data]     C:\\Users\\liana\\AppData\\Roaming\\nltk_data...\n",
            "[nltk_data]   Package punkt is already up-to-date!\n",
            "[nltk_data] Downloading package wordnet to\n",
            "[nltk_data]     C:\\Users\\liana\\AppData\\Roaming\\nltk_data...\n",
            "[nltk_data]   Package wordnet is already up-to-date!\n"
          ]
        },
        {
          "output_type": "execute_result",
          "data": {
            "text/plain": [
              "True"
            ]
          },
          "metadata": {},
          "execution_count": 23
        }
      ],
      "source": [
        "import bz2\n",
        "from collections import Counter\n",
        "import re\n",
        "import nltk\n",
        "import numpy as np\n",
        "\n",
        "nltk.download('punkt')\n",
        "nltk.download('wordnet')"
      ]
    },
    {
      "cell_type": "markdown",
      "metadata": {
        "id": "uDztgZgHMaMP"
      },
      "source": [
        "### Data Preprocessing"
      ]
    },
    {
      "cell_type": "markdown",
      "metadata": {
        "id": "gcvRlphbPFMg"
      },
      "source": [
        "[Amazon Reviews on Kaggle](https://www.kaggle.com/datasets/bittlingmayer/amazonreviews?resource=download)"
      ]
    },
    {
      "cell_type": "code",
      "execution_count": null,
      "metadata": {
        "id": "qcrCGYqaL7B1"
      },
      "outputs": [],
      "source": [
        "train_file = bz2.BZ2File('./LongShortTermMemory/amazon_reviews/train.ft.txt.bz2')\n",
        "test_file = bz2.BZ2File('./LongShortTermMemory/amazon_reviews/test.ft.txt.bz2')"
      ]
    },
    {
      "cell_type": "code",
      "execution_count": null,
      "metadata": {
        "id": "E0fDzJABPY9J"
      },
      "outputs": [],
      "source": [
        "train_file = train_file.readlines()\n",
        "test_file = test_file.readlines()"
      ]
    },
    {
      "cell_type": "code",
      "execution_count": null,
      "metadata": {
        "colab": {
          "base_uri": "https://localhost:8080/"
        },
        "id": "4ZBUhkTiPkFx",
        "outputId": "64a053b1-97ef-4d66-a467-4a4b6f6a8e01"
      },
      "outputs": [
        {
          "output_type": "stream",
          "name": "stdout",
          "text": [
            "Number of training reviews: 3600000\n",
            "Number of test reviews: 400000\n"
          ]
        }
      ],
      "source": [
        "print(f\"Number of training reviews: {str(len(train_file))}\")\n",
        "print(f\"Number of test reviews: {str(len(test_file))}\")"
      ]
    },
    {
      "cell_type": "code",
      "execution_count": null,
      "metadata": {
        "id": "9n2EKFwfPr49"
      },
      "outputs": [],
      "source": [
        "num_train = 16\n",
        "num_test = 4\n",
        "\n",
        "train_file = [x.decode('utf-8') for x in train_file[:num_train]]\n",
        "test_file = [x.decode('utf-8') for x in test_file[:num_test]]"
      ]
    },
    {
      "cell_type": "code",
      "execution_count": null,
      "metadata": {
        "colab": {
          "base_uri": "https://localhost:8080/"
        },
        "id": "EUGTt9LrQYlt",
        "outputId": "3c25296d-8200-471a-b943-196fd2d59d3a"
      },
      "outputs": [
        {
          "output_type": "execute_result",
          "data": {
            "text/plain": [
              "'__label__2 Stuning even for the non-gamer: This sound track was beautiful! It paints the senery in your mind so well I would recomend it even to people who hate vid. game music! I have played the game Chrono Cross but out of all of the games I have ever played it has the best music! It backs away from crude keyboarding and takes a fresher step with grate guitars and soulful orchestras. It would impress anyone who cares to listen! ^_^\\n'"
            ]
          },
          "metadata": {},
          "execution_count": 28
        }
      ],
      "source": [
        "train_file[0]"
      ]
    },
    {
      "cell_type": "code",
      "execution_count": null,
      "metadata": {
        "id": "EQkKRw6zQbLT"
      },
      "outputs": [],
      "source": [
        "# Extracting labels from sentence\n",
        "\n",
        "train_labels = [0 if x.split(' ')[0] == '__label__1' else 1 for x in train_file] # First token on whitespace split is label\n",
        "train_sentences = [x.split(' ', 1)[1].lower() for x in train_file]\n",
        "\n",
        "test_labels = [0 if x.split(' ')[0] == '__label__1' else 1 for x in test_file]\n",
        "test_sentences = [x.split(' ', 1)[1].lower() for x in test_file]"
      ]
    },
    {
      "cell_type": "code",
      "execution_count": null,
      "metadata": {
        "id": "XT7Wc8F4TYYw"
      },
      "outputs": [],
      "source": [
        "# Cleaning data\n",
        "\n",
        "def clean_data(corpus):\n",
        "  for s in corpus:\n",
        "    s = re.sub('\\d', '0', s) # Replace all digits with 0\n",
        "    # Substitute URLs with <url> as it is irrelevant in most cases\n",
        "    if 'www.' in s or 'http:' in s or 'https:' in s or '.com' in s:\n",
        "      s = re.sub(r\"([^ ]+(?<=\\.[a-z]{3}))\", \"<url>\", s)"
      ]
    },
    {
      "cell_type": "code",
      "execution_count": null,
      "metadata": {
        "id": "_hmMsKvyTW2J"
      },
      "outputs": [],
      "source": [
        "clean_data(train_sentences)\n",
        "clean_data(test_sentences)"
      ]
    },
    {
      "cell_type": "code",
      "execution_count": null,
      "metadata": {
        "id": "aioU7IXuVldu"
      },
      "outputs": [],
      "source": [
        "del train_file, test_file"
      ]
    },
    {
      "cell_type": "markdown",
      "metadata": {
        "id": "Df1poxX4Vpse"
      },
      "source": [
        "### Tokenisation"
      ]
    },
    {
      "cell_type": "code",
      "execution_count": null,
      "metadata": {
        "colab": {
          "base_uri": "https://localhost:8080/"
        },
        "id": "Bz0mnftnVniy",
        "outputId": "57bcdbc9-3028-4bb0-b064-1523b69be1da"
      },
      "outputs": [
        {
          "output_type": "stream",
          "name": "stdout",
          "text": [
            "0.0% done\n",
            "100% done\n"
          ]
        }
      ],
      "source": [
        "words = Counter() # Dict to map unique word to occurrence frequencies in corpus\n",
        "\n",
        "for i, s in enumerate(train_sentences):\n",
        "  train_sentences[i] = []\n",
        "  for word in nltk.word_tokenize(str(s)):\n",
        "    words.update([word.lower()]) # Convert all words to lower case\n",
        "    train_sentences[i].append(word)\n",
        "\n",
        "  if i % 20000 == 0:\n",
        "    print(str(i * 100 / num_train) + \"% done\")\n",
        "  \n",
        "print(\"100% done\")"
      ]
    },
    {
      "cell_type": "code",
      "execution_count": null,
      "metadata": {
        "id": "Up_EFth5warF"
      },
      "outputs": [],
      "source": [
        "# Remove typos or nonexistent words, remove those with occurrence frequency = 1\n",
        "words = {k:v for k, v in words.items() if v > 1}\n",
        "\n",
        "# Sorting words according to frequency in descending order\n",
        "words = sorted(words , key=words.get, reverse=True)\n",
        "\n",
        "# Adding padding and unknown tokens to assign an index to them\n",
        "words = ['_PAD', '_UNK'] + words\n",
        "\n",
        "# Dictionaries to store word to index mappings and vice versa\n",
        "word2idx = {o:i for i, o in enumerate(words)}\n",
        "idx2word = {i:o for i, o in enumerate(words)}"
      ]
    },
    {
      "cell_type": "code",
      "execution_count": null,
      "metadata": {
        "id": "_g9xn7q8xaeP"
      },
      "outputs": [],
      "source": [
        "for i, s in enumerate(train_sentences):\n",
        "  train_sentences[i] = [word2idx[word] if word in word2idx else word2idx['_UNK'] for word in s]\n",
        "\n",
        "for i, s in enumerate(test_sentences):\n",
        "  test_sentences[i] = [word2idx[word.lower()] if word.lower() in word2idx else word2idx['_UNK'] for word in nltk.word_tokenize(s)]"
      ]
    },
    {
      "cell_type": "code",
      "execution_count": null,
      "metadata": {
        "id": "IiDliNGx6i30"
      },
      "outputs": [],
      "source": [
        "# Defining a function that either shortens sentences or pads sentences with 0 to a fixed length\n",
        "\n",
        "def pad_input(sentences, seq_len):\n",
        "    features = np.zeros((len(sentences), seq_len),dtype=int)\n",
        "    for ii, review in enumerate(sentences):\n",
        "        if len(review) != 0:\n",
        "            features[ii, -len(review):] = np.array(review)[:seq_len]\n",
        "    return features"
      ]
    },
    {
      "cell_type": "code",
      "execution_count": null,
      "metadata": {
        "id": "uvdQqJGr69yQ"
      },
      "outputs": [],
      "source": [
        "seq_len = 200 # Length to pad/shorten sentences\n",
        "\n",
        "train_sentences = pad_input(train_sentences, seq_len)\n",
        "# test_sentences = pad_input(test_sentences, seq_len)"
      ]
    },
    {
      "cell_type": "code",
      "execution_count": null,
      "metadata": {
        "id": "BAzqjidr3ODa"
      },
      "outputs": [],
      "source": [
        "test_sentences = pad_input(test_sentences, seq_len)"
      ]
    },
    {
      "cell_type": "code",
      "execution_count": null,
      "metadata": {
        "id": "SXPB6s-f7RME"
      },
      "outputs": [],
      "source": [
        "# Convert labels into np arrays\n",
        "\n",
        "train_labels = np.array(train_labels)\n",
        "test_labels = np.array(test_labels)"
      ]
    },
    {
      "cell_type": "code",
      "execution_count": null,
      "metadata": {
        "id": "97lG8YGH7oNd"
      },
      "outputs": [],
      "source": [
        "# Validation data\n",
        "\n",
        "split_frac = 0.5\n",
        "split_id = int(split_frac * len(test_sentences))\n",
        "val_sentences, test_sentences = test_sentences[:split_id], test_sentences[split_id:]\n",
        "val_labels, test_labels = test_labels[:split_id], test_labels[split_id:]"
      ]
    },
    {
      "cell_type": "code",
      "source": [
        "torch.cuda.get_device_name()"
      ],
      "metadata": {
        "colab": {
          "base_uri": "https://localhost:8080/"
        },
        "id": "L_gJX3omDfCK",
        "outputId": "ec653536-ea1a-49d0-995b-afe5d34d8a73"
      },
      "execution_count": null,
      "outputs": [
        {
          "output_type": "execute_result",
          "data": {
            "text/plain": [
              "'NVIDIA GeForce RTX 3050 Ti Laptop GPU'"
            ]
          },
          "metadata": {},
          "execution_count": 41
        }
      ]
    },
    {
      "cell_type": "markdown",
      "metadata": {
        "id": "-2-AvgO68Aot"
      },
      "source": [
        "### Neural Network"
      ]
    },
    {
      "cell_type": "code",
      "execution_count": null,
      "metadata": {
        "id": "P0TaWXi87_35"
      },
      "outputs": [],
      "source": [
        "from torch.utils.data import TensorDataset, DataLoader\n",
        "\n",
        "train_data = TensorDataset(torch.from_numpy(train_sentences), torch.from_numpy(train_labels))\n",
        "val_data = TensorDataset(torch.from_numpy(val_sentences), torch.from_numpy(val_labels))\n",
        "test_data = TensorDataset(torch.from_numpy(test_sentences), torch.from_numpy(test_labels))\n",
        "\n",
        "batch_size = 2\n",
        "\n",
        "train_loader = DataLoader(train_data, shuffle=True, batch_size=batch_size)\n",
        "val_loader = DataLoader(val_data, shuffle=True, batch_size=batch_size)\n",
        "test_loader = DataLoader(test_data, shuffle=True, batch_size=batch_size)"
      ]
    },
    {
      "cell_type": "code",
      "source": [
        "for i, l in train_loader:\n",
        "  print(i.squeeze().shape, l.shape)\n",
        "  break"
      ],
      "metadata": {
        "colab": {
          "base_uri": "https://localhost:8080/"
        },
        "id": "kEiannA6OnPY",
        "outputId": "4c24dce8-6752-4e52-e469-c4346f753917"
      },
      "execution_count": null,
      "outputs": [
        {
          "output_type": "stream",
          "name": "stdout",
          "text": [
            "torch.Size([2, 200]) torch.Size([2])\n"
          ]
        }
      ]
    },
    {
      "cell_type": "code",
      "source": [
        "device = torch.device(\"cuda\") if torch.cuda.is_available() else torch.device(\"cpu\")\n",
        "device"
      ],
      "metadata": {
        "colab": {
          "base_uri": "https://localhost:8080/"
        },
        "id": "H_3zDN1zE0As",
        "outputId": "6f882a10-f09d-4603-9dab-5e35592c67a9"
      },
      "execution_count": null,
      "outputs": [
        {
          "output_type": "execute_result",
          "data": {
            "text/plain": [
              "device(type='cuda')"
            ]
          },
          "metadata": {},
          "execution_count": 124
        }
      ]
    },
    {
      "cell_type": "code",
      "source": [
        "dataiter = iter(train_loader)\n",
        "sample_x, sample_y = dataiter.next()\n",
        "print(sample_x.shape, sample_y.shape)"
      ],
      "metadata": {
        "colab": {
          "base_uri": "https://localhost:8080/"
        },
        "id": "yuh8W19GFErR",
        "outputId": "ebc882bf-a41f-49cf-8beb-2268f1766cf5"
      },
      "execution_count": null,
      "outputs": [
        {
          "output_type": "stream",
          "name": "stdout",
          "text": [
            "torch.Size([2, 200]) torch.Size([2])\n"
          ]
        }
      ]
    },
    {
      "cell_type": "markdown",
      "source": [
        "We will train our own word embedding in the first layer."
      ],
      "metadata": {
        "id": "MZ2YM9Z2FWLF"
      }
    },
    {
      "cell_type": "code",
      "source": [
        "import torch.nn as nn"
      ],
      "metadata": {
        "id": "ASzNyXt9FO1X"
      },
      "execution_count": null,
      "outputs": []
    },
    {
      "cell_type": "markdown",
      "source": [
        "[`torch.nn.Embedding`](https://pytorch.org/docs/stable/generated/torch.nn.Embedding.html)\n",
        "<br />\n",
        "[`torch.nn.LSTM`](https://pytorch.org/docs/stable/generated/torch.nn.LSTM)\n",
        "<br />\n",
        "[`torch.nn.Dropout`](https://pytorch.org/docs/stable/generated/torch.nn.LSTM)\n",
        "<br />\n",
        "[`torch.nn.Linear`](https://pytorch.org/docs/stable/generated/torch.nn.Linear)\n",
        "<br />\n",
        "[`torch.nn.Sigmoid`](https://pytorch.org/docs/stable/generated/torch.nn.Sigmoid)\n",
        "<br />\n",
        "[Why use `batch_first=True`?](https://stackoverflow.com/questions/63822152/pytorch-rnn-is-more-efficient-with-batch-first-false)\n",
        "<br />\n",
        "[Pytorch: how and when to use Module, Sequential, ModuleList and ModuleDict](https://towardsdatascience.com/pytorch-how-and-when-to-use-module-sequential-modulelist-and-moduledict-7a54597b5f17)\n",
        "<br />\n",
        "[PyTorch - What does contiguous() do?](https://stackoverflow.com/questions/48915810/pytorch-what-does-contiguous-do)\n",
        "<br />\n",
        "[When to initialize LSTM hidden state?](https://discuss.pytorch.org/t/when-to-initialize-lstm-hidden-state/2323/20)\n",
        "<br />\n",
        "[Initialization of first hidden state in LSTM and truncated BPTT](https://discuss.pytorch.org/t/initialization-of-first-hidden-state-in-lstm-and-truncated-bptt/58384/10)"
      ],
      "metadata": {
        "id": "Szxj-o0_daZg"
      }
    },
    {
      "cell_type": "code",
      "source": [
        "from collections import OrderedDict\n",
        "\n",
        "class CustomSentimentNet(nn.Module):\n",
        "  # How many layers are needed?\n",
        "  # L1: embedding layer to train word embeddings ourselves\n",
        "  # L2: embeddings are passed into this LSTM layer for the main processing\n",
        "  # L3: outputs of the LSTM layer are extracted then passed into the dropout layer to prevent overfitting\n",
        "  # L4: regularized outputs are passed into a FC layer to make predictions\n",
        "  # L5: outputs are transformed by a sigmoid layer for classification\n",
        "\n",
        "  # What kind of inputs are needed? (For must include params)\n",
        "  \n",
        "  # Embedding\n",
        "  # Vocab size: to set the embedding dict size\n",
        "  # Embedding dimensions: to set the embedding vector size\n",
        "\n",
        "  # LSTM\n",
        "  # Input size: no. of features in input (embedding size)\n",
        "  # Hidden size: no. of features in the hidden state\n",
        "  # Number of layers: stacked on top of each other\n",
        "  # Batch first = True\n",
        "  # Dropout: dropout probability\n",
        "\n",
        "  # Dropout\n",
        "  # p: dropout probability\n",
        "  \n",
        "  # Linear\n",
        "  # Input features: each input sample size\n",
        "  # Output features: each output sample size\n",
        "\n",
        "  # Sigmoid\n",
        "  # No param\n",
        "\n",
        "  # First implementation without Sequential\n",
        "\n",
        "  def __init__(self, vocab_size, embed_size, hidden_size, output_size, n_layers, drop_prob=0.5):\n",
        "    super(CustomSentimentNet, self).__init__()\n",
        "    self.output_size = output_size\n",
        "    self.n_layers = n_layers\n",
        "    self.hidden_size = hidden_size\n",
        "\n",
        "    self.embedding = nn.Embedding(vocab_size, embed_size)\n",
        "    self.lstm = nn.LSTM(embed_size, hidden_size, n_layers, dropout=drop_prob, batch_first=True)\n",
        "    self.dropout = nn.Dropout(0.2)\n",
        "    self.fc = nn.Linear(hidden_size, output_size)\n",
        "    self.sigmoid = nn.Sigmoid()\n",
        "\n",
        "  def forward(self, x, hidden):\n",
        "    batch_size = x.size(0)\n",
        "    x = x.long()\n",
        "\n",
        "    embeds = self.embedding(x)\n",
        "    lstm_out, hidden = self.lstm(embeds, hidden)\n",
        "    lstm_out = lstm_out.contiguous().view(-1, self.hidden_size) \n",
        "    # Reshaping tensor to fit in the next FC layer\n",
        "    # For tensor (N, K), only reshape K \n",
        "    # Because only K needs to be equal to the input size \n",
        "    # When doing matrix multiplcation\n",
        "    # See FeedforwardNeuralNetwork.ipynb under section Build NN for more details\n",
        "\n",
        "    # contiguous(): rearrange the memory allocation\n",
        "    # So that it aligns with the metadata (element order)\n",
        "\n",
        "    out = self.dropout(lstm_out) # Doesn't change tensor shape so no need reshape\n",
        "    out = self.fc(out)\n",
        "    out = self.sigmoid(out)\n",
        "\n",
        "    out = out.view(batch_size, -1)\n",
        "    out = out[:, -1]\n",
        "    return out, hidden\n",
        "  \n",
        "  def init_hidden(self, batch_size):\n",
        "    weight = next(self.parameters()).data\n",
        "    hidden = (weight.new(self.n_layers, batch_size, self.hidden_size).zero_().to(device), # Hidden state\n",
        "              weight.new(self.n_layers, batch_size, self.hidden_size).zero_().to(device) # Cell state\n",
        "              )\n",
        "    # If omitted, default also initialises hidden with zeros.\n",
        "    # If zeros, no need detaching.\n",
        "    \n",
        "    return hidden"
      ],
      "metadata": {
        "id": "iy26g9-qbzyE"
      },
      "execution_count": null,
      "outputs": []
    },
    {
      "cell_type": "code",
      "source": [
        "class CustomSentimentNetSequential(nn.Module):\n",
        "  # Second implementation with Sequential\n",
        "\n",
        "  def __init__(self, vocab_size, embed_size, hidden_size, output_size, n_layers, drop_prob=0.5):\n",
        "    super(CustomSentimentNetSequential, self).__init__()\n",
        "    self.output_size = output_size\n",
        "    self.n_layers = n_layers\n",
        "    self.hidden_size = hidden_size\n",
        "\n",
        "    self.embedding = nn.Embedding(vocab_size, embed_size)\n",
        "    self.lstm = nn.LSTM(embed_size, hidden_size, n_layers, dropout=drop_prob, batch_first=True)\n",
        "\n",
        "    self.decoder = nn.Sequential(OrderedDict([\n",
        "                                              (\"dropout\", nn.Dropout(0.2)),\n",
        "                                              (\"fc\", nn.Linear(hidden_size, output_size)),\n",
        "                                              (\"sigmoid\", nn.Sigmoid())\n",
        "    ]))\n",
        "\n",
        "  def forward(self, x, hidden):\n",
        "    batch_size = x.size(0)\n",
        "    x = x.long()\n",
        "\n",
        "    embeds = self.embedding(x)\n",
        "    lstm_out, hidden = self.lstm(embeds, hidden)\n",
        "    lstm_out = lstm_out.contiguous().view(-1, self.hidden_size) \n",
        "    # Reshaping tensor to fit in the next FC layer\n",
        "    # For tensor (N, K), only reshape K \n",
        "    # Because only K needs to be equal to the input size \n",
        "    # When doing matrix multiplcation\n",
        "    # See FeedforwardNeuralNetwork.ipynb under section Build NN for more details\n",
        "\n",
        "    # contiguous(): rearrange the memory allocation\n",
        "    # So that it aligns with the metadata (element order)\n",
        "\n",
        "    out = self.decoder(lstm_out)\n",
        "\n",
        "    out = out.view(batch_size, -1)\n",
        "    out = out[:, -1]\n",
        "    return out, hidden\n",
        "  \n",
        "  def init_hidden(self, batch_size):\n",
        "    weight = next(self.parameters()).data\n",
        "    hidden = (weight.new(self.n_layers, batch_size, self.hidden_size).zero_().to(device),\n",
        "              weight.new(self.n_layers, batch_size, self.hidden_size).zero_().to(device)\n",
        "              )\n",
        "    \n",
        "    return hidden"
      ],
      "metadata": {
        "id": "McXOGlZ5LNTJ"
      },
      "execution_count": null,
      "outputs": []
    },
    {
      "cell_type": "code",
      "source": [
        "class SentimentNet(nn.Module):\n",
        "  def __init__(self, vocab_size, output_size, embedding_dim, hidden_dim, n_layers, drop_prob=0.5) -> None:\n",
        "    super(SentimentNet, self).__init__()\n",
        "    self.output_size = output_size\n",
        "    self.n_layers = n_layers\n",
        "    self.hidden_dim = hidden_dim\n",
        "\n",
        "    self.embedding = nn.Embedding(vocab_size, embedding_dim)\n",
        "    self.lstm = nn.LSTM(embedding_dim, hidden_dim, n_layers, dropout=drop_prob, batch_first=True)\n",
        "    self.dropout = nn.Dropout(0.2)\n",
        "    self.fc = nn.Linear(hidden_dim, output_size)\n",
        "    self.sigmoid = nn.Sigmoid()\n",
        "\n",
        "  def forward(self, x, hidden):\n",
        "    batch_size = x.size(0)\n",
        "    x = x.long()\n",
        "    embeds = self.embedding(x)\n",
        "    lstm_out, hidden = self.lstm(embeds, hidden)\n",
        "    lstm_out = lstm_out.contiguous().view(-1, self.hidden_dim)\n",
        "\n",
        "    out = self.dropout(lstm_out)\n",
        "    out = self.fc(out)\n",
        "    out = self.sigmoid(out)\n",
        "\n",
        "    out = out.view(batch_size, -1)\n",
        "    out = out[:,-1]\n",
        "    return out, hidden\n",
        "\n",
        "  def init_hidden(self, batch_size):\n",
        "    weight = next(self.parameters()).data\n",
        "    hidden = (weight.new(self.n_layers, batch_size, self.hidden_dim).zero_().to(device),\n",
        "              weight.new(self.n_layers, batch_size, self.hidden_dim).zero_().to(device))\n",
        "    return hidden"
      ],
      "metadata": {
        "id": "g1NVq6DYFcue"
      },
      "execution_count": null,
      "outputs": []
    },
    {
      "cell_type": "code",
      "source": [
        "vocab_size = len(word2idx) + 1\n",
        "output_size = 1 # Either 1 or 0\n",
        "embedding_dim = 2\n",
        "hidden_dim = 512\n",
        "n_layers = 2\n",
        "\n",
        "model = CustomSentimentNetSequential(vocab_size, embedding_dim, hidden_dim, output_size, n_layers)\n",
        "model.to(device)\n",
        "print(model)"
      ],
      "metadata": {
        "colab": {
          "base_uri": "https://localhost:8080/"
        },
        "id": "lRV0vZjAHwQ9",
        "outputId": "8b3a20ff-9326-4daf-a284-47db8e4e2b32"
      },
      "execution_count": null,
      "outputs": [
        {
          "output_type": "stream",
          "name": "stdout",
          "text": [
            "CustomSentimentNetSequential(\n",
            "  (embedding): Embedding(215, 2)\n",
            "  (lstm): LSTM(2, 512, num_layers=2, batch_first=True, dropout=0.5)\n",
            "  (decoder): Sequential(\n",
            "    (dropout): Dropout(p=0.2, inplace=False)\n",
            "    (fc): Linear(in_features=512, out_features=1, bias=True)\n",
            "    (sigmoid): Sigmoid()\n",
            "  )\n",
            ")\n"
          ]
        }
      ]
    },
    {
      "cell_type": "code",
      "source": [
        "lr = 0.005\n",
        "criterion = nn.BCELoss()\n",
        "optimizer = torch.optim.Adam(model.parameters(), lr=lr)"
      ],
      "metadata": {
        "id": "kXyY4w8rJJ6w"
      },
      "execution_count": null,
      "outputs": []
    },
    {
      "cell_type": "markdown",
      "source": [
        "`state_dict` = model weights in Pytorch. Can be loaded into a model with same architecture in a different script."
      ],
      "metadata": {
        "id": "2uCGN3y3JaGC"
      }
    },
    {
      "cell_type": "markdown",
      "source": [
        "[How can I fix \"ValueError: Target size (torch.Size([128])) must be the same as input size (torch.Size([128, 1]))\" error?](https://stackoverflow.com/questions/65458509/how-can-i-fix-valueerror-target-size-torch-size128-must-be-the-same-as-i)"
      ],
      "metadata": {
        "id": "E3DXIG6DNUti"
      }
    },
    {
      "cell_type": "code",
      "source": [
        "epochs = 2\n",
        "counter = 0\n",
        "print_every = 1\n",
        "clip = 5 # Prevent exploding gradient\n",
        "valid_loss_min = np.Inf\n",
        "\n",
        "model.train()\n",
        "for i in range(epochs):\n",
        "  h = model.init_hidden(batch_size)\n",
        "\n",
        "  for inputs, labels in train_loader:\n",
        "    counter += 1\n",
        "    h = tuple([e.data for e in h])\n",
        "    inputs, labels = inputs.to(device), labels.to(device) # Move to device\n",
        "    model.zero_grad()\n",
        "    output, h = model(inputs, h)\n",
        "    loss = criterion(output, labels.float())\n",
        "    loss.backward()\n",
        "    nn.utils.clip_grad_norm_(model.parameters(), clip)\n",
        "    optimizer.step()\n",
        "\n",
        "    if counter % print_every == 0:\n",
        "      val_h = model.init_hidden(batch_size)\n",
        "      val_losses = []\n",
        "      model.eval()\n",
        "      for inp, lab in val_loader:\n",
        "        val_h = tuple([each.data for each in val_h])\n",
        "        inp, lab = inp.to(device), lab.to(device)\n",
        "        out, val_h = model(inp, val_h)\n",
        "        val_loss = criterion(out.squeeze(), lab.float())\n",
        "        val_losses.append(val_loss.item())\n",
        "\n",
        "        model.train()\n",
        "        print(f\"Epoch: {i + 1}/{epochs}\", end=\" \")\n",
        "        print(f\"Step: {counter}...\", end=\" \")\n",
        "        print(f\"Loss: {loss.item():.6f}...\", end=\" \")\n",
        "        print(f\"Val Loss: {np.mean(val_losses):.6f}...\")\n",
        "\n",
        "        if np.mean(val_losses) <= valid_loss_min:\n",
        "          torch.save(model.state_dict(), './LongShortTermMemory/state_dict.pt')\n",
        "          print(f\"Validation loss decreased: ({valid_loss_min:.6f} --> {np.mean(val_losses):.6f})\")\n",
        "          valid_loss_min = np.mean(val_losses)\n"
      ],
      "metadata": {
        "colab": {
          "base_uri": "https://localhost:8080/"
        },
        "id": "NrHCDJmJJZV_",
        "outputId": "94f6cc79-7e30-4a57-ad05-d4a231c05404"
      },
      "execution_count": null,
      "outputs": [
        {
          "output_type": "stream",
          "name": "stdout",
          "text": [
            "Epoch: 1/2 Step: 1... Loss: 0.720249... Val Loss: 0.357158...\n",
            "Validation loss decreased: (inf --> 0.357158)\n",
            "Epoch: 1/2 Step: 2... Loss: 0.754341... Val Loss: 0.644065...\n",
            "Epoch: 1/2 Step: 3... Loss: 0.647314... Val Loss: 0.582035...\n",
            "Epoch: 1/2 Step: 4... Loss: 0.684829... Val Loss: 0.522448...\n",
            "Epoch: 1/2 Step: 5... Loss: 0.760815... Val Loss: 0.447348...\n",
            "Epoch: 1/2 Step: 6... Loss: 0.604214... Val Loss: 0.571272...\n",
            "Epoch: 1/2 Step: 7... Loss: 0.844182... Val Loss: 0.575474...\n",
            "Epoch: 1/2 Step: 8... Loss: 0.898300... Val Loss: 0.411876...\n",
            "Epoch: 2/2 Step: 9... Loss: 1.005435... Val Loss: 2.252388...\n",
            "Epoch: 2/2 Step: 10... Loss: 0.530621... Val Loss: 2.059506...\n",
            "Epoch: 2/2 Step: 11... Loss: 2.622728... Val Loss: 0.166789...\n",
            "Validation loss decreased: (0.357158 --> 0.166789)\n",
            "Epoch: 2/2 Step: 12... Loss: 1.408206... Val Loss: 0.634879...\n",
            "Epoch: 2/2 Step: 13... Loss: 1.175733... Val Loss: 0.788344...\n",
            "Epoch: 2/2 Step: 14... Loss: 0.202716... Val Loss: 0.208053...\n",
            "Epoch: 2/2 Step: 15... Loss: 1.155657... Val Loss: 0.504178...\n",
            "Epoch: 2/2 Step: 16... Loss: 0.162139... Val Loss: 0.148201...\n",
            "Validation loss decreased: (0.166789 --> 0.148201)\n"
          ]
        }
      ]
    },
    {
      "cell_type": "code",
      "source": [
        "# Loading the best model\n",
        "model.load_state_dict(torch.load('./LongShortTermMemory/state_dict.pt'))"
      ],
      "metadata": {
        "colab": {
          "base_uri": "https://localhost:8080/"
        },
        "id": "GLpZtjIOXyPz",
        "outputId": "0f746226-0fc2-4dc8-abff-136129690bdc"
      },
      "execution_count": null,
      "outputs": [
        {
          "output_type": "execute_result",
          "data": {
            "text/plain": [
              "<All keys matched successfully>"
            ]
          },
          "metadata": {},
          "execution_count": 156
        }
      ]
    },
    {
      "cell_type": "code",
      "source": [
        "test_losses = []\n",
        "num_correct = 0\n",
        "h = model.init_hidden(batch_size)\n",
        "\n",
        "model.eval()\n",
        "for inputs, labels in test_loader:\n",
        "  h = tuple([each.data for each in h])\n",
        "  inputs, labels = inputs.to(device), labels.to(device)\n",
        "  output, h = model(inputs, h)\n",
        "  test_loss = criterion(output.squeeze(), labels.float())\n",
        "  test_losses.append(test_loss.item())\n",
        "  pred = torch.round(output.squeeze()) # Round output to 0/1\n",
        "  correct_tensor = pred.eq(labels.float().view_as(pred))\n",
        "  correct = np.squeeze(correct_tensor.cpu().numpy())\n",
        "  num_correct += np.sum(correct)\n",
        "\n",
        "print(f\"Test loss: {np.mean(test_losses):.3f}\")\n",
        "test_acc = num_correct/len(test_loader.dataset)\n",
        "print(f\"Test accuracy: {test_acc * 100:.3f}\")"
      ],
      "metadata": {
        "colab": {
          "base_uri": "https://localhost:8080/"
        },
        "id": "2GsentpgX45U",
        "outputId": "3a12c79c-44df-424d-f31c-bc7b63f67e68"
      },
      "execution_count": null,
      "outputs": [
        {
          "output_type": "stream",
          "name": "stdout",
          "text": [
            "Test loss: 1.103\n",
            "Test accuracy: 50.000\n"
          ]
        }
      ]
    },
    {
      "cell_type": "code",
      "source": [
        ""
      ],
      "metadata": {
        "id": "rx8OxDNvbH2y"
      },
      "execution_count": null,
      "outputs": []
    }
  ],
  "metadata": {
    "accelerator": "GPU",
    "colab": {
      "name": "LongShortTermMemory.ipynb",
      "provenance": [],
      "collapsed_sections": [],
      "mount_file_id": "1CPL6_WHgoE2QOXiljJ63dADfqNxAm66M",
      "authorship_tag": "ABX9TyPeA5LED7MPdDWVgLOFKW5m",
      "include_colab_link": true
    },
    "gpuClass": "standard",
    "kernelspec": {
      "display_name": "Python 3",
      "name": "python3"
    },
    "language_info": {
      "name": "python"
    }
  },
  "nbformat": 4,
  "nbformat_minor": 0
}